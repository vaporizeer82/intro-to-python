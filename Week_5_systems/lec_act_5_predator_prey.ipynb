{
 "cells": [
  {
   "cell_type": "code",
   "execution_count": 1,
   "metadata": {
    "deletable": false,
    "editable": false
   },
   "outputs": [],
   "source": [
    "# Initialize Otter\n",
    "import otter\n",
    "grader = otter.Notebook(\"lec_act_5_predator_prey.ipynb\")"
   ]
  },
  {
   "cell_type": "markdown",
   "metadata": {},
   "source": [
    "#  Predator-prey iterative functions \n",
    "\n",
    "We're going to start implementing a simple version of the predator/prey relationship, a classic differential equations problem also known as the Lotka-Volterra equations. You don't need to know a whole lot about them, except that there are two variables to track - prey and predator - and that how the numbers of prey/predator changes depends on both the current prey values AND the predator values (the differential equations part)\n",
    "\n",
    "Resources:\n",
    "-   https://en.wikipedia.org/wiki/Lotka%E2%80%93Volterra_equations for a more general theoretical introduction\n",
    "-   https://www.kristakingmath.com/blog/predator-prey-systems a better \"what is it\" description\n",
    "-   https://scientific-python.readthedocs.io/en/latest/notebooks_rst/3_Ordinary_Differential_Equations/02_Examples/Lotka_Volterra_model.html - implementation in sci-py (which is what you should really use for this type of problem - scipy's ode solver)\n",
    "\n",
    "Also see the slides for the lab: https://docs.google.com/presentation/d/1wd1SpTJiezfroDizaFkA6UxCgMQE_A4ZKCyJoNfa0cM/edit?usp=sharing\n",
    "\n",
    "In this lecture activity: You're going to \n",
    "- practice writing a function from a function description \n",
    "- practice turning a bit of math into an iterative function\n",
    "- practice calling functions from functions\n",
    "\n",
    "\n",
    "Note: You can write the entire solver in one function. But that's a) rather hard to debug and b) can result in making the most common mistake with iterative functions - not computing the new values from the old ones."
   ]
  },
  {
   "cell_type": "code",
   "execution_count": 2,
   "metadata": {},
   "outputs": [],
   "source": [
    "# Doing the imports for you\n",
    "import numpy as np\n",
    "import matplotlib.pyplot as plt"
   ]
  },
  {
   "cell_type": "markdown",
   "metadata": {
    "deletable": false,
    "editable": false
   },
   "source": [
    "## First function - compute the new prey value from the prey and predator\n",
    "\n",
    "Function input: \n",
    "- Current prey value (number)\n",
    "- current predator value (number)\n",
    "- the parameters as a dictionary (see calling function code)\n",
    "\n",
    "Output\n",
    "- New prey value (number)\n",
    "\n",
    "Equation:\n",
    "- dprey/dt = \"Prey reproduce\" * prey - \"Prey eaten\" * prey * predator\n",
    "- prey = prey + delta_t * dprey/dt\n",
    "\n",
    "Function name: Use **compute_prey_from_prey_and_predator**"
   ]
  },
  {
   "cell_type": "code",
   "execution_count": 3,
   "metadata": {
    "tags": []
   },
   "outputs": [],
   "source": [
    "\n",
    "# TODO: Fill in the parameters (see description above). Don't forget to comment what the input paramters are\n",
    "def compute_prey_from_prey_and_predator(prey, predator, params):\n",
    "    # TODO: Calculate the new prey value from the input prey/predator values and delta t (see equation in the cell above)\n",
    "    #  Note: To get, eg, the \"Prey reproduce\" value use params[\"Prey reproduce\"].\n",
    "    \n",
    "    dprey_dt = params[\"Prey reproduce\"] * prey - params[\"Prey eaten\"] * prey * predator\n",
    "    new_prey =  prey + params[\"delta t\"] * dprey_dt\n",
    "    return new_prey\n",
    "    pass"
   ]
  },
  {
   "cell_type": "code",
   "execution_count": 4,
   "metadata": {
    "tags": []
   },
   "outputs": [
    {
     "name": "stdout",
     "output_type": "stream",
     "text": [
      "Checking prey new 90.0, should be 90\n"
     ]
    }
   ],
   "source": [
    "# Test code\n",
    "# Tie the number of time steps to the total number of days\n",
    "delta_t = 0.1\n",
    "n_days = 40\n",
    "n_time_steps = int(n_days / delta_t)\n",
    "# Store everything you need to compute the system in the one dictionary\n",
    "params = {\"Prey reproduce\":1.0,\n",
    "          \"Prey eaten\":0.02,\n",
    "          \"Predator loss\":1.2,\n",
    "          \"Predator reproduce\":0.03,\n",
    "          \"delta t\": delta_t,   # unit: days\n",
    "          \"n days\": n_days,     # unit: days\n",
    "          \"n time steps\": n_time_steps}\n",
    "\n",
    "prey_initial = 100\n",
    "predator_initial = 100\n",
    "\n",
    "prey_new = compute_prey_from_prey_and_predator(prey=prey_initial, predator=predator_initial, params=params)\n",
    "\n",
    "print(f\"Checking prey new {prey_new}, should be 90\")"
   ]
  },
  {
   "cell_type": "code",
   "execution_count": 5,
   "metadata": {
    "deletable": false,
    "editable": false
   },
   "outputs": [
    {
     "data": {
      "text/html": [
       "<p><strong><pre style='display: inline;'>prey_from_prey_and_predator</pre></strong> passed! 🎉</p>"
      ],
      "text/plain": [
       "prey_from_prey_and_predator results: All test cases passed!"
      ]
     },
     "execution_count": 5,
     "metadata": {},
     "output_type": "execute_result"
    }
   ],
   "source": [
    "grader.check(\"prey_from_prey_and_predator\")"
   ]
  },
  {
   "cell_type": "markdown",
   "metadata": {
    "deletable": false,
    "editable": false
   },
   "source": [
    "## Second function (predator)\n",
    "\n",
    "Compute the new predator value from the prey and predator.\n",
    "\n",
    "Input: \n",
    "- Current prey value (number)\n",
    "- current predator value (numer)\n",
    "- the parameters as a dictionary (see calling function)\n",
    "\n",
    "Output: \n",
    "- New predator value (number)\n",
    "\n",
    "Equation:\n",
    "- dpredator/dt = - \"Predator loss\" * predator + \"Predator reproduce\" * prey * predator\n",
    "- predator = predator + delta_t * dpredator/dt\n",
    "\n",
    "Function name\n",
    "\n",
    "Use **compute_predator_from_prey_and_predator**\n"
   ]
  },
  {
   "cell_type": "code",
   "execution_count": 6,
   "metadata": {
    "tags": []
   },
   "outputs": [],
   "source": [
    "\n",
    "# TODO: Fill in the parameters (see description above). Don't forget to comment what the input paramters are\n",
    "def compute_predator_from_prey_and_predator(prey , predator, params):\n",
    "    # TODO: Calculate the new predator value from the input prey/predator values and delta t (see equation)\n",
    "    #  Note: To get, eg, the \"Prey reproduce\" value use params[\"Prey reproduce\"].\n",
    "\n",
    "    dpredattor_dt = -params[\"Predator loss\"] * predator + params[\"Predator reproduce\"] * prey * predator\n",
    "    new_predator = predator +delta_t * dpredattor_dt\n",
    "    return new_predator\n",
    "    pass"
   ]
  },
  {
   "cell_type": "code",
   "execution_count": 7,
   "metadata": {
    "tags": []
   },
   "outputs": [
    {
     "name": "stdout",
     "output_type": "stream",
     "text": [
      "Checking predator new 118.0, should be 118\n"
     ]
    }
   ],
   "source": [
    "# Check code - uses parameters defined in question 1\n",
    "predator_new = compute_predator_from_prey_and_predator(prey=prey_initial, predator=predator_initial, params=params)\n",
    "\n",
    "print(f\"Checking predator new {predator_new}, should be 118\")"
   ]
  },
  {
   "cell_type": "code",
   "execution_count": 8,
   "metadata": {
    "deletable": false,
    "editable": false
   },
   "outputs": [
    {
     "data": {
      "text/html": [
       "<p><strong><pre style='display: inline;'>predator_from_prey_and_predator</pre></strong> passed! 🌟</p>"
      ],
      "text/plain": [
       "predator_from_prey_and_predator results: All test cases passed!"
      ]
     },
     "execution_count": 8,
     "metadata": {},
     "output_type": "execute_result"
    }
   ],
   "source": [
    "grader.check(\"predator_from_prey_and_predator\")"
   ]
  },
  {
   "cell_type": "markdown",
   "metadata": {
    "deletable": false,
    "editable": false
   },
   "source": [
    "# Third function (call both)\n",
    "\n",
    "Put the two functions together.\n",
    "\n",
    "Input: \n",
    "- Current prey value (number)\n",
    "- current predator value (numer), the parameters as a dictionary (see calling function)\n",
    "\n",
    "Output: New prey, predator values (tuple)\n",
    "\n",
    "Functionality: Should just call the two functions, one after the other\n",
    "\n",
    "Function name: use **compute_one_time_step**\n",
    "\n",
    "TODO: Once you have this working correctly make one small change - use the new prey value you calculate in the call to calculate the predator value (instead of the input prey value). How much is the result off by? This is a really, really common error and one that is difficult to catch. By writing the code this way (two functions, then calling one function after the other) you're less likely to make that mistake in the first place\n",
    "\n",
    "Don't forget to put it back to the correct answer"
   ]
  },
  {
   "cell_type": "code",
   "execution_count": 9,
   "metadata": {
    "tags": []
   },
   "outputs": [],
   "source": [
    "\n",
    "# TODO: Fill in the parameters (see description above). Don't forget to comment what the input paramters are\n",
    "def compute_one_time_step(prey, predator, params):\n",
    "    # TODO: Calculate the new prey/predator values from the input prey/predator values and delta t (see equation)\n",
    "    # Do NOT re-write the equations - call the functions you already wrote\n",
    "    new_prey = compute_prey_from_prey_and_predator(prey, predator, params)\n",
    "    new_predator = compute_predator_from_prey_and_predator(prey, predator, params)\n",
    "    return new_prey, new_predator \n",
    "    pass"
   ]
  },
  {
   "cell_type": "code",
   "execution_count": 10,
   "metadata": {
    "tags": []
   },
   "outputs": [
    {
     "name": "stdout",
     "output_type": "stream",
     "text": [
      "Checking prey new 90.0, should be 90 predator new 118.0, should be 118\n"
     ]
    }
   ],
   "source": [
    "# Test code\n",
    "prey_new2, predator_new2 = compute_one_time_step(prey_initial, predator_initial, params)\n",
    "\n",
    "print(f\"Checking prey new {prey_new2}, should be 90 predator new {predator_new2}, should be 118\")"
   ]
  },
  {
   "cell_type": "code",
   "execution_count": 11,
   "metadata": {
    "deletable": false,
    "editable": false
   },
   "outputs": [
    {
     "data": {
      "text/html": [
       "<p><strong><pre style='display: inline;'>compute_one_time_step</pre></strong> passed! 🙌</p>"
      ],
      "text/plain": [
       "compute_one_time_step results: All test cases passed!"
      ]
     },
     "execution_count": 11,
     "metadata": {},
     "output_type": "execute_result"
    }
   ],
   "source": [
    "grader.check(\"compute_one_time_step\")"
   ]
  },
  {
   "cell_type": "markdown",
   "metadata": {
    "deletable": false,
    "editable": false
   },
   "source": [
    "## Hours and collaborators\n",
    "Required for every assignment - fill out before you hand-in.\n",
    "\n",
    "Listing names and websites helps you to document who you worked with and what internet help you received in the case of any plagiarism issues. You should list names of anyone (in class or not) who has substantially helped you with an assignment - or anyone you have *helped*. You do not need to list TAs.\n",
    "\n",
    "Listing hours helps us track if the assignments are too long."
   ]
  },
  {
   "cell_type": "code",
   "execution_count": 12,
   "metadata": {
    "tags": []
   },
   "outputs": [],
   "source": [
    "\n",
    "# List of names (creates a set)\n",
    "worked_with_names = {\"none\"}\n",
    "# List of URLS TCW3 (creates a set)\n",
    "websites = {\"none\"}\n",
    "# Approximate number of hours, including lab/in-class time\n",
    "hours = .75"
   ]
  },
  {
   "cell_type": "code",
   "execution_count": 13,
   "metadata": {
    "deletable": false,
    "editable": false
   },
   "outputs": [
    {
     "data": {
      "text/html": [
       "<p><strong><pre style='display: inline;'>hours_collaborators</pre></strong> passed! 🚀</p>"
      ],
      "text/plain": [
       "hours_collaborators results: All test cases passed!"
      ]
     },
     "execution_count": 13,
     "metadata": {},
     "output_type": "execute_result"
    }
   ],
   "source": [
    "grader.check(\"hours_collaborators\")"
   ]
  },
  {
   "cell_type": "markdown",
   "metadata": {
    "deletable": false,
    "editable": false
   },
   "source": [
    "## Submission\n",
    "\n",
    "Make sure you have run all cells in your notebook in order before running the cell below, so that all images/graphs appear in the output. The cell below will generate a zip file for you to submit. **Please save before exporting!**\n",
    "\n",
    "Submit through gradescope, Lecture activity week 5, predator prey."
   ]
  },
  {
   "cell_type": "code",
   "execution_count": 14,
   "metadata": {
    "deletable": false,
    "editable": false
   },
   "outputs": [
    {
     "name": "stdout",
     "output_type": "stream",
     "text": [
      "Running your submission against local test cases...\n",
      "\n"
     ]
    },
    {
     "name": "stdout",
     "output_type": "stream",
     "text": [
      "\n"
     ]
    },
    {
     "ename": "RuntimeError",
     "evalue": "c:\\Users\\yeasshhhh\\anaconda3\\Lib\\site-packages\\zmq\\_future.py:679: RuntimeWarning: Proactor event loop does not implement add_reader family of methods required for zmq. Registering an additional selector thread for add_reader support via tornado. Use `asyncio.set_event_loop_policy(WindowsSelectorEventLoopPolicy())` to avoid this warning.\r\n  self._get_loop()\r\n",
     "output_type": "error",
     "traceback": [
      "\u001b[1;31m---------------------------------------------------------------------------\u001b[0m",
      "\u001b[1;31mRuntimeError\u001b[0m                              Traceback (most recent call last)",
      "Cell \u001b[1;32mIn[14], line 2\u001b[0m\n\u001b[0;32m      1\u001b[0m \u001b[38;5;66;03m# Save your notebook first, then run this cell to export your submission.\u001b[39;00m\n\u001b[1;32m----> 2\u001b[0m grader\u001b[38;5;241m.\u001b[39mexport(pdf\u001b[38;5;241m=\u001b[39m\u001b[38;5;28;01mFalse\u001b[39;00m, run_tests\u001b[38;5;241m=\u001b[39m\u001b[38;5;28;01mTrue\u001b[39;00m)\n",
      "File \u001b[1;32mc:\\Users\\yeasshhhh\\anaconda3\\Lib\\site-packages\\otter\\check\\utils.py:184\u001b[0m, in \u001b[0;36mgrading_mode_disabled\u001b[1;34m(wrapped, self, args, kwargs)\u001b[0m\n\u001b[0;32m    182\u001b[0m \u001b[38;5;28;01mif\u001b[39;00m \u001b[38;5;28mtype\u001b[39m(\u001b[38;5;28mself\u001b[39m)\u001b[38;5;241m.\u001b[39m_grading_mode:\n\u001b[0;32m    183\u001b[0m     \u001b[38;5;28;01mreturn\u001b[39;00m\n\u001b[1;32m--> 184\u001b[0m \u001b[38;5;28;01mreturn\u001b[39;00m wrapped(\u001b[38;5;241m*\u001b[39margs, \u001b[38;5;241m*\u001b[39m\u001b[38;5;241m*\u001b[39mkwargs)\n",
      "File \u001b[1;32mc:\\Users\\yeasshhhh\\anaconda3\\Lib\\site-packages\\otter\\check\\utils.py:166\u001b[0m, in \u001b[0;36mincompatible_with.<locals>.incompatible\u001b[1;34m(wrapped, self, args, kwargs)\u001b[0m\n\u001b[0;32m    164\u001b[0m     \u001b[38;5;28;01melse\u001b[39;00m:\n\u001b[0;32m    165\u001b[0m         \u001b[38;5;28;01mreturn\u001b[39;00m\n\u001b[1;32m--> 166\u001b[0m \u001b[38;5;28;01mreturn\u001b[39;00m wrapped(\u001b[38;5;241m*\u001b[39margs, \u001b[38;5;241m*\u001b[39m\u001b[38;5;241m*\u001b[39mkwargs)\n",
      "File \u001b[1;32mc:\\Users\\yeasshhhh\\anaconda3\\Lib\\site-packages\\otter\\check\\utils.py:217\u001b[0m, in \u001b[0;36mlogs_event.<locals>.event_logger\u001b[1;34m(wrapped, self, args, kwargs)\u001b[0m\n\u001b[0;32m    215\u001b[0m \u001b[38;5;28;01mexcept\u001b[39;00m \u001b[38;5;167;01mException\u001b[39;00m \u001b[38;5;28;01mas\u001b[39;00m e:\n\u001b[0;32m    216\u001b[0m     \u001b[38;5;28mself\u001b[39m\u001b[38;5;241m.\u001b[39m_log_event(event_type, success\u001b[38;5;241m=\u001b[39m\u001b[38;5;28;01mFalse\u001b[39;00m, error\u001b[38;5;241m=\u001b[39me)\n\u001b[1;32m--> 217\u001b[0m     \u001b[38;5;28;01mraise\u001b[39;00m e\n\u001b[0;32m    219\u001b[0m \u001b[38;5;28;01mif\u001b[39;00m ret \u001b[38;5;129;01mis\u001b[39;00m \u001b[38;5;28;01mNone\u001b[39;00m:\n\u001b[0;32m    220\u001b[0m     ret \u001b[38;5;241m=\u001b[39m LoggedEventReturnValue(\u001b[38;5;28;01mNone\u001b[39;00m)\n",
      "File \u001b[1;32mc:\\Users\\yeasshhhh\\anaconda3\\Lib\\site-packages\\otter\\check\\utils.py:213\u001b[0m, in \u001b[0;36mlogs_event.<locals>.event_logger\u001b[1;34m(wrapped, self, args, kwargs)\u001b[0m\n\u001b[0;32m    208\u001b[0m \u001b[38;5;250m\u001b[39m\u001b[38;5;124;03m\"\"\"\u001b[39;00m\n\u001b[0;32m    209\u001b[0m \u001b[38;5;124;03mRuns a method, catching any errors and logging the call. Returns the unwrapped return value\u001b[39;00m\n\u001b[0;32m    210\u001b[0m \u001b[38;5;124;03mof the wrapped function.\u001b[39;00m\n\u001b[0;32m    211\u001b[0m \u001b[38;5;124;03m\"\"\"\u001b[39;00m\n\u001b[0;32m    212\u001b[0m \u001b[38;5;28;01mtry\u001b[39;00m:\n\u001b[1;32m--> 213\u001b[0m     ret: Optional[LoggedEventReturnValue[T]] \u001b[38;5;241m=\u001b[39m wrapped(\u001b[38;5;241m*\u001b[39margs, \u001b[38;5;241m*\u001b[39m\u001b[38;5;241m*\u001b[39mkwargs)\n\u001b[0;32m    215\u001b[0m \u001b[38;5;28;01mexcept\u001b[39;00m \u001b[38;5;167;01mException\u001b[39;00m \u001b[38;5;28;01mas\u001b[39;00m e:\n\u001b[0;32m    216\u001b[0m     \u001b[38;5;28mself\u001b[39m\u001b[38;5;241m.\u001b[39m_log_event(event_type, success\u001b[38;5;241m=\u001b[39m\u001b[38;5;28;01mFalse\u001b[39;00m, error\u001b[38;5;241m=\u001b[39me)\n",
      "File \u001b[1;32mc:\\Users\\yeasshhhh\\anaconda3\\Lib\\site-packages\\otter\\check\\notebook.py:523\u001b[0m, in \u001b[0;36mNotebook.export\u001b[1;34m(self, nb_path, export_path, pdf, filtering, pagebreaks, files, display_link, force_save, run_tests)\u001b[0m\n\u001b[0;32m    520\u001b[0m         display(HTML(out_html))\n\u001b[0;32m    522\u001b[0m \u001b[38;5;28;01mif\u001b[39;00m pdf_created \u001b[38;5;129;01mor\u001b[39;00m \u001b[38;5;129;01mnot\u001b[39;00m \u001b[38;5;28mself\u001b[39m\u001b[38;5;241m.\u001b[39m_nbmeta_config\u001b[38;5;241m.\u001b[39mrequire_no_pdf_confirmation:\n\u001b[1;32m--> 523\u001b[0m     continue_export()\n\u001b[0;32m    524\u001b[0m \u001b[38;5;28;01melse\u001b[39;00m:\n\u001b[0;32m    525\u001b[0m     display_pdf_confirmation_widget(\n\u001b[0;32m    526\u001b[0m         \u001b[38;5;28mself\u001b[39m\u001b[38;5;241m.\u001b[39m_nbmeta_config\u001b[38;5;241m.\u001b[39mexport_pdf_failure_message, continue_export)\n",
      "File \u001b[1;32mc:\\Users\\yeasshhhh\\anaconda3\\Lib\\site-packages\\otter\\check\\notebook.py:505\u001b[0m, in \u001b[0;36mNotebook.export.<locals>.continue_export\u001b[1;34m()\u001b[0m\n\u001b[0;32m    503\u001b[0m \u001b[38;5;28;01mif\u001b[39;00m run_tests:\n\u001b[0;32m    504\u001b[0m     \u001b[38;5;28mprint\u001b[39m(\u001b[38;5;124m\"\u001b[39m\u001b[38;5;124mRunning your submission against local test cases...\u001b[39m\u001b[38;5;130;01m\\n\u001b[39;00m\u001b[38;5;124m\"\u001b[39m)\n\u001b[1;32m--> 505\u001b[0m     results \u001b[38;5;241m=\u001b[39m grade_zip_file(zip_path, nb_path, \u001b[38;5;28mself\u001b[39m\u001b[38;5;241m.\u001b[39m_tests_dir)\n\u001b[0;32m    506\u001b[0m     \u001b[38;5;28mprint\u001b[39m(\n\u001b[0;32m    507\u001b[0m         \u001b[38;5;124m\"\u001b[39m\u001b[38;5;124mYour submission received the following results when run against \u001b[39m\u001b[38;5;124m\"\u001b[39m \u001b[38;5;241m+\u001b[39m \\\n\u001b[0;32m    508\u001b[0m         \u001b[38;5;124m\"\u001b[39m\u001b[38;5;124mavailable test cases:\u001b[39m\u001b[38;5;130;01m\\n\u001b[39;00m\u001b[38;5;130;01m\\n\u001b[39;00m\u001b[38;5;124m\"\u001b[39m \u001b[38;5;241m+\u001b[39m indent(results\u001b[38;5;241m.\u001b[39msummary(), \u001b[38;5;124m\"\u001b[39m\u001b[38;5;124m    \u001b[39m\u001b[38;5;124m\"\u001b[39m))\n\u001b[0;32m    510\u001b[0m \u001b[38;5;28;01mif\u001b[39;00m display_link:\n\u001b[0;32m    511\u001b[0m     \u001b[38;5;66;03m# create and display output HTML\u001b[39;00m\n",
      "File \u001b[1;32mc:\\Users\\yeasshhhh\\anaconda3\\Lib\\site-packages\\otter\\check\\utils.py:103\u001b[0m, in \u001b[0;36mgrade_zip_file\u001b[1;34m(zip_path, nb_arcname, tests_dir)\u001b[0m\n\u001b[0;32m    100\u001b[0m \u001b[38;5;28mprint\u001b[39m(results\u001b[38;5;241m.\u001b[39mstdout\u001b[38;5;241m.\u001b[39mdecode(\u001b[38;5;124m\"\u001b[39m\u001b[38;5;124mutf-8\u001b[39m\u001b[38;5;124m\"\u001b[39m))\n\u001b[0;32m    102\u001b[0m \u001b[38;5;28;01mif\u001b[39;00m results\u001b[38;5;241m.\u001b[39mstderr:\n\u001b[1;32m--> 103\u001b[0m     \u001b[38;5;28;01mraise\u001b[39;00m \u001b[38;5;167;01mRuntimeError\u001b[39;00m(results\u001b[38;5;241m.\u001b[39mstderr\u001b[38;5;241m.\u001b[39mdecode(\u001b[38;5;124m\"\u001b[39m\u001b[38;5;124mutf-8\u001b[39m\u001b[38;5;124m\"\u001b[39m))\n\u001b[0;32m    105\u001b[0m \u001b[38;5;28;01mwith\u001b[39;00m \u001b[38;5;28mopen\u001b[39m(results_path, \u001b[38;5;124m\"\u001b[39m\u001b[38;5;124mrb\u001b[39m\u001b[38;5;124m\"\u001b[39m) \u001b[38;5;28;01mas\u001b[39;00m f:\n\u001b[0;32m    106\u001b[0m     results \u001b[38;5;241m=\u001b[39m dill\u001b[38;5;241m.\u001b[39mload(f)\n",
      "\u001b[1;31mRuntimeError\u001b[0m: c:\\Users\\yeasshhhh\\anaconda3\\Lib\\site-packages\\zmq\\_future.py:679: RuntimeWarning: Proactor event loop does not implement add_reader family of methods required for zmq. Registering an additional selector thread for add_reader support via tornado. Use `asyncio.set_event_loop_policy(WindowsSelectorEventLoopPolicy())` to avoid this warning.\r\n  self._get_loop()\r\n"
     ]
    }
   ],
   "source": [
    "# Save your notebook first, then run this cell to export your submission.\n",
    "grader.export(pdf=False, run_tests=True)"
   ]
  },
  {
   "cell_type": "markdown",
   "metadata": {},
   "source": [
    " "
   ]
  }
 ],
 "metadata": {
  "kernelspec": {
   "display_name": "Python 3",
   "language": "python",
   "name": "python3"
  },
  "language_info": {
   "codemirror_mode": {
    "name": "ipython",
    "version": 3
   },
   "file_extension": ".py",
   "mimetype": "text/x-python",
   "name": "python",
   "nbconvert_exporter": "python",
   "pygments_lexer": "ipython3",
   "version": "3.11.5"
  },
  "otter": {
   "OK_FORMAT": true,
   "tests": {
    "compute_one_time_step": {
     "name": "compute_one_time_step",
     "points": 1,
     "suites": [
      {
       "cases": [
        {
         "code": ">>> assert(np.isclose(prey_new, prey_new2))\n",
         "hidden": false,
         "locked": false
        },
        {
         "code": ">>> assert(np.isclose(predator_new, predator_new2))\n",
         "hidden": false,
         "locked": false
        }
       ],
       "scored": true,
       "setup": "",
       "teardown": "",
       "type": "doctest"
      }
     ]
    },
    "hours_collaborators": {
     "name": "hours_collaborators",
     "points": 1,
     "suites": [
      {
       "cases": [
        {
         "code": ">>> assert(not \"not filled out\" in worked_with_names)\n",
         "hidden": false,
         "locked": false
        },
        {
         "code": ">>> assert(not \"not filled out\" in websites)\n",
         "hidden": false,
         "locked": false
        },
        {
         "code": ">>> assert(hours > 0)\n",
         "hidden": false,
         "locked": false
        }
       ],
       "scored": true,
       "setup": "",
       "teardown": "",
       "type": "doctest"
      }
     ]
    },
    "predator_from_prey_and_predator": {
     "name": "predator_from_prey_and_predator",
     "points": 2,
     "suites": [
      {
       "cases": [
        {
         "code": ">>> assert(np.isclose(predator_new, 118))\n",
         "hidden": false,
         "locked": false
        }
       ],
       "scored": true,
       "setup": "",
       "teardown": "",
       "type": "doctest"
      }
     ]
    },
    "prey_from_prey_and_predator": {
     "name": "prey_from_prey_and_predator",
     "points": 2,
     "suites": [
      {
       "cases": [
        {
         "code": ">>> assert(np.isclose(prey_new, 90))    \n",
         "hidden": false,
         "locked": false
        }
       ],
       "scored": true,
       "setup": "",
       "teardown": "",
       "type": "doctest"
      }
     ]
    }
   }
  }
 },
 "nbformat": 4,
 "nbformat_minor": 2
}
