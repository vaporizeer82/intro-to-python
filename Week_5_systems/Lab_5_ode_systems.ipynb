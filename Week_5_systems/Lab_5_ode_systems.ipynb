{
 "cells": [
  {
   "cell_type": "code",
   "execution_count": 1,
   "metadata": {
    "deletable": false,
    "editable": false
   },
   "outputs": [],
   "source": [
    "# Initialize Otter\n",
    "import otter\n",
    "grader = otter.Notebook(\"Lab_5_ode_systems.ipynb\")"
   ]
  },
  {
   "cell_type": "markdown",
   "metadata": {},
   "source": [
    "# Predator-prey iterative functions\n",
    "\n",
    "Continuing on from lec_act_5_predator_prey - we're going to add the compute n time steps and plotting\n",
    "\n",
    "Slides for the lab: https://docs.google.com/presentation/d/1wd1SpTJiezfroDizaFkA6UxCgMQE_A4ZKCyJoNfa0cM/edit?usp=sharing"
   ]
  },
  {
   "cell_type": "code",
   "execution_count": 2,
   "metadata": {},
   "outputs": [],
   "source": [
    "# Doing the imports for you - notice scipy. You may need to install this library\n",
    "import numpy as np\n",
    "import matplotlib.pyplot as plt\n",
    "from scipy import integrate\n",
    "import pandas as pd\n",
    "import ipywidgets as ipw"
   ]
  },
  {
   "cell_type": "markdown",
   "metadata": {
    "deletable": false,
    "editable": false
   },
   "source": [
    "# Copy functions over\n",
    "\n",
    "TODO 1: Copy your three functions from lec_act_4_systems to here (compute_x_from_prey_predator and compute_one_time_step). "
   ]
  },
  {
   "cell_type": "code",
   "execution_count": 3,
   "metadata": {
    "tags": []
   },
   "outputs": [],
   "source": [
    "# compute_prey_from_prey_and_predator\n",
    "def compute_prey_from_prey_and_predator(prey , predator, params):\n",
    "    # TODO: Calculate the new prey value from the input prey/predator values and delta t (see equation in the cell above)\n",
    "    #  Note: To get, eg, the \"Prey reproduce\" value use params[\"Prey reproduce\"].\n",
    "  \n",
    "    dprey_dt = params[\"Prey reproduce\"] * prey - params[\"Prey eaten\"] * prey * predator\n",
    "    new_prey = prey + dprey_dt * params[\"delta t\"]\n",
    "\n",
    "    return new_prey\n",
    "    pass"
   ]
  },
  {
   "cell_type": "code",
   "execution_count": 4,
   "metadata": {
    "tags": []
   },
   "outputs": [],
   "source": [
    "# compute_predator_from_prey_and_predator\n",
    "def compute_predator_from_prey_and_predator(prey , predator, params):\n",
    "    # TODO: Calculate the new predator value from the input prey/predator values and delta t (see equation)\n",
    "    #  Note: To get, eg, the \"Prey reproduce\" value use params[\"Prey reproduce\"].\n",
    "\n",
    "    dpredattor_dt = -params[\"Predator loss\"] * predator + params[\"Predator reproduce\"] * prey * predator\n",
    "    new_predator = predator +delta_t * dpredattor_dt\n",
    "    return new_predator\n",
    "    pass\n"
   ]
  },
  {
   "cell_type": "code",
   "execution_count": 5,
   "metadata": {
    "tags": []
   },
   "outputs": [],
   "source": [
    "# compute_one_time_step\n",
    "def compute_one_time_step(prey, predator, params):\n",
    "    # TODO: Calculate the new prey/predator values from the input prey/predator values and delta t (see equation)\n",
    "    # Do NOT re-write the equations - call the functions you already wrote\n",
    "    new_prey = compute_prey_from_prey_and_predator(prey, predator, params)\n",
    "    new_predator = compute_predator_from_prey_and_predator(prey, predator, params)\n",
    "    return new_prey, new_predator\n",
    "    pass"
   ]
  },
  {
   "cell_type": "code",
   "execution_count": 6,
   "metadata": {
    "tags": []
   },
   "outputs": [
    {
     "name": "stdout",
     "output_type": "stream",
     "text": [
      "Checking prey new 90.0, should be 90 predator new 118.0, should be 118\n"
     ]
    }
   ],
   "source": [
    "# Check code\n",
    "delta_t = 0.1\n",
    "n_days = 40\n",
    "n_time_steps = int(n_days / delta_t)\n",
    "params = {\"Prey reproduce\":1.0,\n",
    "          \"Prey eaten\":0.02,\n",
    "          \"Predator loss\":1.2,\n",
    "          \"Predator reproduce\":0.03,\n",
    "          \"delta t\": delta_t,   # unit: days\n",
    "          \"n days\": n_days,     # unit: days\n",
    "          \"n time steps\": n_time_steps}\n",
    "\n",
    "prey_initial = 100\n",
    "predator_initial = 100\n",
    "\n",
    "prey_new, predator_new = compute_one_time_step(prey_initial, predator_initial, params)\n",
    "\n",
    "print(f\"Checking prey new {prey_new}, should be 90 predator new {predator_new}, should be 118\")"
   ]
  },
  {
   "cell_type": "code",
   "execution_count": 7,
   "metadata": {
    "deletable": false,
    "editable": false
   },
   "outputs": [
    {
     "data": {
      "text/html": [
       "<p><strong><pre style='display: inline;'>copy_correct</pre></strong> passed! 🙌</p>"
      ],
      "text/plain": [
       "copy_correct results: All test cases passed!"
      ]
     },
     "execution_count": 7,
     "metadata": {},
     "output_type": "execute_result"
    }
   ],
   "source": [
    "grader.check(\"copy_correct\")"
   ]
  },
  {
   "cell_type": "markdown",
   "metadata": {
    "deletable": false,
    "editable": false
   },
   "source": [
    "# Iterate n times\n",
    "\n",
    "Write a function that uses your **compute_one_time_step** to calculate how the prey and predator values change over time."
   ]
  },
  {
   "cell_type": "code",
   "execution_count": 8,
   "metadata": {
    "tags": []
   },
   "outputs": [
    {
     "name": "stdout",
     "output_type": "stream",
     "text": [
      "[0.  0.1 0.2 0.3 0.4 0.5 0.6 0.7 0.8 0.9]\n"
     ]
    }
   ],
   "source": [
    "# EXAMPLE CODE\n",
    "# Computing and storing values for an iterative system. \n",
    "# Equation: x_i+1 = x_i + dx\n",
    "\n",
    "start_x = 0\n",
    "dx = 0.1\n",
    "n_timesteps_example = 10\n",
    "\n",
    "# Place to put the data\n",
    "keep_values = np.zeros((n_timesteps_example,))\n",
    "\n",
    "cur_x = start_x  # you don't really have to do this, but the code looks \"cleaner\" this way (and you don't override the start value)\n",
    "for i in range(0, n_timesteps_example):\n",
    "    # This will put the starting value in the first column\n",
    "    keep_values[i] = cur_x\n",
    "\n",
    "    # Now update x - \n",
    "    #  the one on the left is the value at the next time step, the one on the right is the current time step\n",
    "    next_x = cur_x + dx\n",
    "\n",
    "    # Now make sure that cur_x has the new value for the next loop\n",
    "    cur_x = next_x\n",
    "\n",
    "print(keep_values)"
   ]
  },
  {
   "cell_type": "code",
   "execution_count": 9,
   "metadata": {
    "tags": []
   },
   "outputs": [],
   "source": [
    "# Note that you could use either the number of time steps OR total time for the last parameter\n",
    "#  Timesteps is a bit safer because at least you know it will only go for so many time steps...\n",
    "def calculate_n_time_steps(prey_initial, predator_initial, params):\n",
    "    \"\"\" Call compute one time step multiple times and store it in a numpy array\n",
    "    @param prey - the starting prey value (number)\n",
    "    @param predator - the ending predator value (number)\n",
    "    @param params - the four parameters of the Lotka-Volterra system, plus delta t and time step, in a dictionary\n",
    "    @return prey, predator values as a 2xtimesteps numpy array\n",
    "    \"\"\"\n",
    "    # TODO:\n",
    "    #   Allocate a 2xn time steps numpy array to put the data in\n",
    "    #   Set the first element of that data to the initial prey/predator values\n",
    "    #   for the remaining values\n",
    "    #     Calculate the next from the previous\n",
    "    #     Store the next values in the array\n",
    "    #   return the array\n",
    "\n",
    "    n_timesteps = params[\"n time steps\"]\n",
    "    data = np.zeros((2, n_timesteps))\n",
    "    data[0, 0] = prey_initial\n",
    "    data[1, 0] = predator_initial\n",
    "    for i in range(1, n_timesteps):\n",
    "        data[0, i], data[1, i] = compute_one_time_step(data[0, i-1], data[1, i-1], params)\n",
    "    return data\n",
    "    pass\n"
   ]
  },
  {
   "cell_type": "code",
   "execution_count": 10,
   "metadata": {},
   "outputs": [],
   "source": [
    "# Note that you could use either the number of time steps OR total time for the last parameter\n",
    "#  Timesteps is a bit safer because at least you know it will only go for so many time steps...\n",
    "def calculate_n_time_steps(prey_initial, predator_initial, params):\n",
    "    \"\"\" Call compute one time step multiple times and store it in a numpy array\n",
    "    @param prey - the starting prey value (number)\n",
    "    @param predator - the ending predator value (number)\n",
    "    @param params - the four parameters of the Lotka-Volterra system, plus delta t and time step, in a dictionary\n",
    "    @return prey, predator values as a 2xtimesteps numpy array\n",
    "    \"\"\"\n",
    "    # TODO:\n",
    "    #   Allocate a 2xn time steps numpy array to put the data in\n",
    "    #   Set the first element of that data to the initial prey/predator values\n",
    "    #   for the remaining values\n",
    "    #     Calculate the next from the previous\n",
    "    #     Store the next values in the array\n",
    "    #   return the array\n",
    "\n",
    "    n_time_steps = params[\"n time steps\"]\n",
    "    current_prey = prey_initial\n",
    "    current_pred = predator_initial\n",
    "    prey = np.zeros((n_time_steps,))\n",
    "    pred = np.zeros((n_time_steps,))\n",
    "\n",
    "    for i in range(0, n_time_steps):\n",
    "        prey[i] = current_prey\n",
    "        pred[i] = current_pred\n",
    "        prey_new, predator_new = compute_one_time_step(current_prey, current_pred, params)\n",
    "        current_prey = prey_new\n",
    "        current_pred = predator_new\n",
    "\n",
    "\n",
    "    output = np.vstack((prey,pred))\n",
    "    return(output)\n"
   ]
  },
  {
   "cell_type": "code",
   "execution_count": 11,
   "metadata": {
    "tags": []
   },
   "outputs": [
    {
     "name": "stdout",
     "output_type": "stream",
     "text": [
      "Shape of new_populations_check should be 2 x 400, is (2, 400)\n",
      "Last time step should be [-1.10352058e-04  2.17613504e-01], is [-1.10352058e-04  2.17613504e-01]\n"
     ]
    }
   ],
   "source": [
    "new_populations_check = calculate_n_time_steps(prey_initial=prey_initial, predator_initial=predator_initial, params=params)\n",
    "\n",
    "print(f\"Shape of new_populations_check should be 2 x {params['n time steps']}, is {new_populations_check.shape}\")\n",
    "\n",
    "print(f\"Last time step should be [-1.10352058e-04  2.17613504e-01], is {new_populations_check[:, -1]}\")\n"
   ]
  },
  {
   "cell_type": "code",
   "execution_count": 12,
   "metadata": {
    "deletable": false,
    "editable": false
   },
   "outputs": [
    {
     "data": {
      "text/html": [
       "<p><strong><pre style='display: inline;'>compute_n_time_steps</pre></strong> passed! 💯</p>"
      ],
      "text/plain": [
       "compute_n_time_steps results: All test cases passed!"
      ]
     },
     "execution_count": 12,
     "metadata": {},
     "output_type": "execute_result"
    }
   ],
   "source": [
    "grader.check(\"compute_n_time_steps\")"
   ]
  },
  {
   "cell_type": "markdown",
   "metadata": {
    "deletable": false,
    "editable": false
   },
   "source": [
    "<!-- BEGIN QUESTION -->\n",
    "\n",
    "# Plot the predator/prey results (Euler)\n"
   ]
  },
  {
   "cell_type": "code",
   "execution_count": 13,
   "metadata": {
    "tags": []
   },
   "outputs": [],
   "source": [
    "# Plot the prey and predator cycles. \n",
    "def plot_results(axs, prey_pred_values, params):\n",
    "    \"\"\" plot the results of running the system\n",
    "    @param axs - the axes to plot in\n",
    "    @param prey_pred_values - x y values in a 2xn numpy array\n",
    "    @param params - the four parameters of the Lotka-Volterra system, plus delta t and time step\n",
    "    @return Nothing\n",
    "    \"\"\"\n",
    "\n",
    "    ts = np.linspace(0, params[\"delta t\"] * params[\"n time steps\"], params[\"n time steps\"])\n",
    "    axs.plot(ts, prey_pred_values[0, :], '-k', label=\"Prey\")\n",
    "    axs.plot(ts, prey_pred_values[1, :], ':g', label=\"Predator\")\n",
    "    \n",
    "    axs.set_xlabel('Days')\n",
    "    axs.set_ylabel('Population')\n",
    "\n",
    "    axs.set_title(f\"d prey = {params['Prey reproduce']} x - {params['Prey eaten']} x y\\nd pred = {-params['Predator loss']} y + {params['Predator reproduce']} x y\")\n",
    "    axs.legend()"
   ]
  },
  {
   "cell_type": "code",
   "execution_count": 14,
   "metadata": {
    "tags": []
   },
   "outputs": [
    {
     "data": {
      "image/png": "[encoded data removed]",
      "text/plain": [
       "<Figure size 400x400 with 1 Axes>"
      ]
     },
     "metadata": {},
     "output_type": "display_data"
    }
   ],
   "source": [
    "# TODO - notice that the number of prey/predators is creeping up - this is because Euler integration is not\n",
    "#. very accurate.\n",
    "# TODO Try changing delta_t - if you make it smaller, what happens to the creep? What if you make it bigger?\n",
    "delta_t = 0.0001\n",
    "n_days = 40\n",
    "n_time_steps = int(n_days / delta_t)\n",
    "params_full = {\"Prey reproduce\":1.0,\n",
    "          \"Prey eaten\":0.01,\n",
    "          \"Predator loss\":1.2,\n",
    "          \"Predator reproduce\":0.02,\n",
    "          \"delta t\": delta_t,   # day\n",
    "          \"n days\": n_days,     # unit: days\n",
    "          \"n time steps\":n_time_steps}\n",
    "\n",
    "new_populations_full = calculate_n_time_steps(prey_initial=prey_initial, predator_initial=predator_initial, params=params_full)\n",
    "\n",
    "nrows = 1\n",
    "ncols = 1\n",
    "_, axs = plt.subplots(nrows, ncols, figsize=(4, 4))\n",
    "\n",
    "plot_results(axs, new_populations_full, params_full)\n"
   ]
  },
  {
   "cell_type": "code",
   "execution_count": 15,
   "metadata": {
    "tags": []
   },
   "outputs": [
    {
     "name": "stdout",
     "output_type": "stream",
     "text": [
      "This is a manually-graded question; there is no grader.check() function. See rubric and slides for more information on expected output.\n"
     ]
    }
   ],
   "source": [
    "# Manual grade\n",
    "with smaller dlta_t sizes the system both variables would grow with time. with a finer resolution, the plot looked identical to the one for the ode solution.\n",
    "print(\"This is a manually-graded question; there is no grader.check() function. See rubric and slides for more information on expected output.\")"
   ]
  },
  {
   "cell_type": "markdown",
   "metadata": {
    "deletable": false,
    "editable": false
   },
   "source": [
    "<!-- END QUESTION -->\n",
    "\n",
    "# Using the ODE solver\n",
    "\n",
    "TODO: look over the instructions here first: https://scientific-python.readthedocs.io/en/latest/notebooks_rst/3_Ordinary_Differential_Equations/02_Examples/Lotka_Volterra_model.html\n",
    "\n",
    "This is an example of how generalization makes things a bit confusing - the function passed TO the ode solver to calculate the derivitive is defined by\n",
    "- what the current input value is. Because the ode solver can work in any dimension, this is a numpy array. In our case, we only have two dimensions. But it's up to us to \"unpack\" the numpy array into our variables\n",
    "- the current time with which to calculate the derivative. For example, if dx/dt = t * x + 3, then this would be the t. In our case, the derivatives do NOT depend on t, just prey/predator values, so we can ignore t\n",
    "- one (or more) parameters specified by YOU, the caller. This is how you get \"arbitrary\" values into your function...\n",
    "\n",
    "In the example in the link above, they pass in each \"user\" parameter (alpha, beta, delta, gamma) as an individual paramter, using the args = () mechanism. We are just going to pass all of our parameters in as a dictionary, as we did above. Note that this is (somewhat) slower because of doing the key/value extraction every call\n",
    "\n",
    "- The derivative function should return a numpy array of the same dimension as the input array\n",
    "\n",
    "Optional: use the args=(a,b,g,d) approach instead.\n",
    "\n",
    "TODO: Fill in the predator_prey_derivative function"
   ]
  },
  {
   "cell_type": "code",
   "execution_count": 16,
   "metadata": {
    "tags": []
   },
   "outputs": [],
   "source": [
    "def predator_prey_derivative(prey_predator, t, params):\n",
    "    \"\"\" Slightly modified version of the derivative function from the scipy example\n",
    "    @param prey_predator is current prey and predator as a tuple (X in the example above)\n",
    "    @param t is ignored/not used in the predator/prey derivative - but if dx/dt DID depend on t, then here it is\n",
    "    @param params - our params from before (instead of alpha, beta, delta, gamma) \"\"\"\n",
    "    prey, predator = prey_predator   # Cute trick to get x and y out of the tuple\n",
    "\n",
    "    # TODO dprey_dt should be dprey_dt from your compute_prey_from_prey_and_predator (no multiplication by dt)\n",
    "    #  Note: The t in the input equation is t, NOT dt - so do NOT use it in your equation\n",
    "    # params[\"Prey reproduce\"] will be the same as in the previous bit of code\n",
    "    dprey_dt = params[\"Prey reproduce\"] * prey - params[\"Prey eaten\"] * prey * predator\n",
    "    dpredator_dt = -params[\"Predator loss\"] * predator + params[\"Predator reproduce\"] * prey * predator\n",
    "\n",
    "    \n",
    "    # Stitch back together into a numpy array\n",
    "    return np.array([dprey_dt, dpredator_dt])"
   ]
  },
  {
   "cell_type": "code",
   "execution_count": 17,
   "metadata": {
    "tags": []
   },
   "outputs": [
    {
     "name": "stdout",
     "output_type": "stream",
     "text": [
      "Derivative result is [ 0. 80.], should be [ 0. 80.]\n"
     ]
    }
   ],
   "source": [
    "# Check the function works\n",
    "# Huh, what's with the _? This is Python syntax for: There's a variable, but I don't care what value it is\n",
    "derivs = predator_prey_derivative(np.array([prey_initial, predator_initial]), _, params_full)\n",
    "\n",
    "print(f\"Derivative result is {derivs}, should be [ 0. 80.]\")"
   ]
  },
  {
   "cell_type": "code",
   "execution_count": 18,
   "metadata": {
    "deletable": false,
    "editable": false
   },
   "outputs": [
    {
     "data": {
      "text/html": [
       "<p><strong><pre style='display: inline;'>ode_solver_deriv_fc</pre></strong> passed! 🙌</p>"
      ],
      "text/plain": [
       "ode_solver_deriv_fc results: All test cases passed!"
      ]
     },
     "execution_count": 18,
     "metadata": {},
     "output_type": "execute_result"
    }
   ],
   "source": [
    "grader.check(\"ode_solver_deriv_fc\")"
   ]
  },
  {
   "cell_type": "markdown",
   "metadata": {
    "deletable": false,
    "editable": false
   },
   "source": [
    "# Call the ODE solver and plot the results\n",
    "\n",
    "If your function is correct then this will just work.\n",
    "\n",
    "TODO: Try doing args=(params, 3) instead of what's there; what kind of error do you get? Why? Can you change the derivative function to \"fix\" it?\n",
    "\n",
    "TODO: Take out the transpose. What error do you get? Why?"
   ]
  },
  {
   "cell_type": "code",
   "execution_count": 19,
   "metadata": {
    "tags": []
   },
   "outputs": [],
   "source": [
    "# Now do plot results with the ode solver\n",
    "\n",
    "#  Notice that we turn the input into a numpy array - ode can operate on any numpy array of any dimension...\n",
    "prey_predator_initial = np.array([prey_initial, predator_initial])\n",
    "\n",
    "# The ode solver will return the prey/predator values at these time values\n",
    "#   Note that the ode solver will do the integration between those time steps...\n",
    "ts = np.linspace(0.0, params_full[\"n days\"], params_full[\"n time steps\"])"
   ]
  },
  {
   "cell_type": "code",
   "execution_count": 20,
   "metadata": {
    "tags": []
   },
   "outputs": [
    {
     "ename": "TypeError",
     "evalue": "predator_prey_derivative() takes 3 positional arguments but 4 were given",
     "output_type": "error",
     "traceback": [
      "\u001b[1;31m---------------------------------------------------------------------------\u001b[0m",
      "\u001b[1;31mTypeError\u001b[0m                                 Traceback (most recent call last)",
      "Cell \u001b[1;32mIn[20], line 11\u001b[0m\n\u001b[0;32m      1\u001b[0m \u001b[38;5;66;03m# Crazy python parameter passing\u001b[39;00m\n\u001b[0;32m      2\u001b[0m \u001b[38;5;66;03m#  First argument is a function that takes in x,y and returns dx/dt and dy/dt\u001b[39;00m\n\u001b[0;32m      3\u001b[0m \u001b[38;5;66;03m#  Second argument is the t values to calculate for\u001b[39;00m\n\u001b[1;32m   (...)\u001b[0m\n\u001b[0;32m      8\u001b[0m \u001b[38;5;66;03m# TODO: Try adding another parameter to the tuple - what error do you get and why?\u001b[39;00m\n\u001b[0;32m      9\u001b[0m \u001b[38;5;66;03m#.TODO: Try passing in prey_initial, predator_intial instead of prey_predator_initial - what kind of error do you get?\u001b[39;00m\n\u001b[0;32m     10\u001b[0m new_populations_ode \u001b[38;5;241m=\u001b[39m integrate\u001b[38;5;241m.\u001b[39modeint(predator_prey_derivative, prey_predator_initial, ts, args\u001b[38;5;241m=\u001b[39m(params_full, ))\n\u001b[1;32m---> 11\u001b[0m to_do \u001b[38;5;241m=\u001b[39m integrate\u001b[38;5;241m.\u001b[39modeint(predator_prey_derivative, prey_predator_initial, ts, args\u001b[38;5;241m=\u001b[39m(params_full, \u001b[38;5;241m12\u001b[39m ))\n\u001b[0;32m     12\u001b[0m second_todo \u001b[38;5;241m=\u001b[39m integrate\u001b[38;5;241m.\u001b[39modeint(predator_prey_derivative, prey_initial, predator_initial, ts, args\u001b[38;5;241m=\u001b[39m(params_full, ))\n\u001b[0;32m     14\u001b[0m \u001b[38;5;28mprint\u001b[39m(\u001b[38;5;124mf\u001b[39m\u001b[38;5;124m\"\u001b[39m\u001b[38;5;124mLast value is \u001b[39m\u001b[38;5;132;01m{\u001b[39;00mnew_populations_ode[\u001b[38;5;241m-\u001b[39m\u001b[38;5;241m1\u001b[39m]\u001b[38;5;132;01m}\u001b[39;00m\u001b[38;5;124m, should be [65.2xxx 51.0xxx]\u001b[39m\u001b[38;5;124m\"\u001b[39m)\n",
      "File \u001b[1;32mc:\\Users\\yeasshhhh\\anaconda3\\Lib\\site-packages\\scipy\\integrate\\_odepack_py.py:242\u001b[0m, in \u001b[0;36modeint\u001b[1;34m(func, y0, t, args, Dfun, col_deriv, full_output, ml, mu, rtol, atol, tcrit, h0, hmax, hmin, ixpr, mxstep, mxhnil, mxordn, mxords, printmessg, tfirst)\u001b[0m\n\u001b[0;32m    240\u001b[0m t \u001b[38;5;241m=\u001b[39m copy(t)\n\u001b[0;32m    241\u001b[0m y0 \u001b[38;5;241m=\u001b[39m copy(y0)\n\u001b[1;32m--> 242\u001b[0m output \u001b[38;5;241m=\u001b[39m _odepack\u001b[38;5;241m.\u001b[39modeint(func, y0, t, args, Dfun, col_deriv, ml, mu,\n\u001b[0;32m    243\u001b[0m                          full_output, rtol, atol, tcrit, h0, hmax, hmin,\n\u001b[0;32m    244\u001b[0m                          ixpr, mxstep, mxhnil, mxordn, mxords,\n\u001b[0;32m    245\u001b[0m                          \u001b[38;5;28mint\u001b[39m(\u001b[38;5;28mbool\u001b[39m(tfirst)))\n\u001b[0;32m    246\u001b[0m \u001b[38;5;28;01mif\u001b[39;00m output[\u001b[38;5;241m-\u001b[39m\u001b[38;5;241m1\u001b[39m] \u001b[38;5;241m<\u001b[39m \u001b[38;5;241m0\u001b[39m:\n\u001b[0;32m    247\u001b[0m     warning_msg \u001b[38;5;241m=\u001b[39m _msgs[output[\u001b[38;5;241m-\u001b[39m\u001b[38;5;241m1\u001b[39m]] \u001b[38;5;241m+\u001b[39m \u001b[38;5;124m\"\u001b[39m\u001b[38;5;124m Run with full_output = 1 to get quantitative information.\u001b[39m\u001b[38;5;124m\"\u001b[39m\n",
      "\u001b[1;31mTypeError\u001b[0m: predator_prey_derivative() takes 3 positional arguments but 4 were given"
     ]
    }
   ],
   "source": [
    "# Crazy python parameter passing\n",
    "#  First argument is a function that takes in x,y and returns dx/dt and dy/dt\n",
    "#  Second argument is the t values to calculate for\n",
    "#  Third argument is an (optional) list of parameters - could be more than one - that get passed to the\n",
    "#    list of parameters following X, t in predator_prey_derivative\n",
    "#  Yes, this is terribly confusing, and can cause a lot of errors that are challenging to debug\n",
    "#   Python quirks - args needs to be a tuple. To make a tuple with one element, add a comma\n",
    "# TODO: Try adding another parameter to the tuple - what error do you get and why?\n",
    "#.TODO: Try passing in prey_initial, predator_intial instead of prey_predator_initial - what kind of error do you get?\n",
    "new_populations_ode = integrate.odeint(predator_prey_derivative, prey_predator_initial, ts, args=(params_full, ))\n",
    "to_do = integrate.odeint(predator_prey_derivative, prey_predator_initial, ts, args=(params_full, 12 ))\n",
    "second_todo = integrate.odeint(predator_prey_derivative, prey_initial, predator_initial, ts, args=(params_full, ))\n",
    "\n",
    "print(f\"Last value is {new_populations_ode[-1]}, should be [65.2xxx 51.0xxx]\")"
   ]
  },
  {
   "cell_type": "code",
   "execution_count": null,
   "metadata": {
    "tags": []
   },
   "outputs": [
    {
     "data": {
      "image/png": "[encoded data removed]",
      "text/plain": [
       "<Figure size 400x400 with 1 Axes>"
      ]
     },
     "metadata": {},
     "output_type": "display_data"
    }
   ],
   "source": [
    "nrows = 1\n",
    "ncols = 1\n",
    "_, axs = plt.subplots(nrows, ncols, figsize=(4, 4))\n",
    "\n",
    "# Why is this a transpose? Because ode outputs as an n_time_steps X 2 array\n",
    "plot_results(axs, np.transpose(new_populations_ode), params_full)"
   ]
  },
  {
   "cell_type": "code",
   "execution_count": null,
   "metadata": {
    "tags": []
   },
   "outputs": [
    {
     "name": "stdout",
     "output_type": "stream",
     "text": [
      "This plot is also manually graded. See rubric and slides for more information on expected output.\n"
     ]
    }
   ],
   "source": [
    "# Manual grade\n",
    "print(\"This plot is also manually graded. See rubric and slides for more information on expected output.\")"
   ]
  },
  {
   "cell_type": "code",
   "execution_count": null,
   "metadata": {
    "deletable": false,
    "editable": false
   },
   "outputs": [
    {
     "data": {
      "text/html": [
       "<p><strong><pre style='display: inline;'>plot_ode_solver</pre></strong> passed! 🚀</p>"
      ],
      "text/plain": [
       "plot_ode_solver results: All test cases passed!"
      ]
     },
     "execution_count": 33,
     "metadata": {},
     "output_type": "execute_result"
    }
   ],
   "source": [
    "grader.check(\"plot_ode_solver\")"
   ]
  },
  {
   "cell_type": "markdown",
   "metadata": {
    "deletable": false,
    "editable": false
   },
   "source": [
    "## Hours and collaborators\n",
    "Required for every assignment - fill out before you hand-in.\n",
    "\n",
    "Listing names and websites helps you to document who you worked with and what internet help you received in the case of any plagiarism issues. You should list names of anyone (in class or not) who has substantially helped you with an assignment - or anyone you have *helped*. You do not need to list TAs.\n",
    "\n",
    "Listing hours helps us track if the assignments are too long."
   ]
  },
  {
   "cell_type": "code",
   "execution_count": null,
   "metadata": {
    "tags": []
   },
   "outputs": [],
   "source": [
    "\n",
    "# List of names (creates a set)\n",
    "worked_with_names = {\"none\"}\n",
    "# List of URLS TCW3 (creates a set)\n",
    "websites = {\"none\"}\n",
    "# Approximate number of hours, including lab/in-class time\n",
    "hours = 1.5"
   ]
  },
  {
   "cell_type": "code",
   "execution_count": null,
   "metadata": {
    "deletable": false,
    "editable": false
   },
   "outputs": [],
   "source": [
    "grader.check(\"hours_collaborators\")"
   ]
  },
  {
   "cell_type": "markdown",
   "metadata": {
    "deletable": false,
    "editable": false
   },
   "source": [
    "## Submission\n",
    "\n",
    "Make sure you have run all cells in your notebook in order before running the cell below, so that all images/graphs appear in the output. The cell below will generate a zip file for you to submit. **Please save before exporting!**\n",
    "\n",
    "Submit through gradescope, Lab 4: Iterative Systems"
   ]
  },
  {
   "cell_type": "code",
   "execution_count": null,
   "metadata": {
    "deletable": false,
    "editable": false
   },
   "outputs": [],
   "source": [
    "# Save your notebook first, then run this cell to export your submission.\n",
    "grader.export(pdf=False, run_tests=True)"
   ]
  },
  {
   "cell_type": "markdown",
   "metadata": {},
   "source": [
    " "
   ]
  }
 ],
 "metadata": {
  "kernelspec": {
   "display_name": "Python 3",
   "language": "python",
   "name": "python3"
  },
  "language_info": {
   "codemirror_mode": {
    "name": "ipython",
    "version": 3
   },
   "file_extension": ".py",
   "mimetype": "text/x-python",
   "name": "python",
   "nbconvert_exporter": "python",
   "pygments_lexer": "ipython3",
   "version": "3.11.5"
  },
  "otter": {
   "OK_FORMAT": true,
   "tests": {
    "compute_n_time_steps": {
     "name": "compute_n_time_steps",
     "points": 5,
     "suites": [
      {
       "cases": [
        {
         "code": ">>> assert(new_populations_check.shape[0] == 2)\n",
         "hidden": false,
         "locked": false
        },
        {
         "code": ">>> assert(new_populations_check.shape[1] == params['n time steps'])\n",
         "hidden": false,
         "locked": false
        },
        {
         "code": ">>> assert(np.isclose(new_populations_check[0, -1], -1.10352058e-04))\n",
         "hidden": false,
         "locked": false
        },
        {
         "code": ">>> assert(np.isclose(new_populations_check[1, -1], 2.17613504e-01))\n",
         "hidden": false,
         "locked": false
        }
       ],
       "scored": true,
       "setup": "",
       "teardown": "",
       "type": "doctest"
      }
     ]
    },
    "copy_correct": {
     "name": "copy_correct",
     "points": 1,
     "suites": [
      {
       "cases": [
        {
         "code": ">>> assert(np.isclose(prey_new, 90))    \n",
         "hidden": false,
         "locked": false
        },
        {
         "code": ">>> assert(np.isclose(predator_new, 118))\n",
         "hidden": false,
         "locked": false
        }
       ],
       "scored": true,
       "setup": "",
       "teardown": "",
       "type": "doctest"
      }
     ]
    },
    "hours_collaborators": {
     "name": "hours_collaborators",
     "points": 1,
     "suites": [
      {
       "cases": [
        {
         "code": ">>> assert(not \"not filled out\" in worked_with_names)\n",
         "hidden": false,
         "locked": false
        },
        {
         "code": ">>> assert(not \"not filled out\" in websites)\n",
         "hidden": false,
         "locked": false
        },
        {
         "code": ">>> assert(hours > 0)\n",
         "hidden": false,
         "locked": false
        }
       ],
       "scored": true,
       "setup": "",
       "teardown": "",
       "type": "doctest"
      }
     ]
    },
    "ode_solver_deriv_fc": {
     "name": "ode_solver_deriv_fc",
     "points": 2,
     "suites": [
      {
       "cases": [
        {
         "code": ">>> assert(np.isclose(predator_prey_derivative(np.array([prey_initial, predator_initial]), _, params_full)[0], 0.0))\n",
         "hidden": false,
         "locked": false
        },
        {
         "code": ">>> assert(np.isclose(predator_prey_derivative(np.array([prey_initial, predator_initial]), _, params_full)[1], 80))\n",
         "hidden": false,
         "locked": false
        }
       ],
       "scored": true,
       "setup": "",
       "teardown": "",
       "type": "doctest"
      }
     ]
    },
    "plot_ode_solver": {
     "name": "plot_ode_solver",
     "points": 1,
     "suites": [
      {
       "cases": [
        {
         "code": ">>> assert(np.isclose(new_populations_ode[-1, 0], 65.200863, atol=0.1))\n",
         "hidden": false,
         "locked": false
        },
        {
         "code": ">>> assert(np.isclose(new_populations_ode[-1, 1], 51.062375, atol=0.1))\n",
         "hidden": false,
         "locked": false
        }
       ],
       "scored": true,
       "setup": "",
       "teardown": "",
       "type": "doctest"
      }
     ]
    }
   }
  }
 },
 "nbformat": 4,
 "nbformat_minor": 2
}
