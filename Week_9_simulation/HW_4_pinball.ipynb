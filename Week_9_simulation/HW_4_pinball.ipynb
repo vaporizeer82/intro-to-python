{
 "cells": [
  {
   "cell_type": "code",
   "execution_count": 113,
   "metadata": {
    "deletable": false,
    "editable": false
   },
   "outputs": [],
   "source": [
    "# Initialize Otter\n",
    "import otter\n",
    "grader = otter.Notebook(\"HW_4_pinball.ipynb\")"
   ]
  },
  {
   "cell_type": "markdown",
   "metadata": {},
   "source": [
    "# HWK 4 pinball simulation\n",
    "\n",
    "The full pinball simulation: slides https://docs.google.com/presentation/d/1fNTOc_4YXfBkQ_ko9X8eQqAgK3Opnn9c02i72sVDqKU/edit?usp=sharing\n",
    "\n",
    "Full pinball \n",
    " - position and velocity with Euler simulation (lecture activity, compute_next_step)\n",
    " - stop when ball passes below y=0 (lab, simulate_pinball version 1)\n",
    " - \"Bouncing\" off of the top and side walls (lab, outside_xx_wall, handle bounce, simulate_pinball version 1)\n",
    " - \"Bouncing\" off of bumpers (homework)\n",
    "\n",
    "Week 1: \n",
    "- Circular \"bumpers\" OR a wall at an angle (circular bumpers add extra credit)\n",
    "- [optional] Some bumpers will impart an acceleration to the pinball\n",
    "- [optional] Add damping\n",
    "\n",
    "Week 2: Some simple calculations\n",
    "- Length of path pinball travels\n",
    "- Integral of vx and vy\n"
   ]
  },
  {
   "cell_type": "code",
   "execution_count": 114,
   "metadata": {},
   "outputs": [],
   "source": [
    "# The usual imports\n",
    "import numpy as np\n",
    "import matplotlib.pyplot as plt"
   ]
  },
  {
   "cell_type": "code",
   "execution_count": 115,
   "metadata": {},
   "outputs": [
    {
     "name": "stdout",
     "output_type": "stream",
     "text": [
      "The autoreload extension is already loaded. To reload it, use:\n",
      "  %reload_ext autoreload\n"
     ]
    }
   ],
   "source": [
    "# These commands will force JN to actually re-load the external file when you re-execute the import command\n",
    "%load_ext autoreload\n",
    "%autoreload 2"
   ]
  },
  {
   "cell_type": "markdown",
   "metadata": {
    "deletable": false,
    "editable": false
   },
   "source": [
    "<!-- BEGIN QUESTION -->\n",
    "\n",
    "## Circular bumper or angled wall: How to implement?\n",
    "\n",
    "TODO: Write code to handle a circular bumper OR an angled wall\n",
    "\n",
    "- decide which functions/what the format of the functions should be written to handle a bumper or angled wall\n",
    "- decide how you will represent a bumper or an angled wall\n",
    "\n",
    "Note: You'll add tests and simulation and plotting in the following questions\n",
    "\n",
    "This is a manually graded question"
   ]
  },
  {
   "cell_type": "markdown",
   "metadata": {},
   "source": [
    "**TODO:** \n",
    "\n",
    "Use this cell to describe how you are implementing your bumper or angled wall routines\n",
    "- How are you representing the bumper/angled wall?\n",
    "- What functions are you creating and why? What are the function inputs and outputs?\n"
   ]
  },
  {
   "cell_type": "code",
   "execution_count": 116,
   "metadata": {
    "tags": []
   },
   "outputs": [],
   "source": [
    "# Imports from week 5\n",
    "# This bit of code tells Jupyter notebooks to also look in the week_6_optimization folder for files\n",
    "import os\n",
    "import sys\n",
    "\n",
    "# If you want them...\n",
    "sys.path.insert(0, os.path.abspath('../Week_5_matrices'))"
   ]
  },
  {
   "cell_type": "code",
   "execution_count": 117,
   "metadata": {
    "tags": []
   },
   "outputs": [],
   "source": [
    "from pinball_routines import acceleration_due_to_gravity, compute_next_step, outside_wall, reflect_wall,outside_left_wall, outside_right_wall, outside_top_wall"
   ]
  },
  {
   "cell_type": "code",
   "execution_count": 118,
   "metadata": {},
   "outputs": [
    {
     "ename": "IndentationError",
     "evalue": "unexpected indent (1938533498.py, line 14)",
     "output_type": "error",
     "traceback": [
      "\u001b[1;36m  Cell \u001b[1;32mIn[118], line 14\u001b[1;36m\u001b[0m\n\u001b[1;33m    if r > a or r > b:\u001b[0m\n\u001b[1;37m    ^\u001b[0m\n\u001b[1;31mIndentationError\u001b[0m\u001b[1;31m:\u001b[0m unexpected indent\n"
     ]
    }
   ],
   "source": [
    "# TODO: Write additional routines here\n",
    "# You can write them here or put them in pinball_routines.py and import them here\n",
    "# Add one cell for each function\n",
    "\n",
    "#def place_bumpers(a, b, r):\n",
    "    \n",
    "    # The function takes in a and b as the x and y center of the bumper and r as the radius of the bumper\n",
    "    # Using basic cartesian coordinates, The function returns the x and y coordinates of the bumper edges\n",
    "    # While I am sure python can handle polar coords, I am not sure how to do it. I will stick to cartesian for now.\n",
    "\n",
    "    # The bumpers are intended to be symetric about the y-axis. I am not usre if I will tackle that here or later.\n",
    "\n",
    "    # Check if the radius of the bumper is too large... this could cause probelems given the symetry.\n",
    "    if r > a or r > b:\n",
    "        raise ValueError(\"The radius of the bumper is too large\")\n",
    "    \n",
    "    xs_rads = np.linspace(a,a+r,10)\n",
    "    xs_pos = xs_rads\n",
    "    xs_neg = a-(xs_rads[1::1]-a)\n",
    "    xs_neg = xs_neg[::-1]\n",
    "    xs = np.concatenate((xs_neg,xs_pos)) \n",
    "    print(xs)\n",
    "   \n",
    "    ys_squared= r**2 - (xs-a)**2\n",
    "    print(ys_squared)\n",
    "    ys_top = np.abs(np.sqrt(ys_squared)+b)\n",
    "    ys_top = ys_top[0:10]\n",
    "    print(ys_top)\n",
    "    ys_bottom = b-(ys_top[1::1]-b)\n",
    "    ys_top = ys_top[::-1]\n",
    "    ys = np.concatenate((ys_bottom,ys_top))\n",
    "    print(\"ys\")\n",
    "    print(ys)\n",
    "    bumper_edges = [xs,ys]\n",
    "    print(bumper_edges)\n",
    "    ret_bumper_edges = np.array(bumper_edges)\n",
    "    return ret_bumper_edges\n"
   ]
  },
  {
   "cell_type": "code",
   "execution_count": null,
   "metadata": {},
   "outputs": [
    {
     "ename": "SyntaxError",
     "evalue": "unmatched ')' (3434461469.py, line 1)",
     "output_type": "error",
     "traceback": [
      "\u001b[1;36m  Cell \u001b[1;32mIn[10], line 1\u001b[1;36m\u001b[0m\n\u001b[1;33m    -a)**2\u001b[0m\n\u001b[1;37m      ^\u001b[0m\n\u001b[1;31mSyntaxError\u001b[0m\u001b[1;31m:\u001b[0m unmatched ')'\n"
     ]
    }
   ],
   "source": [
    "#-a)**2\n",
    "    print(ys_squared)\n",
    "    ys_top = np.sqrt(ys_squared)+b\n",
    "    print(ys_top)\n",
    "    ys_neg = -1*ys_pos\n",
    "    ys = np.concatenate((ys_neg,ys_top))\n",
    "    print(ys)\n",
    "    bumper_edges = [xs,ys+b]\n",
    "    print(bumper_edges)\n",
    "    ret_bumper_edges = np.array(bumper_edges)\n",
    "    return ret_bumper_edges\n"
   ]
  },
  {
   "cell_type": "code",
   "execution_count": null,
   "metadata": {},
   "outputs": [],
   "source": [
    "#def bumpers_colided (ball_loc, bumper_edges):\n",
    "    # This function takes in the location of the ball and the edges of the bumpers\n",
    "    # It returns a boolean array that is true if the ball has colided with the bumper\n",
    "    # The ball_loc is a 2x1 array and the bumper_edges is a 2xN array\n",
    "    # The function will return a 1xN array of booleans\n",
    "    \n",
    "   "
   ]
  },
  {
   "cell_type": "code",
   "execution_count": 119,
   "metadata": {},
   "outputs": [
    {
     "ename": "IndentationError",
     "evalue": "unexpected indent (298586382.py, line 6)",
     "output_type": "error",
     "traceback": [
      "\u001b[1;36m  Cell \u001b[1;32mIn[119], line 6\u001b[1;36m\u001b[0m\n\u001b[1;33m    xs = bumper_edges[0]\u001b[0m\n\u001b[1;37m    ^\u001b[0m\n\u001b[1;31mIndentationError\u001b[0m\u001b[1;31m:\u001b[0m unexpected indent\n"
     ]
    }
   ],
   "source": [
    "#def plot_bumpers(bumper_edges,axes):\n",
    "    # This function takes in the edges of the bumpers and plots them\n",
    "    # The function returns nothing\n",
    "\n",
    "    # I am not sure if I should plot the bumpers as a line or as a filled circle. I will start with a line\n",
    "    xs = bumper_edges[0]\n",
    "    ys\n",
    "    axes.plot(bumper_edges[0],bumper_edges[1])\n",
    "    plt.show() "
   ]
  },
  {
   "cell_type": "code",
   "execution_count": 120,
   "metadata": {},
   "outputs": [
    {
     "name": "stdout",
     "output_type": "stream",
     "text": [
      "[array([2.5       , 2.49899334, 2.49597741, 2.49096435, 2.48397435,\n",
      "       2.47503556, 2.46418397, 2.45146327, 2.43692469, 2.42062677,\n",
      "       2.40263513, 2.38302222, 2.36186702, 2.33925471, 2.31527633,\n",
      "       2.29002845, 2.26361273, 2.23613554, 2.20770751, 2.17844311,\n",
      "       2.14846019, 2.11787947, 2.08682409, 2.0554191 , 2.02379096,\n",
      "       1.99206702, 1.96037502, 1.92884258, 1.89759667, 1.86676309,\n",
      "       1.83646602, 1.80682744, 1.77796669, 1.75      , 1.72303997,\n",
      "       1.69719516, 1.67256963, 1.64926256, 1.62736778, 1.60697345,\n",
      "       1.58816171, 1.57100829, 1.55558228, 1.54194577, 1.53015369,\n",
      "       1.52025351, 1.51228511, 1.50628056, 1.50226404, 1.50025173,\n",
      "       1.50025173, 1.50226404, 1.50628056, 1.51228511, 1.52025351,\n",
      "       1.53015369, 1.54194577, 1.55558228, 1.57100829, 1.58816171,\n",
      "       1.60697345, 1.62736778, 1.64926256, 1.67256963, 1.69719516,\n",
      "       1.72303997, 1.75      , 1.77796669, 1.80682744, 1.83646602,\n",
      "       1.86676309, 1.89759667, 1.92884258, 1.96037502, 1.99206702,\n",
      "       2.02379096, 2.0554191 , 2.08682409, 2.11787947, 2.14846019,\n",
      "       2.17844311, 2.20770751, 2.23613554, 2.26361273, 2.29002845,\n",
      "       2.31527633, 2.33925471, 2.36186702, 2.38302222, 2.40263513,\n",
      "       2.42062677, 2.43692469, 2.45146327, 2.46418397, 2.47503556,\n",
      "       2.48397435, 2.49096435, 2.49597741, 2.49899334, 2.5       ]), array([2.        , 2.03171196, 2.06329623, 2.09462562, 2.12557399,\n",
      "       2.15601672, 2.18583123, 2.21489746, 2.24309837, 2.27032041,\n",
      "       2.29645396, 2.3213938 , 2.34503951, 2.36729585, 2.38807323,\n",
      "       2.40728798, 2.42486271, 2.44072668, 2.454816  , 2.46707393,\n",
      "       2.47745112, 2.48590578, 2.49240388, 2.49691923, 2.49943367,\n",
      "       2.49993706, 2.49842739, 2.49491072, 2.48940122, 2.48192108,\n",
      "       2.47250041, 2.46117715, 2.44799689, 2.4330127 , 2.41628493,\n",
      "       2.39788092, 2.37787479, 2.35634709, 2.3333845 , 2.30907949,\n",
      "       2.28352993, 2.2568387 , 2.22911326, 2.20046527, 2.17101007,\n",
      "       2.14086628, 2.11015527, 2.0790007 , 2.04752802, 2.01586397,\n",
      "       1.98413603, 1.95247198, 1.9209993 , 1.88984473, 1.85913372,\n",
      "       1.82898993, 1.79953473, 1.77088674, 1.7431613 , 1.71647007,\n",
      "       1.69092051, 1.6666155 , 1.64365291, 1.62212521, 1.60211908,\n",
      "       1.58371507, 1.5669873 , 1.55200311, 1.53882285, 1.52749959,\n",
      "       1.51807892, 1.51059878, 1.50508928, 1.50157261, 1.50006294,\n",
      "       1.50056633, 1.50308077, 1.50759612, 1.51409422, 1.52254888,\n",
      "       1.53292607, 1.545184  , 1.55927332, 1.57513729, 1.59271202,\n",
      "       1.61192677, 1.63270415, 1.65496049, 1.6786062 , 1.70354604,\n",
      "       1.72967959, 1.75690163, 1.78510254, 1.81416877, 1.84398328,\n",
      "       1.87442601, 1.90537438, 1.93670377, 1.96828804, 2.        ])]\n"
     ]
    },
    {
     "ename": "AttributeError",
     "evalue": "'list' object has no attribute 'plot'",
     "output_type": "error",
     "traceback": [
      "\u001b[1;31m---------------------------------------------------------------------------\u001b[0m",
      "\u001b[1;31mAttributeError\u001b[0m                            Traceback (most recent call last)",
      "Cell \u001b[1;32mIn[120], line 4\u001b[0m\n\u001b[0;32m      2\u001b[0m \u001b[38;5;28mprint\u001b[39m(bumper_edges)\n\u001b[0;32m      3\u001b[0m fig, ax \u001b[38;5;241m=\u001b[39m plt\u001b[38;5;241m.\u001b[39msubplots()\n\u001b[1;32m----> 4\u001b[0m plot_bumpers(bumper_edges,ax)\n",
      "Cell \u001b[1;32mIn[17], line 6\u001b[0m, in \u001b[0;36mplot_bumpers\u001b[1;34m(axes, bumper_edges)\u001b[0m\n\u001b[0;32m      1\u001b[0m \u001b[38;5;28;01mdef\u001b[39;00m \u001b[38;5;21mplot_bumpers\u001b[39m(axes, bumper_edges):\n\u001b[0;32m      2\u001b[0m     \u001b[38;5;66;03m# This function takes in the edges of the bumpers and plots them\u001b[39;00m\n\u001b[0;32m      3\u001b[0m     \u001b[38;5;66;03m# The function returns nothing\u001b[39;00m\n\u001b[0;32m      4\u001b[0m \n\u001b[0;32m      5\u001b[0m     \u001b[38;5;66;03m# I am not sure if I should plot the bumpers as a line or as a filled circle. I will start with a line\u001b[39;00m\n\u001b[1;32m----> 6\u001b[0m     axes\u001b[38;5;241m.\u001b[39mplot(bumper_edges[\u001b[38;5;241m0\u001b[39m],bumper_edges[\u001b[38;5;241m1\u001b[39m])\n",
      "\u001b[1;31mAttributeError\u001b[0m: 'list' object has no attribute 'plot'"
     ]
    },
    {
     "data": {
      "image/png": "[encoded data removed]",
      "text/plain": [
       "<Figure size 640x480 with 1 Axes>"
      ]
     },
     "metadata": {},
     "output_type": "display_data"
    }
   ],
   "source": [
    "bumper_edges = place_bumpers(2,2,.5)\n",
    "print(bumper_edges)\n",
    "fig, ax = plt.subplots()\n",
    "plot_bumpers(bumper_edges,ax)"
   ]
  },
  {
   "cell_type": "code",
   "execution_count": 121,
   "metadata": {
    "tags": []
   },
   "outputs": [],
   "source": [
    "def place_bumpers(a, b, r):\n",
    "    \n",
    "    # The function takes in a and b as the x and y center of the bumper and r as the radius of the bumper\n",
    "    # The bumpers are intended to be symetric about the y-axis. I am not usre if I will tackle that here or later.\n",
    "\n",
    "    # Check if the radius of the bumper is too large... this could cause probelems given the symetry.\n",
    "    if r > a/2 or r > b/2:\n",
    "        raise ValueError(\"The radius of the bumper is too large\")\n",
    "\n",
    "    theta = np.linspace(0,2*np.pi, 100)\n",
    "    xs = r*np.cos(theta) + a\n",
    "    ys = r*np.sin(theta) + b\n",
    "    bumper_edges = [xs,ys]\n",
    "    return bumper_edges"
   ]
  },
  {
   "cell_type": "code",
   "execution_count": 122,
   "metadata": {},
   "outputs": [],
   "source": [
    "def plot_bumpers(axes, bumper_edges):\n",
    "    # This function takes in the edges of the bumpers and plots them\n",
    "    # The function returns nothing\n",
    "\n",
    "    # I am not sure if I should plot the bumpers as a line or as a filled circle. I will start with a line\n",
    "    axes.plot(bumper_edges[0],bumper_edges[1])\n",
    "    "
   ]
  },
  {
   "cell_type": "code",
   "execution_count": 123,
   "metadata": {},
   "outputs": [],
   "source": [
    "def bumper_colision(x_y,bumper_edges, a, b, r):\n",
    "    # This function takes in the location of the ball and the edges of the bumpers\n",
    "    # It returns true if the ball has colided with the bumper and none otherwise\n",
    "\n",
    "    if abs(x_y[0]) > a-r and x_y[0] < a+r:\n",
    "        y_bumper = np.sqrt(r**2 - (abs(x_y[0])-a)**2)\n",
    "        if x_y[1] > b-y_bumper and x_y[1] < b+y_bumper:\n",
    "            return True\n",
    "    return False\n",
    "\n",
    "\n"
   ]
  },
  {
   "cell_type": "code",
   "execution_count": 124,
   "metadata": {},
   "outputs": [],
   "source": [
    "def bumper_deflection(x_y, vx_vy, a, b, r):\n",
    "    # This function takes in the location of the ball and the edges of the bumpers\n",
    "    # It returns the new velocity of the ball after it colides with the bumper\n",
    "    # I will take the normal vector to the bumper as the direction of the deflection\n",
    "\n",
    "    radius_vec = np.array([x_y[0]-a,x_y[1]-b])\n",
    "    normal_vec = radius_vec/np.linalg.norm(radius_vec)\n",
    "    print(normal_vec)\n",
    "    bounced_vec = vx_vy - 2*np.dot(vx_vy,normal_vec)*normal_vec\n",
    "    print(bounced_vec)\n",
    "    return bounced_vec\n"
   ]
  },
  {
   "cell_type": "code",
   "execution_count": 125,
   "metadata": {},
   "outputs": [
    {
     "data": {
      "image/png": "[encoded data removed]",
      "text/plain": [
       "<Figure size 640x480 with 1 Axes>"
      ]
     },
     "metadata": {},
     "output_type": "display_data"
    }
   ],
   "source": [
    "\n",
    "# TODO: Add tests here to test your functions\n",
    "bumper_edges = place_bumpers(2,2,.5)\n",
    "fig, ax = plt.subplots()\n",
    "plot_bumpers(ax,bumper_edges)\n",
    "plt.show()"
   ]
  },
  {
   "cell_type": "code",
   "execution_count": 126,
   "metadata": {},
   "outputs": [
    {
     "name": "stdout",
     "output_type": "stream",
     "text": [
      "Test 1: True, Test 2: False, Test 3: True, Test 4: True\n"
     ]
    }
   ],
   "source": [
    "x_y = [2.2,1.7]\n",
    "test1 = bumper_colision(x_y,bumper_edges,2,2,.5)\n",
    "\n",
    "x_y = [1.55,1.7]\n",
    "test2 = bumper_colision(x_y,bumper_edges,2,2,.5)\n",
    "\n",
    "x_y = [1.544,2.2]\n",
    "test3 = bumper_colision(x_y,bumper_edges,2,2,.5)\n",
    "\n",
    "x_y = [-1.544,2.2]\n",
    "test4 = bumper_colision(x_y,bumper_edges,2,2,.5)\n",
    "\n",
    "print(f\"Test 1: {test1}, Test 2: {test2}, Test 3: {test3}, Test 4: {test4}\")\n"
   ]
  },
  {
   "cell_type": "code",
   "execution_count": 127,
   "metadata": {},
   "outputs": [
    {
     "name": "stdout",
     "output_type": "stream",
     "text": [
      "[ 0.6 -0.8]\n",
      "[ 0.96 -0.28]\n",
      "[ 0.96 -0.28]\n"
     ]
    }
   ],
   "source": [
    "reflect = bumper_deflection([2.3,1.6],[0,1],2,2,.5)\n",
    "print(reflect)\n"
   ]
  },
  {
   "cell_type": "markdown",
   "metadata": {
    "deletable": false,
    "editable": false
   },
   "source": [
    "<!-- END QUESTION -->\n",
    "\n",
    "<!-- BEGIN QUESTION -->\n",
    "\n",
    "## Simulation routine\n",
    "\n",
    "TODO: Copy over the simulation routine from your lab\n",
    "\n",
    "- Change the function's parameters so that they take in the bumpers/angled wall as well\n",
    "- Optional: If you implement acceleration or drag then describe it here \n",
    "\n",
    "This question is manually graded. Describe what you did, why, and how"
   ]
  },
  {
   "cell_type": "markdown",
   "metadata": {},
   "source": [
    "TODO: Describe your solution here"
   ]
  },
  {
   "cell_type": "code",
   "execution_count": 128,
   "metadata": {
    "tags": []
   },
   "outputs": [],
   "source": [
    "# \n"
   ]
  },
  {
   "cell_type": "code",
   "execution_count": 130,
   "metadata": {
    "tags": []
   },
   "outputs": [],
   "source": [
    "# Simulate pinball routine\n",
    "#. TODO Copy your lab solution here\n",
    "#       Change the parameters to support your circular bumpers or angled wall\n",
    "\n",
    "def simulate_pinball(starting_state, top_wall=7, left_wall=-3, right_wall=3, bumper = 0, delta_t=0.1):\n",
    "    \"\"\" Call compute one time step multiple times and store it in a numpy array\n",
    "    @param starting_state - the starting positino, velocity, acceleration\n",
    "    @param delta_t - the time step to use. Define a default t value that you've determined works well\n",
    "    @return position values as a 2xtimesteps numpy array\n",
    "    \"\"\"\n",
    "\n",
    "    # The returned array.We do not know the size, so do not pre-allocate\n",
    "    ret_pose_all = []\n",
    "    ret_velocities = []\n",
    "\n",
    "    # TODO (question 1) Use a while loop instead of the for loop\n",
    "    # Set the stopping criteria based on current state y value\n",
    "\n",
    "    # TODO (question 2)\n",
    "    # Add in each wall/top at a time (there are test routines for reach below)\n",
    "    # Use if statements, not if-else statements, because it is possible to be outside of the top and side wall...\n",
    "    ret_pose_all.append(starting_state[0])\n",
    "    ret_velocities.append(starting_state[1])\n",
    "    current_state = starting_state\n",
    "    count = 0\n",
    "    while True:\n",
    "        # Compute the next step\n",
    "        next_state = compute_next_step(current_state, delta_t)\n",
    "        if outside_top_wall(next_state[0], top_wall):\n",
    "            print(\"hit top wall\")\n",
    "            current_state[1,1] = -next_state[1,1]\n",
    "            next_state = compute_next_step(current_state, delta_t)\n",
    "        if outside_left_wall(next_state[0], left_wall):\n",
    "            print(\"hit left wall\")\n",
    "            current_state[1,0] = -next_state[1,0]\n",
    "            next_state = compute_next_step(current_state, delta_t)\n",
    "        if outside_right_wall(next_state[0], right_wall):\n",
    "            print(\"hit right wall\")\n",
    "            current_state[1,0] = -next_state[1,0]\n",
    "            next_state = compute_next_step(current_state, delta_t)\n",
    "        if bumper_colision(next_state[0],0,bumper[0], bumper[1], bumper[2]):\n",
    "            print(\"hit bumper\")\n",
    "            current_state[1,:] = bumper_deflection(next_state[0],next_state[1],bumper[0],bumper[1],bumper[2])\n",
    "            next_state = compute_next_step(current_state, delta_t)\n",
    "        # Append the current position to the list\n",
    "        #print(next_state)\n",
    "        ret_pose_all.append(next_state[0])\n",
    "        ret_velocities.append(next_state[1])\n",
    "        current_state = next_state\n",
    "        count += 1\n",
    "        #print(count)\n",
    "\n",
    "        if current_state[0,1] < 0.0:\n",
    "            break\n",
    "            \n",
    "    ret_pose_all = np.array(ret_pose_all).transpose()\n",
    "    ret_velocities = np.array(ret_velocities).transpose()\n",
    "    # All done - return the numpy array\n",
    "    return ret_pose_all, ret_velocities"
   ]
  },
  {
   "cell_type": "code",
   "execution_count": 131,
   "metadata": {
    "tags": []
   },
   "outputs": [
    {
     "name": "stdout",
     "output_type": "stream",
     "text": [
      "hit right wall\n",
      "hit bumper\n",
      "[0.98081971 0.19491714]\n",
      "[ 4.40089437 -4.35846633]\n",
      "hit right wall\n"
     ]
    }
   ],
   "source": [
    "# Time step\n",
    "delta_t = 0.01\n",
    "\n",
    "top_wall = 5.0\n",
    "left_wall = -3.0\n",
    "right_wall = 3.0\n",
    "\n",
    "# Test 1 - do you stop when you hit the floor?\n",
    "starting_state = np.zeros([3, 2])  # location, velocity, acceleration\n",
    "starting_state[0, :] = [0, 0] # Start at zero, zero\n",
    "starting_state[1, :] = [2.4, 8.5]\n",
    "starting_state[2, :] = [0.0, acceleration_due_to_gravity()]\n",
    "bumper = [2,2,.5]\n",
    "\n",
    "\n",
    "# Define your bumper/angled wall here\n",
    "# Default is top wall at y=5, left/right walls at +- 3.0\n"
   ]
  },
  {
   "cell_type": "code",
   "execution_count": 132,
   "metadata": {
    "tags": []
   },
   "outputs": [
    {
     "name": "stdout",
     "output_type": "stream",
     "text": [
      "hit right wall\n",
      "hit bumper\n",
      "[0.98081971 0.19491714]\n",
      "[ 4.40089437 -4.35846633]\n",
      "hit right wall\n"
     ]
    }
   ],
   "source": [
    "# Test the simulate_pinball function, with at least setup\n",
    "ret_poses, ret_velocities = simulate_pinball(starting_state, 5, -3, 3, bumper, delta_t)"
   ]
  },
  {
   "cell_type": "markdown",
   "metadata": {
    "deletable": false,
    "editable": false
   },
   "source": [
    "<!-- END QUESTION -->\n",
    "\n",
    "<!-- BEGIN QUESTION -->\n",
    "\n",
    "## Plot bumpers or angled wall, walls, and path\n",
    "\n",
    "TODO: Start with the plotting code from the lab\n",
    " - add plotting the bumpers or angled wall\n",
    " - pass the data structure you use to define the bumpers and walls to the plot routine\n",
    " \n",
    "TODO: Generate at least 2 plots showing the pinball doing different behaviors (must include reflection off of wall, bumper[s]/angled wall)\n",
    "\n",
    "This question is manually graded"
   ]
  },
  {
   "cell_type": "code",
   "execution_count": 133,
   "metadata": {
    "tags": []
   },
   "outputs": [],
   "source": [
    "# TODO: Create a function to plot the pinball track, walls, and bumpers\n",
    "#  Start with the lab plot\n",
    "def plot_pinball_lab(axs, ret_poses, walls, bumper_edges, total_time):\n",
    "    \"\"\" plot the results of running the system AND the \"correct\" closed form result\n",
    "    @param ret_poses - x y position values in a 2xn numpy array\n",
    "    @param walls - The walls and ceiling locations (top, left, right)\n",
    "    @param total_time - the total time the system ran (for closed form solution, delta_t * n time steps)\n",
    "    @return Nothing\n",
    "    \"\"\"\n",
    "    # The values we calculated in calculate_n_time_steps\n",
    "    axs.plot([walls[1], walls[2]], [walls[0], walls[0]], '-m', label=f\"Top wall {top_wall}\")\n",
    "    axs.plot([walls[1], walls[2]], [0, 0], '-k', label=\"Floor wall\")\n",
    "    axs.plot([walls[1], walls[1]], [0, walls[0]], '-g', label=\"Left wall\")\n",
    "    axs.plot([walls[2], walls[2]], [0, walls[0]], '-g', label=\"Right wall\")\n",
    "    axs.plot(bumper_edges[0],bumper_edges[1], '-r', label=\"Bumper\")\n",
    "    axs.plot(-bumper_edges[0],bumper_edges[1], '-r', label=\"Bumper\")\n",
    "\n",
    "    axs.plot(ret_poses[0, 0], ret_poses[1, 0], 'xr', label=\"Start\")\n",
    "    axs.plot(ret_poses[0, :], ret_poses[1, :], '.-k', label=\"Poses\")\n",
    "\n",
    "    axs.axis('equal')\n",
    "    axs.set_title(f\"Boring pinball, 0-{total_time} s\")\n",
    "    axs.legend()\n",
    "    "
   ]
  },
  {
   "cell_type": "code",
   "execution_count": 134,
   "metadata": {},
   "outputs": [
    {
     "data": {
      "image/png": "[encoded data removed]",
      "text/plain": [
       "<Figure size 1000x1000 with 1 Axes>"
      ]
     },
     "metadata": {},
     "output_type": "display_data"
    }
   ],
   "source": [
    "fig, ax = plt.subplots(figsize=(10, 10))\n",
    "\n",
    "total_time = delta_t * ret_poses.shape[1]\n",
    "plot_pinball_lab(ax, ret_poses, [5, -3, 3], bumper_edges, total_time)"
   ]
  },
  {
   "cell_type": "code",
   "execution_count": 137,
   "metadata": {
    "tags": []
   },
   "outputs": [
    {
     "name": "stdout",
     "output_type": "stream",
     "text": [
      "hit right wall\n",
      "hit bumper\n",
      "[-0.99443458 -0.1053559 ]\n",
      "[93.74715777 39.77302544]\n",
      "hit right wall\n",
      "hit top wall\n",
      "hit left wall\n",
      "hit bumper\n",
      "[-0.99834994  0.05742301]\n",
      "[-97.67712715 -28.65783961]\n",
      "hit left wall\n"
     ]
    },
    {
     "name": "stderr",
     "output_type": "stream",
     "text": [
      "C:\\Users\\yeasshhhh\\AppData\\Local\\Temp\\ipykernel_17512\\2032869220.py:6: RuntimeWarning: invalid value encountered in sqrt\n",
      "  y_bumper = np.sqrt(r**2 - (abs(x_y[0])-a)**2)\n"
     ]
    },
    {
     "data": {
      "image/png": "[encoded data removed]",
      "text/plain": [
       "<Figure size 1000x1000 with 1 Axes>"
      ]
     },
     "metadata": {},
     "output_type": "display_data"
    }
   ],
   "source": [
    "# TODO: set up different starting positions and/or pinball setups and plot them\n",
    "\n",
    "delta_t2 = 0.0001\n",
    "starting_state = np.array([[0,0.1],[100,20],[0,acceleration_due_to_gravity()]])\n",
    "ret_poses2, ret_velocities = simulate_pinball(starting_state, 5, -3, 3, bumper, delta_t2)\n",
    "total_time2 = delta_t * ret_poses2.shape[1]\n",
    "\n",
    "fig, ax = plt.subplots(figsize=(10, 10))\n",
    "plot_pinball_lab(ax, ret_poses2, [5, -3, 3], bumper_edges, total_time2)\n"
   ]
  },
  {
   "cell_type": "code",
   "execution_count": null,
   "metadata": {},
   "outputs": [],
   "source": [
    "# I originally tried to use cartesian cordinates with r^2 = x^2 + y^2. This became a unwieldy and I abandond it.\n",
    "# I google how to draw a cirlce in python and came up with the using trigonometric fucntions and this worked much better. \n",
    "# The colision detection is a little odd. ONe of the bigest problems I ran into is how python handles the square root of a negative number.\n",
    "# The collision detection sees if the ball is within the x range of the bumper and then uses the x value of the ball to calculate the y value of the bumper.\n",
    "# for bouncing the ball, I had originally taken the found a line from the center of the bumper to the xy location where the ball hts the bumper.\n",
    "# I rotated this 90 degrees to get asimulated wall by running it trough  a matix. then I reflected the ball. Thies had several cases where it would not work.\n",
    "# I found similar code online that used the normal vector to the bumper to reflect the ball. The normal vector was just the vector from the center of the bumper to the ball which I had been using but found much simpler ways to code it.\n",
    "# then the ball gets reflected so that the angles where the ball comaes in and goes out are the same about the normal vector.\n",
    "# I tried to program in symetry about the y axis but have a few bugs. Somewhere I need to either take a negative value or and abs(). "
   ]
  },
  {
   "cell_type": "code",
   "execution_count": 136,
   "metadata": {
    "tags": []
   },
   "outputs": [
    {
     "name": "stdout",
     "output_type": "stream",
     "text": [
      "This is a manually-graded question; there is no grader.check() function. See rubric and slides for more information on expected output.\n"
     ]
    }
   ],
   "source": [
    "# Manual grade\n",
    "print(\"This is a manually-graded question; there is no grader.check() function. See rubric and slides for more information on expected output.\")"
   ]
  },
  {
   "cell_type": "markdown",
   "metadata": {
    "deletable": false,
    "editable": false
   },
   "source": [
    "<!-- END QUESTION -->\n",
    "\n",
    "## Week 2 - Use integration to calculate length of path\n",
    "\n",
    "TODO: Calculate the length of the pinball path using euclidian distances"
   ]
  },
  {
   "cell_type": "code",
   "execution_count": 138,
   "metadata": {
    "tags": []
   },
   "outputs": [],
   "source": [
    "def length_of_pinball_path(poses):\n",
    "    \"\"\" Calculate the length of the pinball path using euclidian distances\n",
    "    @param poses - the x,y poses\n",
    "    @return length\"\"\"\n",
    "    # TODO: Sum up the distance between all of the pose points\n",
    "    # Reminder: Distance is sqrt(x^2 + y^2)\n",
    "\n",
    "    distances = np.zeros(poses.shape[1]-1)\n",
    "    for i in range(poses.shape[1]-1):\n",
    "        distances[i] = np.sqrt((poses[0,i+1]-poses[0,i])**2 + (poses[1,i+1]-poses[1,i])**2)\n",
    "    return np.sum(distances)\n",
    "    return 0.0\n",
    "    # END PROMPT \"\"\""
   ]
  },
  {
   "cell_type": "code",
   "execution_count": 139,
   "metadata": {
    "tags": []
   },
   "outputs": [],
   "source": [
    "# TODO For these tests use this starting state\n",
    "#  - do NOT place a bumper/wall in the path - it should just go up and down\n",
    "#  - Use the given starting position and velocity\n",
    "#  - Use a delta t of 0.01\n",
    "#  - Do NOT do damping\n",
    "starting_state = np.zeros([3, 2])  # location, velocity, acceleration\n",
    "starting_state[0, :] = [0, 0] # Start at zero, zero\n",
    "# Velocity - mostly up with a bit of x noise\n",
    "starting_state[1, :] = [0.5, 3.5]\n",
    "starting_state[2, :] = [0.0, acceleration_due_to_gravity()]\n",
    "\n",
    "# TODO: call your simulate routine with  delta_t = 0.01 and the above starting state\n",
    "\n",
    "ret_poses, velocities = simulate_pinball(starting_state, 5, -3, 3, [0,0,0], 0.01)\n",
    "# END PROMPT \"\"\"\n"
   ]
  },
  {
   "cell_type": "code",
   "execution_count": 140,
   "metadata": {
    "tags": []
   },
   "outputs": [
    {
     "name": "stdout",
     "output_type": "stream",
     "text": [
      "Distance traveled 1.3862984861585559, expected 1.386298\n"
     ]
    }
   ],
   "source": [
    "# poses check - \n",
    "len_path = (length_of_pinball_path(ret_poses))\n",
    "print(f\"Distance traveled {len_path}, expected 1.386298\")"
   ]
  },
  {
   "cell_type": "code",
   "execution_count": 141,
   "metadata": {
    "deletable": false,
    "editable": false
   },
   "outputs": [
    {
     "data": {
      "text/html": [
       "<p><strong><pre style='display: inline;'>integrate_path</pre></strong> passed! 🎉</p>"
      ],
      "text/plain": [
       "integrate_path results: All test cases passed!"
      ]
     },
     "execution_count": 141,
     "metadata": {},
     "output_type": "execute_result"
    }
   ],
   "source": [
    "grader.check(\"integrate_path\")"
   ]
  },
  {
   "cell_type": "markdown",
   "metadata": {
    "deletable": false,
    "editable": false
   },
   "source": [
    "## Integrate x velocity and y velocity\n",
    "\n",
    "TODO: Calculate the total relative distance the pinball traveled in x and y by integrating the velocity in x and y\n",
    "- TODO: Change your simulation code so it returns velocities in addition to poses\n",
    "- Call trapz with the vx values, using a fixed dx (delta_t) (this is the integral)"
   ]
  },
  {
   "cell_type": "code",
   "execution_count": 142,
   "metadata": {
    "tags": []
   },
   "outputs": [],
   "source": [
    "# EXAMPLE CODE\n",
    "# To return the velocities in addition to the poses you want to\n",
    "#   1) replicate your code for storing the positions, only this time, store the velocities\n",
    "#   2) return the velocities as well as the positions\n",
    "#   3) extract the velocities out\n",
    "\n",
    "# There's two ways to do this, either as a 4xn array (get the velocities out afterwards, or two 2xn arrays)\n",
    "n = 10\n",
    "ret_vals = np.zeros((4, n))  # storing x, y, vx, vy in each column\n",
    "x = 0\n",
    "y = 0\n",
    "vx = 0.1\n",
    "vy = 0.2\n",
    "state = np.zeros((2, 2))\n",
    "state[0, :] = [x, y]    # First row is position\n",
    "state[1, :] = [vx, vy]  # Second row is velocity\n",
    "for i in range(0, n):\n",
    "    ret_vals[0:2, i] = state[0, :]   # put the current state position in the first two rows\n",
    "    ret_vals[2:4, i] = state[1, :]   # put the current state position in the 3rd and fourth rows\n",
    "\n",
    "    # Increment state\n",
    "    state[0, :] = state[0, :] + state[1, :] * 0.1\n",
    "# return ret_vals\n",
    "    \n",
    "# Calling function\n",
    "poses = ret_vals[0:2, :]\n",
    "vels = ret_vals[2:4, :]\n",
    "\n",
    "# OR\n",
    "ret_poses = np.zeros((2, n))  # storing x, y in each column\n",
    "ret_vels = np.zeros((2, n))  # storing vx, vy in each column\n",
    "x = 0\n",
    "y = 0\n",
    "vx = 0.1\n",
    "vy = 0.2\n",
    "state = np.zeros((2, 2))\n",
    "state[0, :] = [x, y]    # First row is position\n",
    "state[1, :] = [vx, vy]  # Second row is velocity\n",
    "for i in range(0, n):\n",
    "    ret_poses[0:2, i] = state[0, :]   # put the current state position in the first two rows\n",
    "    ret_vels[0:2, i] = state[1, :]   # put the current state position in the 3rd and fourth rows\n",
    "\n",
    "    # Increment state\n",
    "    state[0, :] = state[0, :] + state[1, :] * 0.1\n",
    "\n",
    "# return ret_poses, ret_vels\n",
    "# poses, vels = func()\n"
   ]
  },
  {
   "cell_type": "code",
   "execution_count": 143,
   "metadata": {
    "tags": []
   },
   "outputs": [],
   "source": [
    "def integral_of_path_velocity(velocities, delta_t):\n",
    "    \"\"\" Calculate the x and y distance traveled of the pinball path by integrating the velocities\n",
    "    @param velocities - the vx,vy velocities at each time step\n",
    "    @param delta_t - the sampling used to generate the velocities\n",
    "    @return integral of vx, integral of vy\"\"\"\n",
    "    # TODO: Calculate the integral of vx and vy\n",
    "    # Note: You'll want trapz because these are samples of the velocity function\n",
    "\n",
    "    integral_x = np.trapz(velocities[0,:], dx=delta_t)\n",
    "    integral_y = np.trapz(velocities[1,:], dx=delta_t)\n",
    "    \n",
    "    return integral_x, integral_y\n",
    "    # END PROMPT \"\"\""
   ]
  },
  {
   "cell_type": "code",
   "execution_count": 144,
   "metadata": {
    "tags": []
   },
   "outputs": [
    {
     "name": "stdout",
     "output_type": "stream",
     "text": [
      "Integral of x velocity 0.365, expected 0.365\n",
      "Integral of y velocity -0.05620999999999904, expected -0.056209\n"
     ]
    }
   ],
   "source": [
    "# This needs to be a 2xn array of the velocities at each time step\n",
    "ret_velocities = velocities\n",
    "# END PROMPT \"\"\"\n",
    "\n",
    "# Note - make sure you're using the starting state given in the path integration\n",
    "integral_x, integral_y = integral_of_path_velocity(ret_velocities, delta_t)\n",
    "print(f\"Integral of x velocity {integral_x}, expected 0.365\")\n",
    "print(f\"Integral of y velocity {integral_y}, expected -0.056209\")"
   ]
  },
  {
   "cell_type": "code",
   "execution_count": 145,
   "metadata": {
    "deletable": false,
    "editable": false
   },
   "outputs": [
    {
     "data": {
      "text/html": [
       "<p><strong><pre style='display: inline;'>integrate_velocity</pre></strong> passed! 💯</p>"
      ],
      "text/plain": [
       "integrate_velocity results: All test cases passed!"
      ]
     },
     "execution_count": 145,
     "metadata": {},
     "output_type": "execute_result"
    }
   ],
   "source": [
    "grader.check(\"integrate_velocity\")"
   ]
  },
  {
   "cell_type": "markdown",
   "metadata": {
    "deletable": false,
    "editable": false
   },
   "source": [
    "## Hours and collaborators\n",
    "Required for every assignment - fill out before you hand-in.\n",
    "\n",
    "Listing names and websites helps you to document who you worked with and what internet help you received in the case of any plagiarism issues. You should list names of anyone (in class or not) who has substantially helped you with an assignment - or anyone you have *helped*. You do not need to list TAs.\n",
    "\n",
    "Listing hours helps us track if the assignments are too long."
   ]
  },
  {
   "cell_type": "code",
   "execution_count": 147,
   "metadata": {
    "tags": []
   },
   "outputs": [],
   "source": [
    "\n",
    "# List of names (creates a set)\n",
    "worked_with_names = {\"none\"}\n",
    "# List of URLS TCW3 (creates a set)\n",
    "websites = {\"<https://stackoverflow.com/questions/54543170/angle-reflexion-for-bouncing-ball-in-a-circle>\"}\n",
    "# Approximate number of hours, including lab/in-class time\n",
    "hours = 14"
   ]
  },
  {
   "cell_type": "code",
   "execution_count": 148,
   "metadata": {
    "deletable": false,
    "editable": false
   },
   "outputs": [
    {
     "data": {
      "text/html": [
       "<p><strong><pre style='display: inline;'>hours_collaborators</pre></strong> passed! 🌈</p>"
      ],
      "text/plain": [
       "hours_collaborators results: All test cases passed!"
      ]
     },
     "execution_count": 148,
     "metadata": {},
     "output_type": "execute_result"
    }
   ],
   "source": [
    "grader.check(\"hours_collaborators\")"
   ]
  },
  {
   "cell_type": "markdown",
   "metadata": {
    "deletable": false,
    "editable": false
   },
   "source": [
    "## Submission\n",
    "\n",
    "Make sure you have run all cells in your notebook in order before running the cell below, so that all images/graphs appear in the output. The cell below will generate a zip file for you to submit. **Please save before exporting!**\n",
    "\n",
    "Submit through gradescope, homework 4 pinball. Don't forget pinball_routines.py"
   ]
  },
  {
   "cell_type": "code",
   "execution_count": 150,
   "metadata": {
    "deletable": false,
    "editable": false
   },
   "outputs": [
    {
     "name": "stdout",
     "output_type": "stream",
     "text": [
      "Running your submission against local test cases...\n",
      "\n"
     ]
    },
    {
     "ename": "KeyboardInterrupt",
     "evalue": "",
     "output_type": "error",
     "traceback": [
      "\u001b[1;31m---------------------------------------------------------------------------\u001b[0m",
      "\u001b[1;31mKeyboardInterrupt\u001b[0m                         Traceback (most recent call last)",
      "Cell \u001b[1;32mIn[150], line 2\u001b[0m\n\u001b[0;32m      1\u001b[0m \u001b[38;5;66;03m# Save your notebook first, then run this cell to export your submission.\u001b[39;00m\n\u001b[1;32m----> 2\u001b[0m grader\u001b[38;5;241m.\u001b[39mexport(pdf\u001b[38;5;241m=\u001b[39m\u001b[38;5;28;01mFalse\u001b[39;00m, run_tests\u001b[38;5;241m=\u001b[39m\u001b[38;5;28;01mTrue\u001b[39;00m)\n",
      "File \u001b[1;32mc:\\Users\\yeasshhhh\\anaconda3\\Lib\\site-packages\\otter\\check\\utils.py:184\u001b[0m, in \u001b[0;36mgrading_mode_disabled\u001b[1;34m(wrapped, self, args, kwargs)\u001b[0m\n\u001b[0;32m    182\u001b[0m \u001b[38;5;28;01mif\u001b[39;00m \u001b[38;5;28mtype\u001b[39m(\u001b[38;5;28mself\u001b[39m)\u001b[38;5;241m.\u001b[39m_grading_mode:\n\u001b[0;32m    183\u001b[0m     \u001b[38;5;28;01mreturn\u001b[39;00m\n\u001b[1;32m--> 184\u001b[0m \u001b[38;5;28;01mreturn\u001b[39;00m wrapped(\u001b[38;5;241m*\u001b[39margs, \u001b[38;5;241m*\u001b[39m\u001b[38;5;241m*\u001b[39mkwargs)\n",
      "File \u001b[1;32mc:\\Users\\yeasshhhh\\anaconda3\\Lib\\site-packages\\otter\\check\\utils.py:166\u001b[0m, in \u001b[0;36mincompatible_with.<locals>.incompatible\u001b[1;34m(wrapped, self, args, kwargs)\u001b[0m\n\u001b[0;32m    164\u001b[0m     \u001b[38;5;28;01melse\u001b[39;00m:\n\u001b[0;32m    165\u001b[0m         \u001b[38;5;28;01mreturn\u001b[39;00m\n\u001b[1;32m--> 166\u001b[0m \u001b[38;5;28;01mreturn\u001b[39;00m wrapped(\u001b[38;5;241m*\u001b[39margs, \u001b[38;5;241m*\u001b[39m\u001b[38;5;241m*\u001b[39mkwargs)\n",
      "File \u001b[1;32mc:\\Users\\yeasshhhh\\anaconda3\\Lib\\site-packages\\otter\\check\\utils.py:213\u001b[0m, in \u001b[0;36mlogs_event.<locals>.event_logger\u001b[1;34m(wrapped, self, args, kwargs)\u001b[0m\n\u001b[0;32m    208\u001b[0m \u001b[38;5;250m\u001b[39m\u001b[38;5;124;03m\"\"\"\u001b[39;00m\n\u001b[0;32m    209\u001b[0m \u001b[38;5;124;03mRuns a method, catching any errors and logging the call. Returns the unwrapped return value\u001b[39;00m\n\u001b[0;32m    210\u001b[0m \u001b[38;5;124;03mof the wrapped function.\u001b[39;00m\n\u001b[0;32m    211\u001b[0m \u001b[38;5;124;03m\"\"\"\u001b[39;00m\n\u001b[0;32m    212\u001b[0m \u001b[38;5;28;01mtry\u001b[39;00m:\n\u001b[1;32m--> 213\u001b[0m     ret: Optional[LoggedEventReturnValue[T]] \u001b[38;5;241m=\u001b[39m wrapped(\u001b[38;5;241m*\u001b[39margs, \u001b[38;5;241m*\u001b[39m\u001b[38;5;241m*\u001b[39mkwargs)\n\u001b[0;32m    215\u001b[0m \u001b[38;5;28;01mexcept\u001b[39;00m \u001b[38;5;167;01mException\u001b[39;00m \u001b[38;5;28;01mas\u001b[39;00m e:\n\u001b[0;32m    216\u001b[0m     \u001b[38;5;28mself\u001b[39m\u001b[38;5;241m.\u001b[39m_log_event(event_type, success\u001b[38;5;241m=\u001b[39m\u001b[38;5;28;01mFalse\u001b[39;00m, error\u001b[38;5;241m=\u001b[39me)\n",
      "File \u001b[1;32mc:\\Users\\yeasshhhh\\anaconda3\\Lib\\site-packages\\otter\\check\\notebook.py:523\u001b[0m, in \u001b[0;36mNotebook.export\u001b[1;34m(self, nb_path, export_path, pdf, filtering, pagebreaks, files, display_link, force_save, run_tests)\u001b[0m\n\u001b[0;32m    520\u001b[0m         display(HTML(out_html))\n\u001b[0;32m    522\u001b[0m \u001b[38;5;28;01mif\u001b[39;00m pdf_created \u001b[38;5;129;01mor\u001b[39;00m \u001b[38;5;129;01mnot\u001b[39;00m \u001b[38;5;28mself\u001b[39m\u001b[38;5;241m.\u001b[39m_nbmeta_config\u001b[38;5;241m.\u001b[39mrequire_no_pdf_confirmation:\n\u001b[1;32m--> 523\u001b[0m     continue_export()\n\u001b[0;32m    524\u001b[0m \u001b[38;5;28;01melse\u001b[39;00m:\n\u001b[0;32m    525\u001b[0m     display_pdf_confirmation_widget(\n\u001b[0;32m    526\u001b[0m         \u001b[38;5;28mself\u001b[39m\u001b[38;5;241m.\u001b[39m_nbmeta_config\u001b[38;5;241m.\u001b[39mexport_pdf_failure_message, continue_export)\n",
      "File \u001b[1;32mc:\\Users\\yeasshhhh\\anaconda3\\Lib\\site-packages\\otter\\check\\notebook.py:505\u001b[0m, in \u001b[0;36mNotebook.export.<locals>.continue_export\u001b[1;34m()\u001b[0m\n\u001b[0;32m    503\u001b[0m \u001b[38;5;28;01mif\u001b[39;00m run_tests:\n\u001b[0;32m    504\u001b[0m     \u001b[38;5;28mprint\u001b[39m(\u001b[38;5;124m\"\u001b[39m\u001b[38;5;124mRunning your submission against local test cases...\u001b[39m\u001b[38;5;130;01m\\n\u001b[39;00m\u001b[38;5;124m\"\u001b[39m)\n\u001b[1;32m--> 505\u001b[0m     results \u001b[38;5;241m=\u001b[39m grade_zip_file(zip_path, nb_path, \u001b[38;5;28mself\u001b[39m\u001b[38;5;241m.\u001b[39m_tests_dir)\n\u001b[0;32m    506\u001b[0m     \u001b[38;5;28mprint\u001b[39m(\n\u001b[0;32m    507\u001b[0m         \u001b[38;5;124m\"\u001b[39m\u001b[38;5;124mYour submission received the following results when run against \u001b[39m\u001b[38;5;124m\"\u001b[39m \u001b[38;5;241m+\u001b[39m \\\n\u001b[0;32m    508\u001b[0m         \u001b[38;5;124m\"\u001b[39m\u001b[38;5;124mavailable test cases:\u001b[39m\u001b[38;5;130;01m\\n\u001b[39;00m\u001b[38;5;130;01m\\n\u001b[39;00m\u001b[38;5;124m\"\u001b[39m \u001b[38;5;241m+\u001b[39m indent(results\u001b[38;5;241m.\u001b[39msummary(), \u001b[38;5;124m\"\u001b[39m\u001b[38;5;124m    \u001b[39m\u001b[38;5;124m\"\u001b[39m))\n\u001b[0;32m    510\u001b[0m \u001b[38;5;28;01mif\u001b[39;00m display_link:\n\u001b[0;32m    511\u001b[0m     \u001b[38;5;66;03m# create and display output HTML\u001b[39;00m\n",
      "File \u001b[1;32mc:\\Users\\yeasshhhh\\anaconda3\\Lib\\site-packages\\otter\\check\\utils.py:98\u001b[0m, in \u001b[0;36mgrade_zip_file\u001b[1;34m(zip_path, nb_arcname, tests_dir)\u001b[0m\n\u001b[0;32m     95\u001b[0m subprocess_env \u001b[38;5;241m=\u001b[39m {\u001b[38;5;241m*\u001b[39m\u001b[38;5;241m*\u001b[39mos\u001b[38;5;241m.\u001b[39menviron, \u001b[38;5;124m\"\u001b[39m\u001b[38;5;124mPYDEVD_DISABLE_FILE_VALIDATION\u001b[39m\u001b[38;5;124m\"\u001b[39m: \u001b[38;5;124m\"\u001b[39m\u001b[38;5;124m1\u001b[39m\u001b[38;5;124m\"\u001b[39m}\n\u001b[0;32m     97\u001b[0m \u001b[38;5;66;03m# run the command\u001b[39;00m\n\u001b[1;32m---> 98\u001b[0m results \u001b[38;5;241m=\u001b[39m run(command, env\u001b[38;5;241m=\u001b[39msubprocess_env, stdout\u001b[38;5;241m=\u001b[39mPIPE, stderr\u001b[38;5;241m=\u001b[39mPIPE)\n\u001b[0;32m    100\u001b[0m \u001b[38;5;28mprint\u001b[39m(results\u001b[38;5;241m.\u001b[39mstdout\u001b[38;5;241m.\u001b[39mdecode(\u001b[38;5;124m\"\u001b[39m\u001b[38;5;124mutf-8\u001b[39m\u001b[38;5;124m\"\u001b[39m))\n\u001b[0;32m    102\u001b[0m \u001b[38;5;28;01mif\u001b[39;00m results\u001b[38;5;241m.\u001b[39mstderr:\n",
      "File \u001b[1;32mc:\\Users\\yeasshhhh\\anaconda3\\Lib\\subprocess.py:550\u001b[0m, in \u001b[0;36mrun\u001b[1;34m(input, capture_output, timeout, check, *popenargs, **kwargs)\u001b[0m\n\u001b[0;32m    548\u001b[0m \u001b[38;5;28;01mwith\u001b[39;00m Popen(\u001b[38;5;241m*\u001b[39mpopenargs, \u001b[38;5;241m*\u001b[39m\u001b[38;5;241m*\u001b[39mkwargs) \u001b[38;5;28;01mas\u001b[39;00m process:\n\u001b[0;32m    549\u001b[0m     \u001b[38;5;28;01mtry\u001b[39;00m:\n\u001b[1;32m--> 550\u001b[0m         stdout, stderr \u001b[38;5;241m=\u001b[39m process\u001b[38;5;241m.\u001b[39mcommunicate(\u001b[38;5;28minput\u001b[39m, timeout\u001b[38;5;241m=\u001b[39mtimeout)\n\u001b[0;32m    551\u001b[0m     \u001b[38;5;28;01mexcept\u001b[39;00m TimeoutExpired \u001b[38;5;28;01mas\u001b[39;00m exc:\n\u001b[0;32m    552\u001b[0m         process\u001b[38;5;241m.\u001b[39mkill()\n",
      "File \u001b[1;32mc:\\Users\\yeasshhhh\\anaconda3\\Lib\\subprocess.py:1209\u001b[0m, in \u001b[0;36mPopen.communicate\u001b[1;34m(self, input, timeout)\u001b[0m\n\u001b[0;32m   1206\u001b[0m     endtime \u001b[38;5;241m=\u001b[39m \u001b[38;5;28;01mNone\u001b[39;00m\n\u001b[0;32m   1208\u001b[0m \u001b[38;5;28;01mtry\u001b[39;00m:\n\u001b[1;32m-> 1209\u001b[0m     stdout, stderr \u001b[38;5;241m=\u001b[39m \u001b[38;5;28mself\u001b[39m\u001b[38;5;241m.\u001b[39m_communicate(\u001b[38;5;28minput\u001b[39m, endtime, timeout)\n\u001b[0;32m   1210\u001b[0m \u001b[38;5;28;01mexcept\u001b[39;00m \u001b[38;5;167;01mKeyboardInterrupt\u001b[39;00m:\n\u001b[0;32m   1211\u001b[0m     \u001b[38;5;66;03m# https://bugs.python.org/issue25942\u001b[39;00m\n\u001b[0;32m   1212\u001b[0m     \u001b[38;5;66;03m# See the detailed comment in .wait().\u001b[39;00m\n\u001b[0;32m   1213\u001b[0m     \u001b[38;5;28;01mif\u001b[39;00m timeout \u001b[38;5;129;01mis\u001b[39;00m \u001b[38;5;129;01mnot\u001b[39;00m \u001b[38;5;28;01mNone\u001b[39;00m:\n",
      "File \u001b[1;32mc:\\Users\\yeasshhhh\\anaconda3\\Lib\\subprocess.py:1626\u001b[0m, in \u001b[0;36mPopen._communicate\u001b[1;34m(self, input, endtime, orig_timeout)\u001b[0m\n\u001b[0;32m   1622\u001b[0m \u001b[38;5;66;03m# Wait for the reader threads, or time out.  If we time out, the\u001b[39;00m\n\u001b[0;32m   1623\u001b[0m \u001b[38;5;66;03m# threads remain reading and the fds left open in case the user\u001b[39;00m\n\u001b[0;32m   1624\u001b[0m \u001b[38;5;66;03m# calls communicate again.\u001b[39;00m\n\u001b[0;32m   1625\u001b[0m \u001b[38;5;28;01mif\u001b[39;00m \u001b[38;5;28mself\u001b[39m\u001b[38;5;241m.\u001b[39mstdout \u001b[38;5;129;01mis\u001b[39;00m \u001b[38;5;129;01mnot\u001b[39;00m \u001b[38;5;28;01mNone\u001b[39;00m:\n\u001b[1;32m-> 1626\u001b[0m     \u001b[38;5;28mself\u001b[39m\u001b[38;5;241m.\u001b[39mstdout_thread\u001b[38;5;241m.\u001b[39mjoin(\u001b[38;5;28mself\u001b[39m\u001b[38;5;241m.\u001b[39m_remaining_time(endtime))\n\u001b[0;32m   1627\u001b[0m     \u001b[38;5;28;01mif\u001b[39;00m \u001b[38;5;28mself\u001b[39m\u001b[38;5;241m.\u001b[39mstdout_thread\u001b[38;5;241m.\u001b[39mis_alive():\n\u001b[0;32m   1628\u001b[0m         \u001b[38;5;28;01mraise\u001b[39;00m TimeoutExpired(\u001b[38;5;28mself\u001b[39m\u001b[38;5;241m.\u001b[39margs, orig_timeout)\n",
      "File \u001b[1;32mc:\\Users\\yeasshhhh\\anaconda3\\Lib\\threading.py:1112\u001b[0m, in \u001b[0;36mThread.join\u001b[1;34m(self, timeout)\u001b[0m\n\u001b[0;32m   1109\u001b[0m     \u001b[38;5;28;01mraise\u001b[39;00m \u001b[38;5;167;01mRuntimeError\u001b[39;00m(\u001b[38;5;124m\"\u001b[39m\u001b[38;5;124mcannot join current thread\u001b[39m\u001b[38;5;124m\"\u001b[39m)\n\u001b[0;32m   1111\u001b[0m \u001b[38;5;28;01mif\u001b[39;00m timeout \u001b[38;5;129;01mis\u001b[39;00m \u001b[38;5;28;01mNone\u001b[39;00m:\n\u001b[1;32m-> 1112\u001b[0m     \u001b[38;5;28mself\u001b[39m\u001b[38;5;241m.\u001b[39m_wait_for_tstate_lock()\n\u001b[0;32m   1113\u001b[0m \u001b[38;5;28;01melse\u001b[39;00m:\n\u001b[0;32m   1114\u001b[0m     \u001b[38;5;66;03m# the behavior of a negative timeout isn't documented, but\u001b[39;00m\n\u001b[0;32m   1115\u001b[0m     \u001b[38;5;66;03m# historically .join(timeout=x) for x<0 has acted as if timeout=0\u001b[39;00m\n\u001b[0;32m   1116\u001b[0m     \u001b[38;5;28mself\u001b[39m\u001b[38;5;241m.\u001b[39m_wait_for_tstate_lock(timeout\u001b[38;5;241m=\u001b[39m\u001b[38;5;28mmax\u001b[39m(timeout, \u001b[38;5;241m0\u001b[39m))\n",
      "File \u001b[1;32mc:\\Users\\yeasshhhh\\anaconda3\\Lib\\threading.py:1132\u001b[0m, in \u001b[0;36mThread._wait_for_tstate_lock\u001b[1;34m(self, block, timeout)\u001b[0m\n\u001b[0;32m   1129\u001b[0m     \u001b[38;5;28;01mreturn\u001b[39;00m\n\u001b[0;32m   1131\u001b[0m \u001b[38;5;28;01mtry\u001b[39;00m:\n\u001b[1;32m-> 1132\u001b[0m     \u001b[38;5;28;01mif\u001b[39;00m lock\u001b[38;5;241m.\u001b[39macquire(block, timeout):\n\u001b[0;32m   1133\u001b[0m         lock\u001b[38;5;241m.\u001b[39mrelease()\n\u001b[0;32m   1134\u001b[0m         \u001b[38;5;28mself\u001b[39m\u001b[38;5;241m.\u001b[39m_stop()\n",
      "\u001b[1;31mKeyboardInterrupt\u001b[0m: "
     ]
    }
   ],
   "source": [
    "# Save your notebook first, then run this cell to export your submission.\n",
    "grader.export(pdf=False, run_tests=True)"
   ]
  },
  {
   "cell_type": "markdown",
   "metadata": {},
   "source": [
    " "
   ]
  }
 ],
 "metadata": {
  "kernelspec": {
   "display_name": "Python 3",
   "language": "python",
   "name": "python3"
  },
  "language_info": {
   "codemirror_mode": {
    "name": "ipython",
    "version": 3
   },
   "file_extension": ".py",
   "mimetype": "text/x-python",
   "name": "python",
   "nbconvert_exporter": "python",
   "pygments_lexer": "ipython3",
   "version": "3.11.5"
  },
  "otter": {
   "OK_FORMAT": true,
   "tests": {
    "hours_collaborators": {
     "name": "hours_collaborators",
     "points": 1,
     "suites": [
      {
       "cases": [
        {
         "code": ">>> assert(not \"not filled out\" in worked_with_names)\n",
         "hidden": false,
         "locked": false
        },
        {
         "code": ">>> assert(not \"not filled out\" in websites)\n",
         "hidden": false,
         "locked": false
        },
        {
         "code": ">>> assert(hours > 0)\n",
         "hidden": false,
         "locked": false
        }
       ],
       "scored": true,
       "setup": "",
       "teardown": "",
       "type": "doctest"
      }
     ]
    },
    "integrate_path": {
     "name": "integrate_path",
     "points": 4,
     "suites": [
      {
       "cases": [
        {
         "code": ">>> assert(np.isclose(len_path, 1.386298, atol=0.001))\n",
         "hidden": false,
         "locked": false
        }
       ],
       "scored": true,
       "setup": "",
       "teardown": "",
       "type": "doctest"
      }
     ]
    },
    "integrate_velocity": {
     "name": "integrate_velocity",
     "points": 4,
     "suites": [
      {
       "cases": [
        {
         "code": ">>> assert(np.isclose(integral_x, 0.365, atol=0.001))\n",
         "hidden": false,
         "locked": false
        },
        {
         "code": ">>> assert(np.isclose(integral_y, -0.056209, atol=0.001))\n",
         "hidden": false,
         "locked": false
        }
       ],
       "scored": true,
       "setup": "",
       "teardown": "",
       "type": "doctest"
      }
     ]
    }
   }
  }
 },
 "nbformat": 4,
 "nbformat_minor": 2
}
