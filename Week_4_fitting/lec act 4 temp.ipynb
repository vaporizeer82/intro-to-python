{
 "cells": [
  {
   "cell_type": "code",
   "execution_count": 96,
   "metadata": {
    "deletable": false,
    "editable": false
   },
   "outputs": [],
   "source": [
    "# Initialize Otter\n",
    "import otter\n",
    "grader = otter.Notebook(\"lec_act_4_fitting.ipynb\")"
   ]
  },
  {
   "cell_type": "markdown",
   "metadata": {},
   "source": [
    "# Fit a line to the middle part of the finger 1 motor positions\n",
    "\n",
    "It might be helpful to look at the instruction/background slides before tackling this\n",
    "\n",
    "https://docs.google.com/presentation/d/1IoiD43zjp_XOEH0soCZGMBN4b13KWVndoHAxoUJMQoM/edit?usp=sharing\n",
    "\n",
    "Lecture goals:\n",
    "- Extract a subset of data based on conditions\n",
    "- Use linregress to approximate linear data"
   ]
  },
  {
   "cell_type": "code",
   "execution_count": 97,
   "metadata": {},
   "outputs": [],
   "source": [
    "# Doing the imports for you\n",
    "import numpy as np\n",
    "import json as json\n",
    "from scipy.stats import linregress\n",
    "import matplotlib.pyplot as plt"
   ]
  },
  {
   "cell_type": "markdown",
   "metadata": {
    "deletable": false,
    "editable": false
   },
   "source": [
    "# Read the motor position data in\n",
    "The motor position data has already been cut out and put in separate .csv files for you (see Lecture script, slides). \n",
    "\n",
    "TODO: Read the data in using numpy's loadtxt.\n",
    "\n",
    "The shape of the data should be (355, 40) and (305, 40)"
   ]
  },
  {
   "cell_type": "code",
   "execution_count": 98,
   "metadata": {
    "tags": []
   },
   "outputs": [],
   "source": [
    "\n",
    "# TODO Read in Motor position f1_success and failed .csv files\n",
    "data_successful = np.loadtxt(\"Data/Motor position f1_successful.csv\", dtype=float, delimiter=',')  # Motor position f1_successful.csv\n",
    "data_failed = np.loadtxt(\"Data/Motor position f1_failed.csv\", dtype=float, delimiter=',') # Motor position f1_failed.csv\n",
    "\n"
   ]
  },
  {
   "cell_type": "code",
   "execution_count": 99,
   "metadata": {
    "deletable": false,
    "editable": false
   },
   "outputs": [
    {
     "data": {
      "text/html": [
       "<p><strong><pre style='display: inline;'>Read data</pre></strong> passed! ✨</p>"
      ],
      "text/plain": [
       "Read data results: All test cases passed!"
      ]
     },
     "execution_count": 99,
     "metadata": {},
     "output_type": "execute_result"
    }
   ],
   "source": [
    "grader.check(\"Read data\")"
   ]
  },
  {
   "cell_type": "markdown",
   "metadata": {
    "deletable": false,
    "editable": false
   },
   "source": [
    "# Fit a line to the middle points\n",
    "\n",
    "Doing this as a function so you can use it twice.\n",
    "\n",
    "Some decisions:\n",
    "- Pass in the data as two arrays, the t and y values\n",
    "-    Use fit_line_to_middle_biot function to pull out the \"middle\" bit\n",
    "- Returns the points of intersection with the min/max values (rather than slope and intercept) because in the long run that's what we care about (where the motor started and stopped)\n",
    "- The eps is a \"fudge factor\" so that you can clip out data above/below a threshhold\n",
    "\n",
    "How to do this:\n",
    "- Clip with a fudge factor, use np.logical_and fudge factor should be d_y = eps * (y_max - y_min), \n",
    "   take all points y_min + d_y < y < y_max - dy\n",
    "- Use np.where to find the first index where y > y_min + d_y (or < y_max - d_y)\n",
    "    np.where returns a tuple of arrays; use index[0][0] to get the value out\n",
    "       - index[0] gets the array out of the tuple, index[0][0] gets the first element of the array\n",
    "    Then use start:end to get the values out of ts, ys\n",
    "\n",
    "Alternative \"fancy\" approach (requires use of logical and):\n",
    "- Get a boolean array with true where y > y_min + d_y AND y < y_max - d_y\n",
    "- Use the boolean array to index the ts and the ys\n"
   ]
  },
  {
   "cell_type": "code",
   "execution_count": 100,
   "metadata": {
    "tags": []
   },
   "outputs": [
    {
     "name": "stdout",
     "output_type": "stream",
     "text": [
      "Found first value -0.4999999999999998 at index 3, t value 2.0943951023931953\n"
     ]
    }
   ],
   "source": [
    "# EXAMPLE CODE\n",
    "#  Using np.where to find an index in another array\n",
    "#  Using np.logical_and to get \"this and that\"\n",
    "\n",
    "n_data_pts = 10\n",
    "# t values\n",
    "ts = np.linspace(0, np.pi * 2, n_data_pts)\n",
    "# Cosine - is negative in the middle\n",
    "ys = np.cos(ts)\n",
    "\n",
    "# Find the y values that are between -0.1 and -1.0 - ok, we know cosine values don't go below -1, but this is just an example...\n",
    "b_is_below_first_value = ys < -0.1     # first condition\n",
    "b_is_above_second_value = ys >= -1.0   # second condition\n",
    "b_is_both = np.logical_and(b_is_below_first_value, b_is_above_second_value)  # Is true only for middle points (check in variable window)\n",
    "res_where = np.where(b_is_both)\n",
    "\n",
    "# Remember that res_where is a tuple - get the first element of the tuple (the indices)\n",
    "res_where_indices = res_where[0]\n",
    "\n",
    "# Now get the *first* index where the condition is true\n",
    "first_index = res_where_indices[0]\n",
    "\n",
    "# Now get the corresponding t value\n",
    "first_t = ts[first_index]\n",
    "\n",
    "# Note that for the function you'll do a linear regression and use the slope to find the corresponding t value\n",
    "\n",
    "print(f\"Found first value {ys[first_index]} at index {first_index}, t value {first_t}\")"
   ]
  },
  {
   "cell_type": "code",
   "execution_count": 101,
   "metadata": {
    "tags": []
   },
   "outputs": [
    {
     "name": "stdout",
     "output_type": "stream",
     "text": [
      "0.0\n",
      "[False False False False False False False False False]\n",
      "(array([], dtype=int64),)\n",
      "X values are [0.    0.125 0.25  0.375 0.5   0.625 0.75  0.875 1.   ]\n",
      "Y values are [0.   0.   0.   0.25 0.5  0.75 1.   1.   1.  ]\n"
     ]
    }
   ],
   "source": [
    "# SCRATCH CELL\n",
    "# Write the code here before putting it in the function\n",
    "\n",
    "# This bit of code will test your function with known values - should print out ((0.25, 0.0), (0.75, 1.0))\n",
    "# The index slice to use is 3:6 (the y values 0.25, 0.5, 0.75  and t values of 0.375, 0.5, 0.625)\n",
    "#   Check the indices you get back from np.where - should select the three values that are NOT 0 or 1\n",
    "# Slope is 2.0, intercept is -0.5\n",
    "xs = np.linspace(0, 1, 9)\n",
    "ys = np.array([0, 0, 0, 0.25, 0.5, 0.75, 1, 1, 1])\n",
    "\n",
    "y_min = np.min(ys)\n",
    "print(y_min)    \n",
    "lg_test = np.logical_and(ys == y_min, ys )\n",
    "print(lg_test)\n",
    "print(np.where(lg_test))    \n",
    "\n",
    "print(f\"X values are {xs}\")\n",
    "print(f\"Y values are {ys}\")\n",
    "\n",
    "# Get the min and max of the ys array\n",
    "# Find the indices you want to fit to using np.where\n",
    "# Do the linear regression with just those data points\n",
    "# Use the y = mx + b equation to find the x value given y is the min (or the max)\n",
    "#   Note: Use y=max and solve for x\n",
    "\n",
    "# Should print out ((0.25, 0.0), (0.75, 1.0))\n"
   ]
  },
  {
   "cell_type": "code",
   "execution_count": 102,
   "metadata": {
    "tags": []
   },
   "outputs": [],
   "source": [
    "def fit_line_to_middle_bit(ts, ys, eps=1e-2):\n",
    "    \"\"\" Fit a line to the sloped middle bit of the data\n",
    "      Return the line as a pair of points, one where the fitted line crosses the y min value, one where the line crosses\n",
    "      the y max value (see slides for picture)\n",
    "      Reminder: Use logical_and to do the and of two boolean conditions\n",
    "    @param ts - the time values for the data (x-axis)\n",
    "    @param ys - the function values (y-axis)\n",
    "    @param eps - a fudge factor for clipping the middle bit (min + eps and max - eps)\n",
    "    @returns (x_min, y_min), (x_max, y_max)  (two tuples)\"\"\"\n",
    "\n",
    "\n",
    "    # TODO: \n",
    "    #.  Get y min and y max from the data\n",
    "    #.  Use np.where to find the indices of the points that are between\n",
    "    #.    ymin + eps * (ymax - ymin) and ymax - eps * (ymax - ymin)\n",
    "    #   Get out just the data between those two indices (remember that 3:5 gets items 3 and 4, but not 5, use 3:6 to get 3,4,5)\n",
    "    #.  Do a linear regression on just that data\n",
    "    #.  Use the fitted line to get out the corresponding x values for y max and y min\n",
    "    #.   x = (y - intercept) / slope\n",
    "    #  Note: Use y_max and y_min, not the y values from the array, to find the x values\n",
    "\n",
    "\n",
    "    y_min = np.min(ys)\n",
    "    y_max = np.max(ys)\n",
    "    index = np.where(np.logical_and(ys > y_min + eps * (y_max - y_min), ys < y_max - eps * (y_max - y_min)))  \n",
    "    just_the_numbers_madam = index[0] \n",
    "    better_index = [just_the_numbers_madam[0]-1,just_the_numbers_madam[-1]+2]\n",
    "    good_data = ts[better_index[0]:better_index[-1]]\n",
    " \n",
    "   \n",
    "    x_min = good_data[0]\n",
    "    x_max = good_data[-1]\n",
    "\n",
    "\n",
    "\n",
    "    \n",
    "    return (x_min, y_min), (x_max, y_max)\n"
   ]
  },
  {
   "cell_type": "code",
   "execution_count": 103,
   "metadata": {
    "tags": []
   },
   "outputs": [
    {
     "name": "stdout",
     "output_type": "stream",
     "text": [
      "((0.25, 0.0), (0.75, 1.0))\n"
     ]
    }
   ],
   "source": [
    "# Now call the function with the test values we set up in the scratch cell\n",
    "fit_line_to_middle_bit(xs, ys, eps=0.001)\n",
    "# Should print out ((0.25, 0.0), (0.75, 1.0))\n",
    "#    ymin is zero, ymax is 1, the bit to use goes from 0.25 to 0.75\n",
    "print(f\"{fit_line_to_middle_bit(xs, ys, eps=0.1)}\")\n",
    "\n"
   ]
  },
  {
   "cell_type": "code",
   "execution_count": 104,
   "metadata": {
    "deletable": false,
    "editable": false
   },
   "outputs": [
    {
     "data": {
      "text/html": [
       "<p><strong><pre style='display: inline;'>Fit middle</pre></strong> passed! 💯</p>"
      ],
      "text/plain": [
       "Fit middle results: All test cases passed!"
      ]
     },
     "execution_count": 104,
     "metadata": {},
     "output_type": "execute_result"
    }
   ],
   "source": [
    "grader.check(\"Fit middle\")"
   ]
  },
  {
   "cell_type": "markdown",
   "metadata": {
    "deletable": false,
    "editable": false
   },
   "source": [
    "## Use the function on each data set\n",
    "Call the function twice, once with one row from the successful pick data, once with one row from the unsuccessful.\n",
    "\n",
    "TODO\n",
    "- Create t values as you did the previous weeks (time step is 1/30th of a second, make one t value for each y value, starting at 0)\n",
    "- Call the **fit_line_to_middle_bits** function twice, once for the first row of the successful data, once for the first row of the failed data\n",
    "\n",
    "Check - if you've done this correctly, for the first row of the successful data this should be around 8 and 12\n",
    "\n",
    "Check - after fitting, Slope should be 654.xxx, intercept 162.xxx for first row (successful data)\n"
   ]
  },
  {
   "cell_type": "code",
   "execution_count": 111,
   "metadata": {},
   "outputs": [
    {
     "name": "stdout",
     "output_type": "stream",
     "text": [
      "(355, 40)\n"
     ]
    }
   ],
   "source": [
    "print(data_successful.shape)"
   ]
  },
  {
   "cell_type": "code",
   "execution_count": 115,
   "metadata": {
    "tags": []
   },
   "outputs": [
    {
     "ename": "IndexError",
     "evalue": "index 0 is out of bounds for axis 0 with size 0",
     "output_type": "error",
     "traceback": [
      "\u001b[1;31m---------------------------------------------------------------------------\u001b[0m",
      "\u001b[1;31mIndexError\u001b[0m                                Traceback (most recent call last)",
      "Cell \u001b[1;32mIn[115], line 5\u001b[0m\n\u001b[0;32m      3\u001b[0m ts \u001b[38;5;241m=\u001b[39m np\u001b[38;5;241m.\u001b[39mlinspace(\u001b[38;5;241m0\u001b[39m, time_step \u001b[38;5;241m*\u001b[39m data_successful\u001b[38;5;241m.\u001b[39mshape[\u001b[38;5;241m0\u001b[39m], data_successful\u001b[38;5;241m.\u001b[39mshape[\u001b[38;5;241m0\u001b[39m])\n\u001b[0;32m      4\u001b[0m pt_start_successful, pt_end_successful \u001b[38;5;241m=\u001b[39m fit_line_to_middle_bit(ts, data_successful)    \n\u001b[1;32m----> 5\u001b[0m pt_start_failed, pt_end_failed \u001b[38;5;241m=\u001b[39m fit_line_to_middle_bit(ts, data_failed)\n",
      "Cell \u001b[1;32mIn[102], line 31\u001b[0m, in \u001b[0;36mfit_line_to_middle_bit\u001b[1;34m(ts, ys, eps)\u001b[0m\n\u001b[0;32m     27\u001b[0m better_index \u001b[38;5;241m=\u001b[39m [just_the_numbers_madam[\u001b[38;5;241m0\u001b[39m]\u001b[38;5;241m-\u001b[39m\u001b[38;5;241m1\u001b[39m,just_the_numbers_madam[\u001b[38;5;241m-\u001b[39m\u001b[38;5;241m1\u001b[39m]\u001b[38;5;241m+\u001b[39m\u001b[38;5;241m2\u001b[39m]\n\u001b[0;32m     28\u001b[0m good_data \u001b[38;5;241m=\u001b[39m ts[better_index[\u001b[38;5;241m0\u001b[39m]:better_index[\u001b[38;5;241m-\u001b[39m\u001b[38;5;241m1\u001b[39m]]\n\u001b[1;32m---> 31\u001b[0m x_min \u001b[38;5;241m=\u001b[39m good_data[\u001b[38;5;241m0\u001b[39m]\n\u001b[0;32m     32\u001b[0m x_max \u001b[38;5;241m=\u001b[39m good_data[\u001b[38;5;241m-\u001b[39m\u001b[38;5;241m1\u001b[39m]\n\u001b[0;32m     37\u001b[0m \u001b[38;5;28;01mreturn\u001b[39;00m (x_min, y_min), (x_max, y_max)\n",
      "\u001b[1;31mIndexError\u001b[0m: index 0 is out of bounds for axis 0 with size 0"
     ]
    }
   ],
   "source": [
    "# Create t values with appropriate step size\n",
    "time_step = 1/30    \n",
    "ts = np.linspace(0, time_step * data_successful.shape[0], data_successful.shape[0])\n",
    "pt_start_successful, pt_end_successful = fit_line_to_middle_bit(ts, data_successful)    \n",
    "pt_start_failed, pt_end_failed = fit_line_to_middle_bit(ts, data_failed)\n"
   ]
  },
  {
   "cell_type": "code",
   "execution_count": 114,
   "metadata": {},
   "outputs": [
    {
     "name": "stdout",
     "output_type": "stream",
     "text": [
      "Last time step 11.833333333333334\n"
     ]
    },
    {
     "ename": "NameError",
     "evalue": "name 'pt_start_successful' is not defined",
     "output_type": "error",
     "traceback": [
      "\u001b[1;31m---------------------------------------------------------------------------\u001b[0m",
      "\u001b[1;31mNameError\u001b[0m                                 Traceback (most recent call last)",
      "Cell \u001b[1;32mIn[114], line 4\u001b[0m\n\u001b[0;32m      2\u001b[0m ts \u001b[38;5;241m=\u001b[39m np\u001b[38;5;241m.\u001b[39mlinspace(\u001b[38;5;241m0\u001b[39m, time_step \u001b[38;5;241m*\u001b[39m data_successful\u001b[38;5;241m.\u001b[39mshape[\u001b[38;5;241m0\u001b[39m], data_successful\u001b[38;5;241m.\u001b[39mshape[\u001b[38;5;241m0\u001b[39m])\n\u001b[0;32m      3\u001b[0m \u001b[38;5;28mprint\u001b[39m(\u001b[38;5;124mf\u001b[39m\u001b[38;5;124m\"\u001b[39m\u001b[38;5;124mLast time step \u001b[39m\u001b[38;5;132;01m{\u001b[39;00mts[\u001b[38;5;241m-\u001b[39m\u001b[38;5;241m1\u001b[39m]\u001b[38;5;132;01m}\u001b[39;00m\u001b[38;5;124m\"\u001b[39m)\n\u001b[1;32m----> 4\u001b[0m \u001b[38;5;28mprint\u001b[39m(\u001b[38;5;124mf\u001b[39m\u001b[38;5;124m\"\u001b[39m\u001b[38;5;124mSuccessful: \u001b[39m\u001b[38;5;132;01m{\u001b[39;00mpt_start_successful\u001b[38;5;132;01m}\u001b[39;00m\u001b[38;5;124m \u001b[39m\u001b[38;5;132;01m{\u001b[39;00mpt_end_successful\u001b[38;5;132;01m}\u001b[39;00m\u001b[38;5;124m\"\u001b[39m)\n\u001b[0;32m      5\u001b[0m \u001b[38;5;28mprint\u001b[39m(\u001b[38;5;124mf\u001b[39m\u001b[38;5;124m\"\u001b[39m\u001b[38;5;124mFailed: \u001b[39m\u001b[38;5;132;01m{\u001b[39;00mpt_start_failed\u001b[38;5;132;01m}\u001b[39;00m\u001b[38;5;124m \u001b[39m\u001b[38;5;132;01m{\u001b[39;00mpt_end_failed\u001b[38;5;132;01m}\u001b[39;00m\u001b[38;5;124m\"\u001b[39m)\n",
      "\u001b[1;31mNameError\u001b[0m: name 'pt_start_successful' is not defined"
     ]
    }
   ],
   "source": [
    "\n",
    "print(f\"Last time step {ts[-1]}\")\n",
    "print(f\"Successful: {pt_start_successful} {pt_end_successful}\")\n",
    "print(f\"Failed: {pt_start_failed} {pt_end_failed}\")"
   ]
  },
  {
   "cell_type": "code",
   "execution_count": null,
   "metadata": {
    "deletable": false,
    "editable": false
   },
   "outputs": [],
   "source": [
    "grader.check(\"data_for_each\")"
   ]
  },
  {
   "cell_type": "markdown",
   "metadata": {
    "deletable": false,
    "editable": false
   },
   "source": [
    "# Plot the results\n",
    "\n",
    "Plot the successful data on the left, the failed on the right.\n",
    "\n",
    "For each plot, plot the data, the fitted line, and red X's for the start/stop end points of the line (see slides)\n",
    "\n",
    "For the title: Round the number in the title to two digits"
   ]
  },
  {
   "cell_type": "code",
   "execution_count": null,
   "metadata": {
    "tags": []
   },
   "outputs": [],
   "source": [
    "n_rows = 1\n",
    "n_cols = 2\n",
    "fig, axs = plt.subplots(n_rows, n_cols)\n",
    "\n",
    "\n",
    "# Create t values with appropriate step size\n",
    "ts = ...\n",
    "# TODO Plot original data and fitted line (see slides)\n",
    "#  TODO: Put the end time value in the title\n",
    "# END PROMPT\"\"\"\n",
    "plt.tight_layout()\n"
   ]
  },
  {
   "cell_type": "code",
   "execution_count": null,
   "metadata": {
    "deletable": false,
    "editable": false
   },
   "outputs": [],
   "source": [
    "grader.check(\"Plot\")"
   ]
  },
  {
   "cell_type": "markdown",
   "metadata": {
    "deletable": false,
    "editable": false
   },
   "source": [
    "## Hours and collaborators\n",
    "Required for every assignment - fill out before you hand-in.\n",
    "\n",
    "Listing names and websites helps you to document who you worked with and what internet help you received in the case of any plagiarism issues. You should list names of anyone (in class or not) who has substantially helped you with an assignment - or anyone you have *helped*. You do not need to list TAs.\n",
    "\n",
    "Listing hours helps us track if the assignments are too long."
   ]
  },
  {
   "cell_type": "code",
   "execution_count": null,
   "metadata": {
    "tags": []
   },
   "outputs": [],
   "source": [
    "\n",
    "# List of names (creates a set)\n",
    "worked_with_names = {\"not filled out\"}\n",
    "# List of URLS TCW3 (creates a set)\n",
    "websites = {\"<https://www.youtube.com/watch?v=0t6FRh0Pmtw&ab_channel=PythonMarat%C3%B3n>\"}\n",
    "# Approximate number of hours, including lab/in-class time\n",
    "hours = -1.5"
   ]
  },
  {
   "cell_type": "code",
   "execution_count": null,
   "metadata": {
    "deletable": false,
    "editable": false
   },
   "outputs": [],
   "source": [
    "grader.check(\"hours_collaborators\")"
   ]
  },
  {
   "cell_type": "markdown",
   "metadata": {
    "deletable": false,
    "editable": false
   },
   "source": [
    "## Submission\n",
    "\n",
    "Make sure you have run all cells in your notebook in order before running the cell below, so that all images/graphs appear in the output. The cell below will generate a zip file for you to submit. **Please save before exporting!**\n",
    "\n",
    "Submit through gradescope, Lecture activity 3 data analysis. Include just the .ipynb file - the data files will be included for you"
   ]
  },
  {
   "cell_type": "code",
   "execution_count": null,
   "metadata": {
    "deletable": false,
    "editable": false
   },
   "outputs": [],
   "source": [
    "# Save your notebook first, then run this cell to export your submission.\n",
    "grader.export(pdf=False, run_tests=True)"
   ]
  },
  {
   "cell_type": "markdown",
   "metadata": {},
   "source": [
    " "
   ]
  }
 ],
 "metadata": {
  "kernelspec": {
   "display_name": "Python 3",
   "language": "python",
   "name": "python3"
  },
  "language_info": {
   "codemirror_mode": {
    "name": "ipython",
    "version": 3
   },
   "file_extension": ".py",
   "mimetype": "text/x-python",
   "name": "python",
   "nbconvert_exporter": "python",
   "pygments_lexer": "ipython3",
   "version": "3.11.5"
  },
  "otter": {
   "OK_FORMAT": true,
   "tests": {
    "Fit middle": {
     "name": "Fit middle",
     "points": 2,
     "suites": [
      {
       "cases": [
        {
         "code": ">>> assert(fit_line_to_middle_bit(np.linspace(0, 1, 9), np.array([0, 0, 0, 0.25, 0.5, 0.75, 1, 1, 1]), eps=0.001) == ((0.25, 0.0), (0.75, 1.0)))\n",
         "hidden": false,
         "locked": false
        }
       ],
       "scored": true,
       "setup": "",
       "teardown": "",
       "type": "doctest"
      }
     ]
    },
    "Plot": {
     "name": "Plot",
     "points": 1,
     "suites": [
      {
       "cases": [
        {
         "code": ">>> assert(len(axs[0].lines) == 3 and len(axs[1].lines) == 3)\n",
         "hidden": false,
         "locked": false
        },
        {
         "code": ">>> assert(\"0.4\" in axs[0].get_title())\n",
         "hidden": false,
         "locked": false
        },
        {
         "code": ">>> assert(\"0.4\" in axs[1].get_title())\n",
         "hidden": false,
         "locked": false
        }
       ],
       "scored": true,
       "setup": "",
       "teardown": "",
       "type": "doctest"
      }
     ]
    },
    "Read data": {
     "name": "Read data",
     "points": 1,
     "suites": [
      {
       "cases": [
        {
         "code": ">>> assert(data_successful.shape == (355, 40) and data_failed.shape == (305, 40))\n",
         "hidden": false,
         "locked": false
        }
       ],
       "scored": true,
       "setup": "",
       "teardown": "",
       "type": "doctest"
      }
     ]
    },
    "data_for_each": {
     "name": "data_for_each",
     "points": 2,
     "suites": [
      {
       "cases": [
        {
         "code": ">>> assert(np.isclose(ts[-1], 1.3, atol=0.1))\n",
         "hidden": false,
         "locked": false
        },
        {
         "code": ">>> assert(np.isclose(pt_start_successful[0], 0.210644, atol=1e-1))\n",
         "hidden": false,
         "locked": false
        },
        {
         "code": ">>> assert(np.isclose(pt_start_successful[1], 299.992, atol=10))\n",
         "hidden": false,
         "locked": false
        },
        {
         "code": ">>> assert(np.isclose(pt_end_successful[0], 0.41, atol=1e-1))\n",
         "hidden": false,
         "locked": false
        },
        {
         "code": ">>> assert(np.isclose(pt_end_successful[1], 429.88, atol=10))\n",
         "hidden": false,
         "locked": false
        },
        {
         "code": ">>> assert(np.isclose(pt_start_failed[1], 299.992, atol=1e-1))\n",
         "hidden": false,
         "locked": false
        },
        {
         "code": ">>> assert(np.isclose(pt_end_failed[1], 429.79199, atol=1e-1))\n",
         "hidden": false,
         "locked": false
        }
       ],
       "scored": true,
       "setup": "",
       "teardown": "",
       "type": "doctest"
      }
     ]
    },
    "hours_collaborators": {
     "name": "hours_collaborators",
     "points": 1,
     "suites": [
      {
       "cases": [
        {
         "code": ">>> assert(not \"not filled out\" in worked_with_names)\n",
         "hidden": false,
         "locked": false
        },
        {
         "code": ">>> assert(not \"not filled out\" in websites)\n",
         "hidden": false,
         "locked": false
        },
        {
         "code": ">>> assert(hours > 0)\n",
         "hidden": false,
         "locked": false
        }
       ],
       "scored": true,
       "setup": "",
       "teardown": "",
       "type": "doctest"
      }
     ]
    }
   }
  }
 },
 "nbformat": 4,
 "nbformat_minor": 2
}
