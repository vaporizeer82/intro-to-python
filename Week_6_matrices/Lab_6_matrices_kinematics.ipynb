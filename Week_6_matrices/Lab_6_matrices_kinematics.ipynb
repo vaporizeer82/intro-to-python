{
 "cells": [
  {
   "cell_type": "code",
   "execution_count": 1,
   "metadata": {
    "deletable": false,
    "editable": false
   },
   "outputs": [],
   "source": [
    "# Initialize Otter\n",
    "import otter\n",
    "grader = otter.Notebook(\"Lab_6_matrices_kinematics.ipynb\")"
   ]
  },
  {
   "cell_type": "markdown",
   "metadata": {},
   "source": [
    "# Using matrices to position parts of a robot arm\n",
    "\n",
    "The goal of this part of the assignment is to use matrices to position a robot arm in space. In the lab we'll just\n",
    "position each component independently and rotate them by angles.\n",
    "\n",
    "\n",
    "Slides: https://docs.google.com/presentation/d/1Ut5RnIKU8DF8k_joGXp4tJ1FzBKNIX8JYRE9wkIP_qE/edit?\n",
    "\n",
    "Moving from the lecture activity to the lab:\n",
    "- The points for the objects are stored in an object dicitonary - check out object_routines.py\n",
    "- This dictionary stores the points, the transformation matrix that changes the geometry (eg, mat_transform_square) and some additional stuff (name, color, lengths, angles) that we'll use later\n",
    "- The plot code has also moved into object_routines.py - there are two plot routines. The first plots the object without any transforms. The second will plot with the object's matrix and an optional matrix that gets multiplied *after* the objet's geometry-changing matrix\n",
    "\n",
    "Note: There are plots at the end of this jupyter notebook; they should at least run even if you haven't edited the code (they'll just draw the wrong things). Feel free to jump ahead to the plots as you work through the problems."
   ]
  },
  {
   "cell_type": "code",
   "execution_count": 2,
   "metadata": {},
   "outputs": [],
   "source": [
    "# The usual imports\n",
    "import numpy as np\n",
    "import matplotlib.pyplot as plt"
   ]
  },
  {
   "cell_type": "code",
   "execution_count": 3,
   "metadata": {},
   "outputs": [],
   "source": [
    "# These are the routines you'll edit. You can edit them in the.py file OR copy them in from the .py file\n",
    "#  If you do the latter, you'll probably copy them back to arm_routines.py for the homework\n",
    "# If you decide to copy the functions in here, make sure to copy ALL of the functions in arm_routines.py to here, then comment out this line and do a restart\n",
    "from arm_routines import get_rotation_link, get_matrix_finger, get_transform_base, get_transform_link, get_transform_palm, \\\n",
    "    get_transform_finger, create_arm_geometry, set_angles_of_arm_geometry, plot_arm_components\n"
   ]
  },
  {
   "cell_type": "code",
   "execution_count": 4,
   "metadata": {},
   "outputs": [],
   "source": [
    "# These commands will force JN to actually re-load the external file when you re-execute the import command\n",
    "%load_ext autoreload\n",
    "%autoreload 2"
   ]
  },
  {
   "cell_type": "markdown",
   "metadata": {
    "deletable": false,
    "editable": false
   },
   "source": [
    "## Step 1: Link transform matrices \n",
    "\n",
    "Use matrices to take two basic shapes (a square and a wedge) and re-shape them into the geometry for the arm, gripper.\n",
    "\n",
    "Yes, you could just create these basic shapes with the \"correct\" XYs, but we'll use a matrix to transform the\n",
    "basic shape (square, wedge) to the correct size and shape.\n",
    "\n",
    "This is actually what most packages (eg, solidworks) do when you make a model. Each part of the model is defined in a \"canonical\" location, then transformed to the desired position/scale/rotation using a matarix. This is\n",
    " *before* calculating the matrix that positions the part based on the, eg, joint angles\n",
    "\n",
    "For all of these, you should be creating a matrix that consists of a scale followed by a rotate (maybe) followed by a translate\n",
    "\n",
    "See slides for what the resulting re-positioned shapes look like\n",
    "\n",
    "Wedge and Square are both -1,-1 to 1, 1 (you can open up the .json files to see what the vertex locations are)\n",
    "\n",
    "TODO: Edit **get_transform_base, get_transform_link, get_transform_palm, and (optional) get_transform_finger**\n",
    "\n",
    "These functions do the equivalent of what we did with **mat_transform_square** in the lecture activity."
   ]
  },
  {
   "cell_type": "code",
   "execution_count": 5,
   "metadata": {
    "tags": []
   },
   "outputs": [
    {
     "name": "stdout",
     "output_type": "stream",
     "text": [
      "[[ 1.5308e-17 -5.0000e-01  0.0000e+00]\n",
      " [ 2.5000e-01  3.0616e-17  2.5000e-01]\n",
      " [ 0.0000e+00  0.0000e+00  1.0000e+00]]\n"
     ]
    }
   ],
   "source": [
    "# Check the returned values\n",
    "# you are looking for the rot/trans/scale matrices not points!\n",
    "np.set_printoptions(precision=4, floatmode='fixed')  # Print out with 4 digits of precision\n",
    "\n",
    "\n",
    "base_points = np.array([])\n",
    "mat_base = get_transform_base(1, 0.5)\n",
    "print(mat_base)\n",
    "mat_base_check = np.array([[0, -0.5, 0], [0.25, 0.0, 0.25], [0.0, 0.0, 1.0]])\n",
    "assert(np.all(np.isclose(mat_base, mat_base_check)))"
   ]
  },
  {
   "cell_type": "code",
   "execution_count": 6,
   "metadata": {
    "tags": []
   },
   "outputs": [
    {
     "name": "stdout",
     "output_type": "stream",
     "text": [
      "[[0.2500 0.0000 0.2500]\n",
      " [0.0000 0.1250 0.0000]\n",
      " [0.0000 0.0000 1.0000]]\n"
     ]
    }
   ],
   "source": [
    "mat_link1 = get_transform_link(0.5, 0.25)\n",
    "print(mat_link1)\n",
    "mat_link1_check = np.array([[0.25, 0.0, 0.25], [0.0, 0.125, 0.0], [0.0, 0.0, 1.0]])\n",
    "assert(np.all(np.isclose(mat_link1, mat_link1_check)))"
   ]
  },
  {
   "cell_type": "code",
   "execution_count": 7,
   "metadata": {
    "tags": []
   },
   "outputs": [
    {
     "name": "stdout",
     "output_type": "stream",
     "text": [
      "[[0.0050 0.0000 0.0000]\n",
      " [0.0000 0.0500 0.0000]\n",
      " [0.0000 0.0000 1.0000]]\n"
     ]
    }
   ],
   "source": [
    "mat_palm = get_transform_palm(0.1)\n",
    "print(mat_palm)\n",
    "mat_palm_check = np.array([[0.005, 0.0, 0.0], [0.0, 0.05, 0.0], [0.0, 0.0, 1.0]])\n",
    "assert(np.all(np.isclose(mat_palm, mat_palm_check)))"
   ]
  },
  {
   "cell_type": "markdown",
   "metadata": {},
   "source": []
  },
  {
   "cell_type": "code",
   "execution_count": 8,
   "metadata": {
    "tags": []
   },
   "outputs": [
    {
     "name": "stdout",
     "output_type": "stream",
     "text": [
      "[[0.0375 0.0000 0.0375]\n",
      " [0.0000 0.0125 0.0500]\n",
      " [0.0000 0.0000 1.0000]]\n"
     ]
    }
   ],
   "source": [
    "mat_finger_top = get_transform_finger(0.1, (0.075, 0.025), True)\n",
    "print(mat_finger_top)\n",
    "mat_finger_top_check = np.array([[0.0375, 0.0, 0.0375], [0.0, 0.0125, 0.05], [0.0, 0.0, 1.0]])\n",
    "assert(np.all(np.isclose(mat_finger_top, mat_finger_top_check)))"
   ]
  },
  {
   "cell_type": "code",
   "execution_count": null,
   "metadata": {},
   "outputs": [],
   "source": []
  },
  {
   "cell_type": "code",
   "execution_count": 9,
   "metadata": {
    "tags": []
   },
   "outputs": [
    {
     "name": "stdout",
     "output_type": "stream",
     "text": [
      "[[ 0.0375  0.0000  0.0375]\n",
      " [ 0.0000  0.0125 -0.0500]\n",
      " [ 0.0000  0.0000  1.0000]]\n"
     ]
    }
   ],
   "source": [
    "mat_finger_bot = get_transform_finger(0.1, (0.075, 0.025), False)\n",
    "mat_finger_bot_check = np.array([[0.0375, 0.0, 0.0375], [0.0, 0.0125, -0.05], [0.0, 0.0, 1.0]])\n",
    "assert(np.all(np.isclose(mat_finger_bot, mat_finger_bot_check)))\n",
    "print(mat_finger_bot)"
   ]
  },
  {
   "cell_type": "code",
   "execution_count": 10,
   "metadata": {
    "deletable": false,
    "editable": false
   },
   "outputs": [
    {
     "data": {
      "text/html": [
       "<p><strong><pre style='display: inline;'>Matrix_position</pre></strong> passed! 🎉</p>"
      ],
      "text/plain": [
       "Matrix_position results: All test cases passed!"
      ]
     },
     "execution_count": 10,
     "metadata": {},
     "output_type": "execute_result"
    }
   ],
   "source": [
    "grader.check(\"Matrix_position\")"
   ]
  },
  {
   "cell_type": "markdown",
   "metadata": {
    "deletable": false,
    "editable": false
   },
   "source": [
    "# Put it all together to make the entire gripper\n",
    "\n",
    "This should just \"work\" if you did the previous part correctly (no TODOs). "
   ]
  },
  {
   "cell_type": "code",
   "execution_count": 11,
   "metadata": {
    "tags": []
   },
   "outputs": [
    {
     "name": "stdout",
     "output_type": "stream",
     "text": [
      "Elem Base, \n",
      "  Matrix [[ 1.5308e-17 -5.0000e-01  0.0000e+00]\n",
      " [ 2.5000e-01  3.0616e-17  2.5000e-01]\n",
      " [ 0.0000e+00  0.0000e+00  1.0000e+00]]\n",
      "Elem Link 0, \n",
      "  Matrix [[0.2500 0.0000 0.2500]\n",
      " [0.0000 0.1250 0.0000]\n",
      " [0.0000 0.0000 1.0000]]\n",
      "Elem Link 1, \n",
      "  Matrix [[0.1500 0.0000 0.1500]\n",
      " [0.0000 0.0500 0.0000]\n",
      " [0.0000 0.0000 1.0000]]\n",
      "Elem Link 2, \n",
      "  Matrix [[0.1000 0.0000 0.1000]\n",
      " [0.0000 0.0250 0.0000]\n",
      " [0.0000 0.0000 1.0000]]\n",
      " Elem Palm, \n",
      "  Matrix [[0.0050 0.0000 0.0000]\n",
      " [0.0000 0.0500 0.0000]\n",
      " [0.0000 0.0000 1.0000]]\n",
      " Elem Finger Top, \n",
      "  Matrix [[0.0375 0.0000 0.0375]\n",
      " [0.0000 0.0125 0.0500]\n",
      " [0.0000 0.0000 1.0000]]\n",
      " Elem Finger Bottom, \n",
      "  Matrix [[ 0.0375  0.0000  0.0375]\n",
      " [ 0.0000  0.0125 -0.0500]\n",
      " [ 0.0000  0.0000  1.0000]]\n"
     ]
    }
   ],
   "source": [
    "# Call it with example angles\n",
    "base_size_param = (1.0, 0.5)\n",
    "link_sizes_param = [(0.5, 0.25), (0.3, 0.1), (0.2, 0.05)]\n",
    "palm_width_param = 0.1\n",
    "finger_size_param = (0.075, 0.025)\n",
    "\n",
    "# This function calls each of the set_transform_xxx functions, and puts the results\n",
    "# in a list (the gripper - the last element - is a list)\n",
    "arm_geometry = create_arm_geometry(base_size_param, link_sizes_param, palm_width_param, finger_size_param)\n",
    "if len(arm_geometry) != 5:\n",
    "    print(\"Wrong number of components, should be 5, got {len(arm_geometry)}\")\n",
    "if len(arm_geometry[-1]) != 3:\n",
    "    print(\"Wrong number of gripper components, should be 3, got {len(arm_geometry[-1])}\")\n",
    "\n",
    "# Look through what's printed out and find the matrices that you created (look for the key 'Matrix' and the name, eg 'Base')\n",
    "#   Print out all the elements EXCEPT the last one\n",
    "for elem in arm_geometry[:-1]:\n",
    "    # Print the base and the links\n",
    "    print(f\"Elem {elem['Name']}, \\n  Matrix {elem['Matrix']}\")              \n",
    "          \n",
    "# The fingers are another list at the end of the list (see the -1?)\n",
    "for elem in arm_geometry[-1]:\n",
    "    # Print the base and the links\n",
    "    print(f\" Elem {elem['Name']}, \\n  Matrix {elem['Matrix']}\")        "
   ]
  },
  {
   "cell_type": "code",
   "execution_count": 12,
   "metadata": {
    "deletable": false,
    "editable": false
   },
   "outputs": [
    {
     "data": {
      "text/html": [
       "<p><strong><pre style='display: inline;'>Step_1</pre></strong> passed! 🚀</p>"
      ],
      "text/plain": [
       "Step_1 results: All test cases passed!"
      ]
     },
     "execution_count": 12,
     "metadata": {},
     "output_type": "execute_result"
    }
   ],
   "source": [
    "grader.check(\"Step_1\")"
   ]
  },
  {
   "cell_type": "markdown",
   "metadata": {
    "deletable": false,
    "editable": false
   },
   "source": [
    "## Step 2 - set the matrices that rotate the links/palm\n",
    "\n",
    "TODO: Edit **get_rotation_link** and (optional) **get_matrix_finger**\n",
    "\n",
    "This is the equivalent of the **mat_rotate_link** matrices from the lecture activity"
   ]
  },
  {
   "cell_type": "code",
   "execution_count": 13,
   "metadata": {
    "tags": []
   },
   "outputs": [
    {
     "name": "stdout",
     "output_type": "stream",
     "text": [
      "Elem Base, \n",
      "  Matrix [[ 1.5308e-17 -5.0000e-01  0.0000e+00]\n",
      " [ 2.5000e-01  3.0616e-17  2.5000e-01]\n",
      " [ 0.0000e+00  0.0000e+00  1.0000e+00]]\n",
      "  Angle 0.0\n",
      "Elem Link 0, \n",
      "  Matrix [[0.2500 0.0000 0.2500]\n",
      " [0.0000 0.1250 0.0000]\n",
      " [0.0000 0.0000 1.0000]]\n",
      "  Angle 1.5707963267948966\n",
      "Elem Link 1, \n",
      "  Matrix [[0.1500 0.0000 0.1500]\n",
      " [0.0000 0.0500 0.0000]\n",
      " [0.0000 0.0000 1.0000]]\n",
      "  Angle -0.7853981633974483\n",
      "Elem Link 2, \n",
      "  Matrix [[0.1000 0.0000 0.1000]\n",
      " [0.0000 0.0250 0.0000]\n",
      " [0.0000 0.0000 1.0000]]\n",
      "  Angle -2.356194490192345\n",
      "Elem Palm, \n",
      "  Matrix [[0.0050 0.0000 0.0000]\n",
      " [0.0000 0.0500 0.0000]\n",
      " [0.0000 0.0000 1.0000]]\n",
      "  Angle 1.0471975511965976\n",
      "Elem Finger Top, \n",
      "  Matrix [[0.0375 0.0000 0.0375]\n",
      " [0.0000 0.0125 0.0500]\n",
      " [0.0000 0.0000 1.0000]]\n",
      "  Angle 0.7853981633974483\n",
      "Elem Finger Bottom, \n",
      "  Matrix [[ 0.0375  0.0000  0.0375]\n",
      " [ 0.0000  0.0125 -0.0500]\n",
      " [ 0.0000  0.0000  1.0000]]\n",
      "  Angle -0.7853981633974483\n"
     ]
    }
   ],
   "source": [
    "# This part should be correct (it's from part 1)\n",
    "base_size_param = (1.0, 0.5)\n",
    "link_sizes_param = [(0.5, 0.25), (0.3, 0.1), (0.2, 0.05)]\n",
    "palm_width_param = 0.1\n",
    "finger_size_param = (0.075, 0.025)\n",
    "\n",
    "angles_check = [np.pi/2, -np.pi/4, -3.0 * np.pi/4, [np.pi/3.0, np.pi/4.0, -np.pi/4.0]]\n",
    "\n",
    "np.set_printoptions(precision=4, floatmode='fixed')\n",
    "\n",
    "arm_geometry = create_arm_geometry(base_size_param, link_sizes_param, palm_width_param, finger_size_param)\n",
    "set_angles_of_arm_geometry(arm_geometry, angles_check)\n",
    "\n",
    "# Notice that there is now an \"Angle\" key for each dictionary (the \"Matrix\" key is the same)\n",
    "# The rotation matrices will NOT be stored in the dictionary, but instead are calculated in get_rotation_link and get_rotation_finger\n",
    "#   Print out all the elements EXCEPT the last one\n",
    "for elem in arm_geometry[:-1]:\n",
    "    # Print the base and the links\n",
    "    print(f\"Elem {elem['Name']}, \\n  Matrix {elem['Matrix']}\\n  Angle {elem['Angle']}\")              \n",
    "          \n",
    "# The fingers are another list at the end of the list (see the -1?)\n",
    "for elem in arm_geometry[-1]:\n",
    "    # Print the base and the links\n",
    "    print(f\"Elem {elem['Name']}, \\n  Matrix {elem['Matrix']}\\n  Angle {elem['Angle']}\")              \n"
   ]
  },
  {
   "cell_type": "code",
   "execution_count": 14,
   "metadata": {
    "tags": []
   },
   "outputs": [
    {
     "name": "stdout",
     "output_type": "stream",
     "text": [
      "[[ 6.1232e-17 -1.0000e+00  0.0000e+00]\n",
      " [ 1.0000e+00  6.1232e-17  0.0000e+00]\n",
      " [ 0.0000e+00  0.0000e+00  1.0000e+00]]\n"
     ]
    }
   ],
   "source": [
    "# Check the rotation matrix for the first link\n",
    "mat_rot_link1 = get_rotation_link(arm_geometry[1])\n",
    "print(mat_rot_link1)\n",
    "mat_rot_link1_check = np.array([[0.0, -1.0, 0.0], [1.0, 0.0, 0.0], [0.0, 0.0, 1.0]])\n",
    "assert(np.all(np.isclose(mat_rot_link1, mat_rot_link1_check)))"
   ]
  },
  {
   "cell_type": "code",
   "execution_count": 15,
   "metadata": {
    "tags": []
   },
   "outputs": [
    {
     "name": "stdout",
     "output_type": "stream",
     "text": [
      "(0.0, 0.0)\n",
      "[0.0375 0.0125 1.0000]\n",
      "(0.0, 0.0)\n",
      "[[ 0.7071 -0.7071  0.0256]\n",
      " [ 0.7071  0.7071  0.0106]\n",
      " [ 0.0000  0.0000  1.0000]]\n"
     ]
    }
   ],
   "source": [
    "# Check the rotation matrix for the top finger (optional)\n",
    "mat_rot_top_finger = get_matrix_finger(arm_geometry[-1][1])\n",
    "print(mat_rot_top_finger)\n",
    "mat_rot_top_finger_check = np.array([[0.7071, -0.7071, 0.0354], [0.7071, 0.7071, 0.0146], [0.0, 0.0, 1.0]])\n",
    "assert(np.all(np.isclose(mat_rot_top_finger, mat_rot_top_finger_check, atol=0.3)))"
   ]
  },
  {
   "cell_type": "code",
   "execution_count": 16,
   "metadata": {
    "tags": []
   },
   "outputs": [
    {
     "name": "stdout",
     "output_type": "stream",
     "text": [
      "(0.0, 0.0)\n",
      "[0.0375 0.0125 1.0000]\n",
      "(0.0, 0.0)\n",
      "[[ 0.7071  0.7071  0.0256]\n",
      " [-0.7071  0.7071 -0.0106]\n",
      " [ 0.0000  0.0000  1.0000]]\n"
     ]
    }
   ],
   "source": [
    "# Check the rotation matrix for the bottom finger (optional)\n",
    "mat_rot_bot_finger = get_matrix_finger(arm_geometry[-1][2])\n",
    "print(mat_rot_bot_finger)\n",
    "mat_rot_bot_finger_check = np.array([[0.7071, 0.7071, 0.0354], [-0.7071, 0.7071, -0.0146], [0.0, 0.0, 1.0]])\n",
    "assert(np.all(np.isclose(mat_rot_bot_finger, mat_rot_bot_finger_check, atol=0.3)))"
   ]
  },
  {
   "cell_type": "code",
   "execution_count": 17,
   "metadata": {
    "deletable": false,
    "editable": false
   },
   "outputs": [
    {
     "data": {
      "text/html": [
       "<p><strong><pre style='display: inline;'>set_matrix_from_angles</pre></strong> passed! 🚀</p>"
      ],
      "text/plain": [
       "set_matrix_from_angles results: All test cases passed!"
      ]
     },
     "execution_count": 17,
     "metadata": {},
     "output_type": "execute_result"
    }
   ],
   "source": [
    "grader.check(\"set_matrix_from_angles\")"
   ]
  },
  {
   "cell_type": "markdown",
   "metadata": {
    "deletable": false,
    "editable": false
   },
   "source": [
    "<!-- BEGIN QUESTION -->\n",
    "\n",
    "# Plot the arm (step 1)\n",
    "\n",
    "Note: This should work for step 1 with **b_with_angles** set to False. You'll need to fix the TODOS in plot_arm_components to get it to draw properly with angles for step 2, in addition to doing the two functions in the previous problem"
   ]
  },
  {
   "cell_type": "code",
   "execution_count": 18,
   "metadata": {
    "tags": []
   },
   "outputs": [
    {
     "data": {
      "image/png": "[encoded data removed]",
      "text/plain": [
       "<Figure size 2000x400 with 5 Axes>"
      ]
     },
     "metadata": {},
     "output_type": "display_data"
    }
   ],
   "source": [
    "# Re-defining here, just to be safe\n",
    "base_size_param = (1.0, 0.5)\n",
    "link_sizes_param = [(0.5, 0.25), (0.3, 0.1), (0.2, 0.05)]\n",
    "palm_width_param = 0.1\n",
    "finger_size_param = (0.075, 0.025)\n",
    "\n",
    "# This function calls each of the set_transform_xxx functions, and puts the results\n",
    "# in a list (the gripper - the last element - is a list)\n",
    "arm_geometry = create_arm_geometry(base_size_param, link_sizes_param, palm_width_param, finger_size_param)\n",
    "\n",
    "# Should show all 5 components, the base, 3 links, and the gripper\n",
    "# Step 1 - note, comment out this one if you don't want both drawn on top of each other when you do step 2\n",
    "fig, axs = plt.subplots(1, len(arm_geometry), figsize=(4 * len(arm_geometry), 4))\n",
    "\n",
    "# TODO Edit plot_arm_components to do matrix transforms\n",
    "plot_arm_components(axs,arm_geometry )"
   ]
  },
  {
   "cell_type": "code",
   "execution_count": 19,
   "metadata": {
    "tags": []
   },
   "outputs": [
    {
     "name": "stdout",
     "output_type": "stream",
     "text": [
      "This is a manually-graded question; there is no grader.check() function. See rubric and slides for more information on expected output.\n"
     ]
    }
   ],
   "source": [
    "# Manual grade\n",
    "print(\"This is a manually-graded question; there is no grader.check() function. See rubric and slides for more information on expected output.\")"
   ]
  },
  {
   "cell_type": "markdown",
   "metadata": {
    "deletable": false,
    "editable": false
   },
   "source": [
    "<!-- END QUESTION -->\n",
    "\n",
    "<!-- BEGIN QUESTION -->\n",
    "\n",
    "# Plotting for step 2\n",
    "\n",
    "I've included several different sets of angle values for you.\n",
    "\n",
    "TODO: Fix plot_arm_components to handle the angles"
   ]
  },
  {
   "cell_type": "code",
   "execution_count": 20,
   "metadata": {
    "tags": []
   },
   "outputs": [],
   "source": [
    "# Repeating here\n",
    "base_size_param = (1.0, 0.5)\n",
    "link_sizes_param = [(0.5, 0.25), (0.3, 0.1), (0.2, 0.05)]\n",
    "palm_width_param = 0.1\n",
    "finger_size_param = (0.075, 0.025)\n",
    "\n",
    "# This function calls each of the set_transform_xxx functions, and puts the results\n",
    "# in a list (the gripper - the last element - is a list)\n",
    "arm_geometry = create_arm_geometry(base_size_param, link_sizes_param, palm_width_param, finger_size_param)\n"
   ]
  },
  {
   "cell_type": "code",
   "execution_count": 21,
   "metadata": {
    "tags": []
   },
   "outputs": [
    {
     "data": {
      "image/png": "[encoded data removed]",
      "text/plain": [
       "<Figure size 2000x400 with 5 Axes>"
      ]
     },
     "metadata": {},
     "output_type": "display_data"
    }
   ],
   "source": [
    "# Step 2 - rotate each link element in its own cooridinate system\n",
    "# Several different angles to check your results with\n",
    "angles_none = [0.0, 0.0, 0.0, [0.0, 0.0, 0.0]]\n",
    "angles_check_fingers = [np.pi/2, -np.pi/4, -3.0 * np.pi/4, [0.0, np.pi/4.0, -np.pi/4.0]]\n",
    "angles_check_wrist = [np.pi/2, -np.pi/4, -3.0 * np.pi/4, [np.pi/3.0, 0.0, 0.0]]\n",
    "angles_check = [np.pi/2, -np.pi/4, -3.0 * np.pi/4, [np.pi/3.0, np.pi/4.0, -np.pi/4.0]]\n",
    "\n",
    "# You can use the above set of angles to check each part of the plot\n",
    "set_angles_of_arm_geometry(arm_geometry, angles_check)\n",
    "fig2, axs2 = plt.subplots(1, len(arm_geometry), figsize=(4 * len(arm_geometry), 4))\n",
    "plot_arm_components(axs2, arm_geometry, b_with_angles=True)"
   ]
  },
  {
   "cell_type": "code",
   "execution_count": 22,
   "metadata": {
    "tags": []
   },
   "outputs": [
    {
     "name": "stdout",
     "output_type": "stream",
     "text": [
      "This is a manually-graded question; there is no grader.check() function. See rubric and slides for more information on expected output.\n"
     ]
    }
   ],
   "source": [
    "# Manual grade\n",
    "print(\"This is a manually-graded question; there is no grader.check() function. See rubric and slides for more information on expected output.\")"
   ]
  },
  {
   "cell_type": "markdown",
   "metadata": {
    "deletable": false,
    "editable": false
   },
   "source": [
    "<!-- END QUESTION -->\n",
    "\n",
    "## Hours and collaborators\n",
    "Required for every assignment - fill out before you hand-in.\n",
    "\n",
    "Listing names and websites helps you to document who you worked with and what internet help you received in the case of any plagiarism issues. You should list names of anyone (in class or not) who has substantially helped you with an assignment - or anyone you have *helped*. You do not need to list TAs.\n",
    "\n",
    "Listing hours helps us track if the assignments are too long."
   ]
  },
  {
   "cell_type": "code",
   "execution_count": 23,
   "metadata": {
    "tags": []
   },
   "outputs": [],
   "source": [
    "\n",
    "# List of names (creates a set)\n",
    "worked_with_names = {\"none\"}\n",
    "# List of URLS TCW3 (creates a set)\n",
    "websites = {\"<https://www.geeksforgeeks.org/matrix-manipulation-python/>\"}\n",
    "# Approximate number of hours, including lab/in-class time\n",
    "hours = 7"
   ]
  },
  {
   "cell_type": "code",
   "execution_count": 24,
   "metadata": {
    "deletable": false,
    "editable": false
   },
   "outputs": [
    {
     "data": {
      "text/html": [
       "<p><strong><pre style='display: inline;'>hours_collaborators</pre></strong> passed! 🚀</p>"
      ],
      "text/plain": [
       "hours_collaborators results: All test cases passed!"
      ]
     },
     "execution_count": 24,
     "metadata": {},
     "output_type": "execute_result"
    }
   ],
   "source": [
    "grader.check(\"hours_collaborators\")"
   ]
  },
  {
   "cell_type": "markdown",
   "metadata": {
    "deletable": false,
    "editable": false
   },
   "source": [
    "## Submission\n",
    "\n",
    "Make sure you have run all cells in your notebook in order before running the cell below, so that all images/graphs appear in the output. The cell below will generate a zip file for you to submit. **Please save before exporting!**\n",
    "\n",
    "Submit through gradescope, Lab 6 Matrices. Don't forget to include arm_routines.py (we will supply data files and matrix/object_routines.py"
   ]
  },
  {
   "cell_type": "code",
   "execution_count": 25,
   "metadata": {
    "deletable": false,
    "editable": false
   },
   "outputs": [
    {
     "name": "stdout",
     "output_type": "stream",
     "text": [
      "Running your submission against local test cases...\n",
      "\n",
      "\n"
     ]
    },
    {
     "ename": "RuntimeError",
     "evalue": "c:\\Users\\yeasshhhh\\anaconda3\\Lib\\site-packages\\zmq\\_future.py:679: RuntimeWarning: Proactor event loop does not implement add_reader family of methods required for zmq. Registering an additional selector thread for add_reader support via tornado. Use `asyncio.set_event_loop_policy(WindowsSelectorEventLoopPolicy())` to avoid this warning.\r\n  self._get_loop()\r\n",
     "output_type": "error",
     "traceback": [
      "\u001b[1;31m---------------------------------------------------------------------------\u001b[0m",
      "\u001b[1;31mRuntimeError\u001b[0m                              Traceback (most recent call last)",
      "Cell \u001b[1;32mIn[25], line 2\u001b[0m\n\u001b[0;32m      1\u001b[0m \u001b[38;5;66;03m# Save your notebook first, then run this cell to export your submission.\u001b[39;00m\n\u001b[1;32m----> 2\u001b[0m grader\u001b[38;5;241m.\u001b[39mexport(pdf\u001b[38;5;241m=\u001b[39m\u001b[38;5;28;01mFalse\u001b[39;00m, run_tests\u001b[38;5;241m=\u001b[39m\u001b[38;5;28;01mTrue\u001b[39;00m)\n",
      "File \u001b[1;32mc:\\Users\\yeasshhhh\\anaconda3\\Lib\\site-packages\\otter\\check\\utils.py:184\u001b[0m, in \u001b[0;36mgrading_mode_disabled\u001b[1;34m(wrapped, self, args, kwargs)\u001b[0m\n\u001b[0;32m    182\u001b[0m \u001b[38;5;28;01mif\u001b[39;00m \u001b[38;5;28mtype\u001b[39m(\u001b[38;5;28mself\u001b[39m)\u001b[38;5;241m.\u001b[39m_grading_mode:\n\u001b[0;32m    183\u001b[0m     \u001b[38;5;28;01mreturn\u001b[39;00m\n\u001b[1;32m--> 184\u001b[0m \u001b[38;5;28;01mreturn\u001b[39;00m wrapped(\u001b[38;5;241m*\u001b[39margs, \u001b[38;5;241m*\u001b[39m\u001b[38;5;241m*\u001b[39mkwargs)\n",
      "File \u001b[1;32mc:\\Users\\yeasshhhh\\anaconda3\\Lib\\site-packages\\otter\\check\\utils.py:166\u001b[0m, in \u001b[0;36mincompatible_with.<locals>.incompatible\u001b[1;34m(wrapped, self, args, kwargs)\u001b[0m\n\u001b[0;32m    164\u001b[0m     \u001b[38;5;28;01melse\u001b[39;00m:\n\u001b[0;32m    165\u001b[0m         \u001b[38;5;28;01mreturn\u001b[39;00m\n\u001b[1;32m--> 166\u001b[0m \u001b[38;5;28;01mreturn\u001b[39;00m wrapped(\u001b[38;5;241m*\u001b[39margs, \u001b[38;5;241m*\u001b[39m\u001b[38;5;241m*\u001b[39mkwargs)\n",
      "File \u001b[1;32mc:\\Users\\yeasshhhh\\anaconda3\\Lib\\site-packages\\otter\\check\\utils.py:217\u001b[0m, in \u001b[0;36mlogs_event.<locals>.event_logger\u001b[1;34m(wrapped, self, args, kwargs)\u001b[0m\n\u001b[0;32m    215\u001b[0m \u001b[38;5;28;01mexcept\u001b[39;00m \u001b[38;5;167;01mException\u001b[39;00m \u001b[38;5;28;01mas\u001b[39;00m e:\n\u001b[0;32m    216\u001b[0m     \u001b[38;5;28mself\u001b[39m\u001b[38;5;241m.\u001b[39m_log_event(event_type, success\u001b[38;5;241m=\u001b[39m\u001b[38;5;28;01mFalse\u001b[39;00m, error\u001b[38;5;241m=\u001b[39me)\n\u001b[1;32m--> 217\u001b[0m     \u001b[38;5;28;01mraise\u001b[39;00m e\n\u001b[0;32m    219\u001b[0m \u001b[38;5;28;01mif\u001b[39;00m ret \u001b[38;5;129;01mis\u001b[39;00m \u001b[38;5;28;01mNone\u001b[39;00m:\n\u001b[0;32m    220\u001b[0m     ret \u001b[38;5;241m=\u001b[39m LoggedEventReturnValue(\u001b[38;5;28;01mNone\u001b[39;00m)\n",
      "File \u001b[1;32mc:\\Users\\yeasshhhh\\anaconda3\\Lib\\site-packages\\otter\\check\\utils.py:213\u001b[0m, in \u001b[0;36mlogs_event.<locals>.event_logger\u001b[1;34m(wrapped, self, args, kwargs)\u001b[0m\n\u001b[0;32m    208\u001b[0m \u001b[38;5;250m\u001b[39m\u001b[38;5;124;03m\"\"\"\u001b[39;00m\n\u001b[0;32m    209\u001b[0m \u001b[38;5;124;03mRuns a method, catching any errors and logging the call. Returns the unwrapped return value\u001b[39;00m\n\u001b[0;32m    210\u001b[0m \u001b[38;5;124;03mof the wrapped function.\u001b[39;00m\n\u001b[0;32m    211\u001b[0m \u001b[38;5;124;03m\"\"\"\u001b[39;00m\n\u001b[0;32m    212\u001b[0m \u001b[38;5;28;01mtry\u001b[39;00m:\n\u001b[1;32m--> 213\u001b[0m     ret: Optional[LoggedEventReturnValue[T]] \u001b[38;5;241m=\u001b[39m wrapped(\u001b[38;5;241m*\u001b[39margs, \u001b[38;5;241m*\u001b[39m\u001b[38;5;241m*\u001b[39mkwargs)\n\u001b[0;32m    215\u001b[0m \u001b[38;5;28;01mexcept\u001b[39;00m \u001b[38;5;167;01mException\u001b[39;00m \u001b[38;5;28;01mas\u001b[39;00m e:\n\u001b[0;32m    216\u001b[0m     \u001b[38;5;28mself\u001b[39m\u001b[38;5;241m.\u001b[39m_log_event(event_type, success\u001b[38;5;241m=\u001b[39m\u001b[38;5;28;01mFalse\u001b[39;00m, error\u001b[38;5;241m=\u001b[39me)\n",
      "File \u001b[1;32mc:\\Users\\yeasshhhh\\anaconda3\\Lib\\site-packages\\otter\\check\\notebook.py:523\u001b[0m, in \u001b[0;36mNotebook.export\u001b[1;34m(self, nb_path, export_path, pdf, filtering, pagebreaks, files, display_link, force_save, run_tests)\u001b[0m\n\u001b[0;32m    520\u001b[0m         display(HTML(out_html))\n\u001b[0;32m    522\u001b[0m \u001b[38;5;28;01mif\u001b[39;00m pdf_created \u001b[38;5;129;01mor\u001b[39;00m \u001b[38;5;129;01mnot\u001b[39;00m \u001b[38;5;28mself\u001b[39m\u001b[38;5;241m.\u001b[39m_nbmeta_config\u001b[38;5;241m.\u001b[39mrequire_no_pdf_confirmation:\n\u001b[1;32m--> 523\u001b[0m     continue_export()\n\u001b[0;32m    524\u001b[0m \u001b[38;5;28;01melse\u001b[39;00m:\n\u001b[0;32m    525\u001b[0m     display_pdf_confirmation_widget(\n\u001b[0;32m    526\u001b[0m         \u001b[38;5;28mself\u001b[39m\u001b[38;5;241m.\u001b[39m_nbmeta_config\u001b[38;5;241m.\u001b[39mexport_pdf_failure_message, continue_export)\n",
      "File \u001b[1;32mc:\\Users\\yeasshhhh\\anaconda3\\Lib\\site-packages\\otter\\check\\notebook.py:505\u001b[0m, in \u001b[0;36mNotebook.export.<locals>.continue_export\u001b[1;34m()\u001b[0m\n\u001b[0;32m    503\u001b[0m \u001b[38;5;28;01mif\u001b[39;00m run_tests:\n\u001b[0;32m    504\u001b[0m     \u001b[38;5;28mprint\u001b[39m(\u001b[38;5;124m\"\u001b[39m\u001b[38;5;124mRunning your submission against local test cases...\u001b[39m\u001b[38;5;130;01m\\n\u001b[39;00m\u001b[38;5;124m\"\u001b[39m)\n\u001b[1;32m--> 505\u001b[0m     results \u001b[38;5;241m=\u001b[39m grade_zip_file(zip_path, nb_path, \u001b[38;5;28mself\u001b[39m\u001b[38;5;241m.\u001b[39m_tests_dir)\n\u001b[0;32m    506\u001b[0m     \u001b[38;5;28mprint\u001b[39m(\n\u001b[0;32m    507\u001b[0m         \u001b[38;5;124m\"\u001b[39m\u001b[38;5;124mYour submission received the following results when run against \u001b[39m\u001b[38;5;124m\"\u001b[39m \u001b[38;5;241m+\u001b[39m \\\n\u001b[0;32m    508\u001b[0m         \u001b[38;5;124m\"\u001b[39m\u001b[38;5;124mavailable test cases:\u001b[39m\u001b[38;5;130;01m\\n\u001b[39;00m\u001b[38;5;130;01m\\n\u001b[39;00m\u001b[38;5;124m\"\u001b[39m \u001b[38;5;241m+\u001b[39m indent(results\u001b[38;5;241m.\u001b[39msummary(), \u001b[38;5;124m\"\u001b[39m\u001b[38;5;124m    \u001b[39m\u001b[38;5;124m\"\u001b[39m))\n\u001b[0;32m    510\u001b[0m \u001b[38;5;28;01mif\u001b[39;00m display_link:\n\u001b[0;32m    511\u001b[0m     \u001b[38;5;66;03m# create and display output HTML\u001b[39;00m\n",
      "File \u001b[1;32mc:\\Users\\yeasshhhh\\anaconda3\\Lib\\site-packages\\otter\\check\\utils.py:103\u001b[0m, in \u001b[0;36mgrade_zip_file\u001b[1;34m(zip_path, nb_arcname, tests_dir)\u001b[0m\n\u001b[0;32m    100\u001b[0m \u001b[38;5;28mprint\u001b[39m(results\u001b[38;5;241m.\u001b[39mstdout\u001b[38;5;241m.\u001b[39mdecode(\u001b[38;5;124m\"\u001b[39m\u001b[38;5;124mutf-8\u001b[39m\u001b[38;5;124m\"\u001b[39m))\n\u001b[0;32m    102\u001b[0m \u001b[38;5;28;01mif\u001b[39;00m results\u001b[38;5;241m.\u001b[39mstderr:\n\u001b[1;32m--> 103\u001b[0m     \u001b[38;5;28;01mraise\u001b[39;00m \u001b[38;5;167;01mRuntimeError\u001b[39;00m(results\u001b[38;5;241m.\u001b[39mstderr\u001b[38;5;241m.\u001b[39mdecode(\u001b[38;5;124m\"\u001b[39m\u001b[38;5;124mutf-8\u001b[39m\u001b[38;5;124m\"\u001b[39m))\n\u001b[0;32m    105\u001b[0m \u001b[38;5;28;01mwith\u001b[39;00m \u001b[38;5;28mopen\u001b[39m(results_path, \u001b[38;5;124m\"\u001b[39m\u001b[38;5;124mrb\u001b[39m\u001b[38;5;124m\"\u001b[39m) \u001b[38;5;28;01mas\u001b[39;00m f:\n\u001b[0;32m    106\u001b[0m     results \u001b[38;5;241m=\u001b[39m dill\u001b[38;5;241m.\u001b[39mload(f)\n",
      "\u001b[1;31mRuntimeError\u001b[0m: c:\\Users\\yeasshhhh\\anaconda3\\Lib\\site-packages\\zmq\\_future.py:679: RuntimeWarning: Proactor event loop does not implement add_reader family of methods required for zmq. Registering an additional selector thread for add_reader support via tornado. Use `asyncio.set_event_loop_policy(WindowsSelectorEventLoopPolicy())` to avoid this warning.\r\n  self._get_loop()\r\n"
     ]
    }
   ],
   "source": [
    "# Save your notebook first, then run this cell to export your submission.\n",
    "grader.export(pdf=False, run_tests=True)"
   ]
  },
  {
   "cell_type": "markdown",
   "metadata": {},
   "source": [
    " "
   ]
  }
 ],
 "metadata": {
  "kernelspec": {
   "display_name": "Python 3",
   "language": "python",
   "name": "python3"
  },
  "language_info": {
   "codemirror_mode": {
    "name": "ipython",
    "version": 3
   },
   "file_extension": ".py",
   "mimetype": "text/x-python",
   "name": "python",
   "nbconvert_exporter": "python",
   "pygments_lexer": "ipython3",
   "version": "3.11.5"
  },
  "otter": {
   "OK_FORMAT": true,
   "tests": {
    "Matrix_position": {
     "name": "Matrix_position",
     "points": 5,
     "suites": [
      {
       "cases": [
        {
         "code": ">>> assert(np.all(np.isclose(mat_base, mat_base_check)))\n",
         "hidden": false,
         "locked": false
        },
        {
         "code": ">>> assert(np.all(np.isclose(mat_link1, mat_link1_check)))\n",
         "hidden": false,
         "locked": false
        },
        {
         "code": ">>> assert(np.all(np.isclose(mat_palm, mat_palm_check)))\n",
         "hidden": false,
         "locked": false
        }
       ],
       "scored": true,
       "setup": "",
       "teardown": "",
       "type": "doctest"
      }
     ]
    },
    "Step_1": {
     "name": "Step_1",
     "points": 1,
     "suites": [
      {
       "cases": [
        {
         "code": ">>> assert(len(arm_geometry) == 5)\n",
         "hidden": false,
         "locked": false
        },
        {
         "code": ">>> assert(len(arm_geometry[-1]) == 3)\n",
         "hidden": false,
         "locked": false
        }
       ],
       "scored": true,
       "setup": "",
       "teardown": "",
       "type": "doctest"
      }
     ]
    },
    "hours_collaborators": {
     "name": "hours_collaborators",
     "points": 1,
     "suites": [
      {
       "cases": [
        {
         "code": ">>> assert(not \"not filled out\" in worked_with_names)\n",
         "hidden": false,
         "locked": false
        },
        {
         "code": ">>> assert(not \"not filled out\" in websites)\n",
         "hidden": false,
         "locked": false
        },
        {
         "code": ">>> assert(hours > 0)\n",
         "hidden": false,
         "locked": false
        }
       ],
       "scored": true,
       "setup": "",
       "teardown": "",
       "type": "doctest"
      }
     ]
    },
    "set_matrix_from_angles": {
     "name": "set_matrix_from_angles",
     "points": 2,
     "suites": [
      {
       "cases": [
        {
         "code": ">>> assert(np.all(np.isclose(mat_rot_link1, mat_rot_link1_check)))\n",
         "hidden": false,
         "locked": false
        }
       ],
       "scored": true,
       "setup": "",
       "teardown": "",
       "type": "doctest"
      }
     ]
    }
   }
  }
 },
 "nbformat": 4,
 "nbformat_minor": 2
}
