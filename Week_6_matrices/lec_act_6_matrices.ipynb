{
 "cells": [
  {
   "cell_type": "code",
   "execution_count": 1,
   "metadata": {
    "deletable": false,
    "editable": false
   },
   "outputs": [],
   "source": [
    "# Initialize Otter\n",
    "import otter\n",
    "grader = otter.Notebook(\"lec_act_6_matrices.ipynb\")"
   ]
  },
  {
   "cell_type": "markdown",
   "metadata": {},
   "source": [
    "# Using matrices\n",
    "\n",
    "Do a small number of matrix transformations \"by hand\" to understand what they do. These are the first few transforms you'll need in the lab and homework. Note that, in those assignments, you'll be doing these transforms in functions in order to build up to doing a robot arm reaching goal.\n",
    "\n",
    "\n",
    "See Lecture slides for matrix information: https://docs.google.com/presentation/d/12p3VOVT5yL14-1z5T20hTscpVC0hsxjtvMLHmQLFITk/edit?usp=sharing\n",
    "\n",
    "See Lab slides for expected results: https://docs.google.com/presentation/d/1Ut5RnIKU8DF8k_joGXp4tJ1FzBKNIX8JYRE9wkIP_qE/edit?usp=sharing"
   ]
  },
  {
   "cell_type": "code",
   "execution_count": 2,
   "metadata": {},
   "outputs": [],
   "source": [
    "import numpy as np\n",
    "import matplotlib.pyplot as plt\n",
    "# Slightly different import format here - this gets just those routines by name (no mr.)\n",
    "from matrix_routines import make_scale_matrix, make_translation_matrix, make_rotation_matrix\n",
    "# The same plot functions as were used in the tutorial\n",
    "from matrix_routines import plot_pts, plot_axes_and_big_box"
   ]
  },
  {
   "cell_type": "markdown",
   "metadata": {
    "deletable": false,
    "editable": false
   },
   "source": [
    "### Make a square.\n",
    "\n",
    "TODO: Create a numpy array of points that form a square. The square should go from -1 to 1.\n"
   ]
  },
  {
   "cell_type": "code",
   "execution_count": 3,
   "metadata": {
    "tags": []
   },
   "outputs": [
    {
     "name": "stdout",
     "output_type": "stream",
     "text": [
      "[[ 1.  1. -1. -1.]\n",
      " [ 1. -1. -1.  1.]\n",
      " [ 1.  1.  1.  1.]]\n"
     ]
    }
   ],
   "source": [
    "# The numpy array for the points for a square\n",
    "pts_square = np.ones((3, 4))\n",
    "\n",
    "# Set the four points to be the corners of a square\n",
    "\n",
    "pts_square[0:2, 0] = [1,1]\n",
    "pts_square[0:2, 1] = [1,-1]\n",
    "pts_square[0:2, 2] = [-1,-1]\n",
    "pts_square[0:2, 3] = [-1,1]\n",
    "print(pts_square)\n",
    "\n"
   ]
  },
  {
   "cell_type": "code",
   "execution_count": 4,
   "metadata": {
    "tags": []
   },
   "outputs": [
    {
     "data": {
      "image/png": "[encoded data removed]",
      "text/plain": [
       "<Figure size 200x200 with 1 Axes>"
      ]
     },
     "metadata": {},
     "output_type": "display_data"
    }
   ],
   "source": [
    "# Draw the square in the plot window - see slides for correct answer\n",
    "fig, axs = plt.subplots(1, 1, figsize=(2, 2))\n",
    "\n",
    "# A framing window\n",
    "plot_axes_and_big_box(axs)\n",
    "\n",
    "# Plot the square\n",
    "plot_pts(axs, pts_square, fmt=\"--b\")"
   ]
  },
  {
   "cell_type": "code",
   "execution_count": 5,
   "metadata": {
    "deletable": false,
    "editable": false
   },
   "outputs": [
    {
     "data": {
      "text/html": [
       "<p><strong><pre style='display: inline;'>make_square</pre></strong> passed! 💯</p>"
      ],
      "text/plain": [
       "make_square results: All test cases passed!"
      ]
     },
     "execution_count": 5,
     "metadata": {},
     "output_type": "execute_result"
    }
   ],
   "source": [
    "grader.check(\"make_square\")"
   ]
  },
  {
   "cell_type": "markdown",
   "metadata": {},
   "source": []
  },
  {
   "cell_type": "markdown",
   "metadata": {
    "deletable": false,
    "editable": false
   },
   "source": [
    "### Arm link\n",
    "\n",
    "Create a matrix that makes a rectangle from the square. See picture in slides\n",
    "- The left hand side of the rectangle should lie on the x=0 line\n",
    "- The long direction of the rectangle should be **link_length** and point to the right\n",
    "- The narrow direction of the rectangle should be **link_width** and be centered on the y axis"
   ]
  },
  {
   "cell_type": "code",
   "execution_count": 6,
   "metadata": {
    "tags": []
   },
   "outputs": [],
   "source": [
    "# You can always start with an identity matrix that doesn't transform (it's like multiplying by 1)\n",
    "mat_transform_square = np.identity(3)\n",
    "\n",
    "link_length = 3.5\n",
    "link_width = 2.5\n",
    "# TODO: Scale and translate the square to make the desired rectangle\n",
    "#   Try scaling first, then translate after the scale\n",
    "#   Remember that the original square goes from -1 to 1, so it's width/height is actually 2\n",
    "\n",
    "\n",
    "mat_scale_square =  make_scale_matrix(link_length/2, link_width/2) @ mat_transform_square\n",
    "\n",
    "mat_transform_square = make_translation_matrix(link_length/2, 0) @ mat_scale_square\n",
    "\n"
   ]
  },
  {
   "cell_type": "code",
   "execution_count": 7,
   "metadata": {
    "tags": []
   },
   "outputs": [
    {
     "data": {
      "text/plain": [
       "<function matplotlib.pyplot.tight_layout(*, pad=1.08, h_pad=None, w_pad=None, rect=None)>"
      ]
     },
     "execution_count": 7,
     "metadata": {},
     "output_type": "execute_result"
    },
    {
     "data": {
      "image/png": "[encoded data removed]",
      "text/plain": [
       "<Figure size 200x200 with 1 Axes>"
      ]
     },
     "metadata": {},
     "output_type": "display_data"
    }
   ],
   "source": [
    "# Plot the result - see slides\n",
    "# Draw the square in the plot window - see slides for correct answer\n",
    "fig, axs = plt.subplots(1, 1, figsize=(2,2))\n",
    "mat_base_check = np.array([[0, -0.5, 0], [0.25, 0.0, 0.25], [0.0, 0.0, 1.0]])\n",
    "# A framing window\n",
    "base = np.array([[ 0.5000,  0.5625, -0.0625,  0.0000],\n",
    " [ 0.2500,  0.0000,  0.0000,  0.2500],\n",
    " [ 1.0000,  1.0000,  1.0000,  1.0000]])\n",
    "something = np.array([[0.25, 0.0, 0.25], [0.0, 0.125, 0.0], [0.0, 0.0, 1.0]])\n",
    "plot_axes_and_big_box(axs)\n",
    "\n",
    "# Plot the transformed square\n",
    "plot_pts(axs, mat_transform_square @ pts_square, fmt=\"--g\")\n",
    "plt.tight_layout"
   ]
  },
  {
   "cell_type": "code",
   "execution_count": 8,
   "metadata": {
    "deletable": false,
    "editable": false
   },
   "outputs": [
    {
     "data": {
      "text/html": [
       "<p><strong><pre style='display: inline;'>long_skinny_rect</pre></strong> passed! 🌈</p>"
      ],
      "text/plain": [
       "long_skinny_rect results: All test cases passed!"
      ]
     },
     "execution_count": 8,
     "metadata": {},
     "output_type": "execute_result"
    }
   ],
   "source": [
    "grader.check(\"long_skinny_rect\")"
   ]
  },
  {
   "cell_type": "markdown",
   "metadata": {
    "deletable": false,
    "editable": false
   },
   "source": [
    "## Rotate the link\n",
    "\n",
    "Now rotate the link around it's base by 30 degrees\n",
    "\n",
    "Notice that this matrix is pre-pended to the existing one - it rotates *after* the scale and translate"
   ]
  },
  {
   "cell_type": "code",
   "execution_count": 9,
   "metadata": {
    "tags": []
   },
   "outputs": [],
   "source": [
    "# You can always start with an identity matrix that doesn't transform (it's like multiplying by 1)\n",
    "mat_rotate_link = np.identity(3)\n",
    "\n",
    "rotate_amt = 2 * np.pi * (30.0/360.0)  # Convert from degrees to radians\n",
    "# TODO: Build a rotation matrix - the reason we put the link with the left side at 0,0 is so that this rotation causes\n",
    "#   the link to pivot around the base\n",
    "mat_rotate_link = make_rotation_matrix(rotate_amt) @ mat_rotate_link\n"
   ]
  },
  {
   "cell_type": "code",
   "execution_count": 10,
   "metadata": {
    "tags": []
   },
   "outputs": [
    {
     "data": {
      "image/png": "[encoded data removed]",
      "text/plain": [
       "<Figure size 200x200 with 1 Axes>"
      ]
     },
     "metadata": {},
     "output_type": "display_data"
    }
   ],
   "source": [
    "# Plot the result - see slides\n",
    "fig, axs = plt.subplots(1, 1, figsize=(2, 2))\n",
    "\n",
    "# A framing window\n",
    "plot_axes_and_big_box(axs)\n",
    "\n",
    "# Plot the transformed square - notice that we string the matrices together here\n",
    "#   In the Lab you'll be building the mat_transform_square separately from the mat_rotate_link because you'll scale all of the\n",
    "#   geoemtry first, then roatate all of the links to put them together\n",
    "plot_pts(axs, mat_rotate_link @ mat_transform_square @ pts_square, fmt=\"--g\")"
   ]
  },
  {
   "cell_type": "code",
   "execution_count": 11,
   "metadata": {
    "deletable": false,
    "editable": false
   },
   "outputs": [
    {
     "data": {
      "text/html": [
       "<p><strong><pre style='display: inline;'>Rotate_link</pre></strong> passed! 🌟</p>"
      ],
      "text/plain": [
       "Rotate_link results: All test cases passed!"
      ]
     },
     "execution_count": 11,
     "metadata": {},
     "output_type": "execute_result"
    }
   ],
   "source": [
    "grader.check(\"Rotate_link\")"
   ]
  },
  {
   "cell_type": "markdown",
   "metadata": {
    "deletable": false,
    "editable": false
   },
   "source": [
    "### Make a smaller link and attach it to the bigger one\n",
    "\n",
    "TODO\n",
    "- Make a matrix to scale and translate the square again, this time making it linK_length_small and link_width_small\n",
    "- Make a matrix to rotate it by -75 degrees\n",
    "- Make a matrix to translate the base of the smaller one to the end of the big one *before* it is rotated\n",
    "- Follow the instructions to rotate both the little one and the big one by the 30 degrees"
   ]
  },
  {
   "cell_type": "code",
   "execution_count": 12,
   "metadata": {
    "tags": []
   },
   "outputs": [],
   "source": [
    "# Build these two the same way you did above\n",
    "mat_transform_square_small = np.identity(3)\n",
    "mat_rotate_link_small = np.identity(3)\n",
    "\n",
    "link_length_small = 1.5\n",
    "link_width_small = 0.5\n",
    "rotate_amt_small = 2 * np.pi * (-75.0/360.0)  # Convert from degrees to radians\n",
    "\n",
    "# TODO: edit the two above matrices\n",
    "mat_scale_square_small = make_scale_matrix(link_length_small/2, link_width_small/2) @ mat_transform_square_small\n",
    "mat_transform_square_small = make_translation_matrix(link_length_small/2, link_width_small/2) @ mat_scale_square_small\n",
    "mat_rotate_link_small = make_rotation_matrix(rotate_amt_small) @ mat_rotate_link_small\n",
    "\n"
   ]
  },
  {
   "cell_type": "code",
   "execution_count": 13,
   "metadata": {
    "tags": []
   },
   "outputs": [],
   "source": [
    "# One more matrix - define this matrix so that it translates the base (0,0) of the smaller link to the end of the larger link BEFORE\n",
    "#  it is rotated. This should be a translation by link_length, 0 \n",
    "mat_move_small_to_end_of_big = np.identity(3)\n",
    "\n",
    "mat_move_small_to_end_of_big = make_translation_matrix(link_length, 0) @ mat_move_small_to_end_of_big\n"
   ]
  },
  {
   "cell_type": "code",
   "execution_count": 14,
   "metadata": {
    "tags": []
   },
   "outputs": [
    {
     "data": {
      "image/png": "[encoded data removed]",
      "text/plain": [
       "<Figure size 1200x800 with 6 Axes>"
      ]
     },
     "metadata": {},
     "output_type": "display_data"
    }
   ],
   "source": [
    "# Plot code - from left to right\n",
    "# \n",
    "# Plot the result - see slides\n",
    "n_rows = 2\n",
    "n_cols = 3\n",
    "fig, axs = plt.subplots(n_rows, n_cols, figsize=(4 * n_cols, 4 * n_rows))\n",
    "\n",
    "# A framing window\n",
    "for i in range(0, n_rows * n_cols):\n",
    "    plot_axes_and_big_box(axs[i // n_cols, i % n_cols])\n",
    "\n",
    "# Plot the transformed square - notice that we string the matrices together here\n",
    "#   In the Lab you'll be building the mat_transform_square separately from the mat_rotate_link because you'll scale all of the\n",
    "#   geoemtry first, then roatate all of the links to put them together\n",
    "# The big link before rotating\n",
    "plot_pts(axs[0, 0], mat_transform_square @ pts_square, fmt=\"--g\")\n",
    "axs[0, 0].set_title(\"Big link\")\n",
    "# The small link before rotating\n",
    "plot_pts(axs[0, 1], mat_transform_square_small @ pts_square, fmt=\":m\")\n",
    "axs[0, 1].set_title(\"Small link\")\n",
    "\n",
    "# The big and small link before rotating, but the small link translated to the end of the big\n",
    "plot_pts(axs[0, 2], mat_transform_square @ pts_square, fmt=\"--g\")\n",
    "plot_pts(axs[0, 2], mat_move_small_to_end_of_big @ mat_transform_square_small @ pts_square, fmt=\":m\")\n",
    "axs[0, 2].set_title(\"Big and small\")\n",
    "\n",
    "# Now with rotations\n",
    "# The big link before rotating\n",
    "plot_pts(axs[1, 0], mat_rotate_link @ mat_transform_square @ pts_square, fmt=\"--g\")\n",
    "axs[1, 0].set_title(\"Big link\")\n",
    "# The small link before rotating\n",
    "plot_pts(axs[1, 1], mat_rotate_link_small @ mat_transform_square_small @ pts_square, fmt=\":m\")\n",
    "axs[1, 1].set_title(\"Small link\")\n",
    "\n",
    "# Ensuring that the little link rotates with the big one - notice the re-use of the big link rotation matrix\n",
    "plot_pts(axs[1, 2], mat_rotate_link @ mat_transform_square @ pts_square, fmt=\"--g\")\n",
    "plot_pts(axs[1, 2], mat_rotate_link @ mat_move_small_to_end_of_big @ mat_rotate_link_small @ mat_transform_square_small @ pts_square, fmt=\":m\")\n",
    "axs[1, 2].set_title(\"Big and small\")\n",
    "\n",
    "fig.tight_layout()"
   ]
  },
  {
   "cell_type": "code",
   "execution_count": 15,
   "metadata": {
    "deletable": false,
    "editable": false
   },
   "outputs": [
    {
     "data": {
      "text/html": [
       "<p><strong><pre style='display: inline;'>make_smaller_link</pre></strong> passed! 🌟</p>"
      ],
      "text/plain": [
       "make_smaller_link results: All test cases passed!"
      ]
     },
     "execution_count": 15,
     "metadata": {},
     "output_type": "execute_result"
    }
   ],
   "source": [
    "grader.check(\"make_smaller_link\")"
   ]
  },
  {
   "cell_type": "code",
   "execution_count": null,
   "metadata": {},
   "outputs": [],
   "source": []
  },
  {
   "cell_type": "markdown",
   "metadata": {
    "deletable": false,
    "editable": false
   },
   "source": [
    "## Hours and collaborators\n",
    "Required for every assignment - fill out before you hand-in.\n",
    "\n",
    "Listing names and websites helps you to document who you worked with and what internet help you received in the case of any plagiarism issues. You should list names of anyone (in class or not) who has substantially helped you with an assignment - or anyone you have *helped*. You do not need to list TAs.\n",
    "\n",
    "Listing hours helps us track if the assignments are too long."
   ]
  },
  {
   "cell_type": "code",
   "execution_count": 69,
   "metadata": {
    "tags": []
   },
   "outputs": [],
   "source": [
    "\n",
    "# List of names (creates a set)\n",
    "worked_with_names = {\"none\"}\n",
    "# List of URLS TCW3 (creates a set)\n",
    "websites = {\"none\"}\n",
    "# Approximate number of hours, including lab/in-class time\n",
    "hours = 1"
   ]
  },
  {
   "cell_type": "code",
   "execution_count": 70,
   "metadata": {
    "deletable": false,
    "editable": false
   },
   "outputs": [
    {
     "data": {
      "text/html": [
       "<p><strong><pre style='display: inline;'>hours_collaborators</pre></strong> passed! 🌈</p>"
      ],
      "text/plain": [
       "hours_collaborators results: All test cases passed!"
      ]
     },
     "execution_count": 70,
     "metadata": {},
     "output_type": "execute_result"
    }
   ],
   "source": [
    "grader.check(\"hours_collaborators\")"
   ]
  },
  {
   "cell_type": "markdown",
   "metadata": {
    "deletable": false,
    "editable": false
   },
   "source": [
    "## Submission\n",
    "\n",
    "Make sure you have run all cells in your notebook in order before running the cell below, so that all images/graphs appear in the output. The cell below will generate a zip file for you to submit. **Please save before exporting!**\n",
    "\n",
    "Submit through gradescope, Lecture activity 5: Matrices. Include just the .ipynb file - the code files, matrix_routines.py, and object_routines.py will be included for you."
   ]
  },
  {
   "cell_type": "code",
   "execution_count": 71,
   "metadata": {
    "deletable": false,
    "editable": false
   },
   "outputs": [
    {
     "name": "stdout",
     "output_type": "stream",
     "text": [
      "Running your submission against local test cases...\n",
      "\n",
      "\n"
     ]
    },
    {
     "ename": "RuntimeError",
     "evalue": "c:\\Users\\yeasshhhh\\anaconda3\\Lib\\site-packages\\zmq\\_future.py:679: RuntimeWarning: Proactor event loop does not implement add_reader family of methods required for zmq. Registering an additional selector thread for add_reader support via tornado. Use `asyncio.set_event_loop_policy(WindowsSelectorEventLoopPolicy())` to avoid this warning.\r\n  self._get_loop()\r\n",
     "output_type": "error",
     "traceback": [
      "\u001b[1;31m---------------------------------------------------------------------------\u001b[0m",
      "\u001b[1;31mRuntimeError\u001b[0m                              Traceback (most recent call last)",
      "Cell \u001b[1;32mIn[71], line 2\u001b[0m\n\u001b[0;32m      1\u001b[0m \u001b[38;5;66;03m# Save your notebook first, then run this cell to export your submission.\u001b[39;00m\n\u001b[1;32m----> 2\u001b[0m grader\u001b[38;5;241m.\u001b[39mexport(pdf\u001b[38;5;241m=\u001b[39m\u001b[38;5;28;01mFalse\u001b[39;00m, run_tests\u001b[38;5;241m=\u001b[39m\u001b[38;5;28;01mTrue\u001b[39;00m)\n",
      "File \u001b[1;32mc:\\Users\\yeasshhhh\\anaconda3\\Lib\\site-packages\\otter\\check\\utils.py:184\u001b[0m, in \u001b[0;36mgrading_mode_disabled\u001b[1;34m(wrapped, self, args, kwargs)\u001b[0m\n\u001b[0;32m    182\u001b[0m \u001b[38;5;28;01mif\u001b[39;00m \u001b[38;5;28mtype\u001b[39m(\u001b[38;5;28mself\u001b[39m)\u001b[38;5;241m.\u001b[39m_grading_mode:\n\u001b[0;32m    183\u001b[0m     \u001b[38;5;28;01mreturn\u001b[39;00m\n\u001b[1;32m--> 184\u001b[0m \u001b[38;5;28;01mreturn\u001b[39;00m wrapped(\u001b[38;5;241m*\u001b[39margs, \u001b[38;5;241m*\u001b[39m\u001b[38;5;241m*\u001b[39mkwargs)\n",
      "File \u001b[1;32mc:\\Users\\yeasshhhh\\anaconda3\\Lib\\site-packages\\otter\\check\\utils.py:166\u001b[0m, in \u001b[0;36mincompatible_with.<locals>.incompatible\u001b[1;34m(wrapped, self, args, kwargs)\u001b[0m\n\u001b[0;32m    164\u001b[0m     \u001b[38;5;28;01melse\u001b[39;00m:\n\u001b[0;32m    165\u001b[0m         \u001b[38;5;28;01mreturn\u001b[39;00m\n\u001b[1;32m--> 166\u001b[0m \u001b[38;5;28;01mreturn\u001b[39;00m wrapped(\u001b[38;5;241m*\u001b[39margs, \u001b[38;5;241m*\u001b[39m\u001b[38;5;241m*\u001b[39mkwargs)\n",
      "File \u001b[1;32mc:\\Users\\yeasshhhh\\anaconda3\\Lib\\site-packages\\otter\\check\\utils.py:217\u001b[0m, in \u001b[0;36mlogs_event.<locals>.event_logger\u001b[1;34m(wrapped, self, args, kwargs)\u001b[0m\n\u001b[0;32m    215\u001b[0m \u001b[38;5;28;01mexcept\u001b[39;00m \u001b[38;5;167;01mException\u001b[39;00m \u001b[38;5;28;01mas\u001b[39;00m e:\n\u001b[0;32m    216\u001b[0m     \u001b[38;5;28mself\u001b[39m\u001b[38;5;241m.\u001b[39m_log_event(event_type, success\u001b[38;5;241m=\u001b[39m\u001b[38;5;28;01mFalse\u001b[39;00m, error\u001b[38;5;241m=\u001b[39me)\n\u001b[1;32m--> 217\u001b[0m     \u001b[38;5;28;01mraise\u001b[39;00m e\n\u001b[0;32m    219\u001b[0m \u001b[38;5;28;01mif\u001b[39;00m ret \u001b[38;5;129;01mis\u001b[39;00m \u001b[38;5;28;01mNone\u001b[39;00m:\n\u001b[0;32m    220\u001b[0m     ret \u001b[38;5;241m=\u001b[39m LoggedEventReturnValue(\u001b[38;5;28;01mNone\u001b[39;00m)\n",
      "File \u001b[1;32mc:\\Users\\yeasshhhh\\anaconda3\\Lib\\site-packages\\otter\\check\\utils.py:213\u001b[0m, in \u001b[0;36mlogs_event.<locals>.event_logger\u001b[1;34m(wrapped, self, args, kwargs)\u001b[0m\n\u001b[0;32m    208\u001b[0m \u001b[38;5;250m\u001b[39m\u001b[38;5;124;03m\"\"\"\u001b[39;00m\n\u001b[0;32m    209\u001b[0m \u001b[38;5;124;03mRuns a method, catching any errors and logging the call. Returns the unwrapped return value\u001b[39;00m\n\u001b[0;32m    210\u001b[0m \u001b[38;5;124;03mof the wrapped function.\u001b[39;00m\n\u001b[0;32m    211\u001b[0m \u001b[38;5;124;03m\"\"\"\u001b[39;00m\n\u001b[0;32m    212\u001b[0m \u001b[38;5;28;01mtry\u001b[39;00m:\n\u001b[1;32m--> 213\u001b[0m     ret: Optional[LoggedEventReturnValue[T]] \u001b[38;5;241m=\u001b[39m wrapped(\u001b[38;5;241m*\u001b[39margs, \u001b[38;5;241m*\u001b[39m\u001b[38;5;241m*\u001b[39mkwargs)\n\u001b[0;32m    215\u001b[0m \u001b[38;5;28;01mexcept\u001b[39;00m \u001b[38;5;167;01mException\u001b[39;00m \u001b[38;5;28;01mas\u001b[39;00m e:\n\u001b[0;32m    216\u001b[0m     \u001b[38;5;28mself\u001b[39m\u001b[38;5;241m.\u001b[39m_log_event(event_type, success\u001b[38;5;241m=\u001b[39m\u001b[38;5;28;01mFalse\u001b[39;00m, error\u001b[38;5;241m=\u001b[39me)\n",
      "File \u001b[1;32mc:\\Users\\yeasshhhh\\anaconda3\\Lib\\site-packages\\otter\\check\\notebook.py:523\u001b[0m, in \u001b[0;36mNotebook.export\u001b[1;34m(self, nb_path, export_path, pdf, filtering, pagebreaks, files, display_link, force_save, run_tests)\u001b[0m\n\u001b[0;32m    520\u001b[0m         display(HTML(out_html))\n\u001b[0;32m    522\u001b[0m \u001b[38;5;28;01mif\u001b[39;00m pdf_created \u001b[38;5;129;01mor\u001b[39;00m \u001b[38;5;129;01mnot\u001b[39;00m \u001b[38;5;28mself\u001b[39m\u001b[38;5;241m.\u001b[39m_nbmeta_config\u001b[38;5;241m.\u001b[39mrequire_no_pdf_confirmation:\n\u001b[1;32m--> 523\u001b[0m     continue_export()\n\u001b[0;32m    524\u001b[0m \u001b[38;5;28;01melse\u001b[39;00m:\n\u001b[0;32m    525\u001b[0m     display_pdf_confirmation_widget(\n\u001b[0;32m    526\u001b[0m         \u001b[38;5;28mself\u001b[39m\u001b[38;5;241m.\u001b[39m_nbmeta_config\u001b[38;5;241m.\u001b[39mexport_pdf_failure_message, continue_export)\n",
      "File \u001b[1;32mc:\\Users\\yeasshhhh\\anaconda3\\Lib\\site-packages\\otter\\check\\notebook.py:505\u001b[0m, in \u001b[0;36mNotebook.export.<locals>.continue_export\u001b[1;34m()\u001b[0m\n\u001b[0;32m    503\u001b[0m \u001b[38;5;28;01mif\u001b[39;00m run_tests:\n\u001b[0;32m    504\u001b[0m     \u001b[38;5;28mprint\u001b[39m(\u001b[38;5;124m\"\u001b[39m\u001b[38;5;124mRunning your submission against local test cases...\u001b[39m\u001b[38;5;130;01m\\n\u001b[39;00m\u001b[38;5;124m\"\u001b[39m)\n\u001b[1;32m--> 505\u001b[0m     results \u001b[38;5;241m=\u001b[39m grade_zip_file(zip_path, nb_path, \u001b[38;5;28mself\u001b[39m\u001b[38;5;241m.\u001b[39m_tests_dir)\n\u001b[0;32m    506\u001b[0m     \u001b[38;5;28mprint\u001b[39m(\n\u001b[0;32m    507\u001b[0m         \u001b[38;5;124m\"\u001b[39m\u001b[38;5;124mYour submission received the following results when run against \u001b[39m\u001b[38;5;124m\"\u001b[39m \u001b[38;5;241m+\u001b[39m \\\n\u001b[0;32m    508\u001b[0m         \u001b[38;5;124m\"\u001b[39m\u001b[38;5;124mavailable test cases:\u001b[39m\u001b[38;5;130;01m\\n\u001b[39;00m\u001b[38;5;130;01m\\n\u001b[39;00m\u001b[38;5;124m\"\u001b[39m \u001b[38;5;241m+\u001b[39m indent(results\u001b[38;5;241m.\u001b[39msummary(), \u001b[38;5;124m\"\u001b[39m\u001b[38;5;124m    \u001b[39m\u001b[38;5;124m\"\u001b[39m))\n\u001b[0;32m    510\u001b[0m \u001b[38;5;28;01mif\u001b[39;00m display_link:\n\u001b[0;32m    511\u001b[0m     \u001b[38;5;66;03m# create and display output HTML\u001b[39;00m\n",
      "File \u001b[1;32mc:\\Users\\yeasshhhh\\anaconda3\\Lib\\site-packages\\otter\\check\\utils.py:103\u001b[0m, in \u001b[0;36mgrade_zip_file\u001b[1;34m(zip_path, nb_arcname, tests_dir)\u001b[0m\n\u001b[0;32m    100\u001b[0m \u001b[38;5;28mprint\u001b[39m(results\u001b[38;5;241m.\u001b[39mstdout\u001b[38;5;241m.\u001b[39mdecode(\u001b[38;5;124m\"\u001b[39m\u001b[38;5;124mutf-8\u001b[39m\u001b[38;5;124m\"\u001b[39m))\n\u001b[0;32m    102\u001b[0m \u001b[38;5;28;01mif\u001b[39;00m results\u001b[38;5;241m.\u001b[39mstderr:\n\u001b[1;32m--> 103\u001b[0m     \u001b[38;5;28;01mraise\u001b[39;00m \u001b[38;5;167;01mRuntimeError\u001b[39;00m(results\u001b[38;5;241m.\u001b[39mstderr\u001b[38;5;241m.\u001b[39mdecode(\u001b[38;5;124m\"\u001b[39m\u001b[38;5;124mutf-8\u001b[39m\u001b[38;5;124m\"\u001b[39m))\n\u001b[0;32m    105\u001b[0m \u001b[38;5;28;01mwith\u001b[39;00m \u001b[38;5;28mopen\u001b[39m(results_path, \u001b[38;5;124m\"\u001b[39m\u001b[38;5;124mrb\u001b[39m\u001b[38;5;124m\"\u001b[39m) \u001b[38;5;28;01mas\u001b[39;00m f:\n\u001b[0;32m    106\u001b[0m     results \u001b[38;5;241m=\u001b[39m dill\u001b[38;5;241m.\u001b[39mload(f)\n",
      "\u001b[1;31mRuntimeError\u001b[0m: c:\\Users\\yeasshhhh\\anaconda3\\Lib\\site-packages\\zmq\\_future.py:679: RuntimeWarning: Proactor event loop does not implement add_reader family of methods required for zmq. Registering an additional selector thread for add_reader support via tornado. Use `asyncio.set_event_loop_policy(WindowsSelectorEventLoopPolicy())` to avoid this warning.\r\n  self._get_loop()\r\n"
     ]
    }
   ],
   "source": [
    "# Save your notebook first, then run this cell to export your submission.\n",
    "grader.export(pdf=False, run_tests=True)"
   ]
  },
  {
   "cell_type": "markdown",
   "metadata": {},
   "source": [
    " "
   ]
  }
 ],
 "metadata": {
  "kernelspec": {
   "display_name": "Python 3",
   "language": "python",
   "name": "python3"
  },
  "language_info": {
   "codemirror_mode": {
    "name": "ipython",
    "version": 3
   },
   "file_extension": ".py",
   "mimetype": "text/x-python",
   "name": "python",
   "nbconvert_exporter": "python",
   "pygments_lexer": "ipython3",
   "version": "3.11.5"
  },
  "otter": {
   "OK_FORMAT": true,
   "tests": {
    "Rotate_link": {
     "name": "Rotate_link",
     "points": 2,
     "suites": [
      {
       "cases": [
        {
         "code": ">>> assert(np.isclose(mat_rotate_link[0, 0], np.cos(rotate_amt)))\n",
         "hidden": false,
         "locked": false
        },
        {
         "code": ">>> assert(np.isclose(mat_rotate_link[1, 0], np.sin(rotate_amt)))\n",
         "hidden": false,
         "locked": false
        }
       ],
       "scored": true,
       "setup": "",
       "teardown": "",
       "type": "doctest"
      }
     ]
    },
    "hours_collaborators": {
     "name": "hours_collaborators",
     "points": 1,
     "suites": [
      {
       "cases": [
        {
         "code": ">>> assert(not \"not filled out\" in worked_with_names)\n",
         "hidden": false,
         "locked": false
        },
        {
         "code": ">>> assert(not \"not filled out\" in websites)\n",
         "hidden": false,
         "locked": false
        },
        {
         "code": ">>> assert(hours > 0)\n",
         "hidden": false,
         "locked": false
        }
       ],
       "scored": true,
       "setup": "",
       "teardown": "",
       "type": "doctest"
      }
     ]
    },
    "long_skinny_rect": {
     "name": "long_skinny_rect",
     "points": 2,
     "suites": [
      {
       "cases": [
        {
         "code": ">>> assert(np.isclose(mat_transform_square[0, 2], link_length * 0.5))\n",
         "hidden": false,
         "locked": false
        },
        {
         "code": ">>> assert(np.isclose(mat_transform_square[1, 2], 0.0))\n",
         "hidden": false,
         "locked": false
        },
        {
         "code": ">>> assert(np.isclose(mat_transform_square[0, 0], link_length * 0.5))\n",
         "hidden": false,
         "locked": false
        },
        {
         "code": ">>> assert(np.isclose(mat_transform_square[1, 1], link_width * 0.5))\n",
         "hidden": false,
         "locked": false
        }
       ],
       "scored": true,
       "setup": "",
       "teardown": "",
       "type": "doctest"
      }
     ]
    },
    "make_smaller_link": {
     "name": "make_smaller_link",
     "points": 2,
     "suites": [
      {
       "cases": [
        {
         "code": ">>> assert(np.isclose(mat_transform_square_small[0, 0], link_length_small * 0.5))\n",
         "hidden": false,
         "locked": false
        },
        {
         "code": ">>> assert(np.isclose(mat_transform_square_small[0, 2], link_length_small * 0.5))\n",
         "hidden": false,
         "locked": false
        },
        {
         "code": ">>> assert(np.isclose(mat_move_small_to_end_of_big[0, 2], link_length))\n",
         "hidden": false,
         "locked": false
        },
        {
         "code": ">>> assert(np.isclose(mat_move_small_to_end_of_big[1, 2], 0.0))\n",
         "hidden": false,
         "locked": false
        }
       ],
       "scored": true,
       "setup": "",
       "teardown": "",
       "type": "doctest"
      }
     ]
    },
    "make_square": {
     "name": "make_square",
     "points": 1,
     "suites": [
      {
       "cases": [
        {
         "code": ">>> assert(pts_square.shape == (3, 4) or pts_square.shape == (3, 5))\n",
         "hidden": false,
         "locked": false
        },
        {
         "code": ">>> assert(np.count_nonzero(pts_square[0:2, 0:4] == -1) == 4)\n",
         "hidden": false,
         "locked": false
        },
        {
         "code": ">>> assert(np.count_nonzero(pts_square[0:2, 0:4] == 1) == 4)\n",
         "hidden": false,
         "locked": false
        }
       ],
       "scored": true,
       "setup": "",
       "teardown": "",
       "type": "doctest"
      }
     ]
    }
   }
  }
 },
 "nbformat": 4,
 "nbformat_minor": 2
}
