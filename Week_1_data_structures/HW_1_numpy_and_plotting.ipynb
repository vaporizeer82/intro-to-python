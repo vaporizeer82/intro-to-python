{
 "cells": [
  {
   "cell_type": "code",
   "execution_count": 1,
   "metadata": {
    "deletable": false,
    "editable": false
   },
   "outputs": [],
   "source": [
    "# Initialize Otter\n",
    "import otter\n",
    "grader = otter.Notebook(\"HW_1_numpy_and_plotting.ipynb\")"
   ]
  },
  {
   "cell_type": "markdown",
   "metadata": {},
   "source": [
    "# HW 1: Statistical analysis of data using numpy and matplotlib\n",
    "\n",
    "Resources: Lecture slides describing the homework: https://docs.google.com/presentation/d/1ef0msC9XIT37_Yg94Cf4TL9VBgbIIfkKik8jgshskjE/edit?usp=sharing\n",
    "\n",
    "Please do lab 1 before starting the first part of this homework, lab 2 before the second part, and lab 3 before tackling the last problem (the plotting part).\n",
    "\n",
    "In this homework the focus is on code *design*. Most of the functionality of the code will be what you did in the labs. I don't expect you to do the code design; I've provided that. Just pay attention to how a couple of code structuring tools (functions, dictionaries) can make your code a little more re-usable, cleaner, and less prone to error. \n",
    "\n",
    "- Generalization 1: Put the code that calculates the statistics into a function \n",
    "- Generalization 2: Store the results in a dictionary so it's labeled and you don't have to worry about variable name re-use\n",
    "\n",
    "Learning to *read* code is also as important as *writing* code. This is (hopefully) a gentle introduction to using/interacting with more advanced concepts/syntax/semantics. \n",
    "\n",
    "Where you're going with the week 1 & 2 problems: Take a look in the **Data** directory at the **HW1_check_results.json** file (open it up with a text editor). Compare it to **proxy_data_description.json**.  When you are done with problems 1-3 you will have a dictionary that has the statistical summary data in it. This is much the same as what you did in the last problem in Lab 1, except you'll do it for all data channels."
   ]
  },
  {
   "cell_type": "markdown",
   "metadata": {
    "deletable": false,
    "editable": false
   },
   "source": [
    "## Week 1, problem 0: Setting up libraries\n",
    "TODO: Import the libraries that you will need (numpy, json, matplotlib for week 2)"
   ]
  },
  {
   "cell_type": "code",
   "execution_count": 4,
   "metadata": {
    "tags": []
   },
   "outputs": [],
   "source": [
    "# Libraries that we need to import - numpy and json (for loading the description file) and matplotlib for plotting\n",
    "\n",
    "\n",
    "# TODO: put the numpy, json, and matplotlib (week 3) imports here so you can use those libraries (see the tops of Lab 1 and 3)\n",
    "#  Parts 1 and 2 only need numpy and json. Part 3 needs matplotlib; you can either look at lab 3 and copy the import now or do\n",
    "#  it later\n",
    "\n",
    "import numpy as np \n",
    "import json as json"
   ]
  },
  {
   "cell_type": "code",
   "execution_count": 5,
   "metadata": {
    "deletable": false,
    "editable": false
   },
   "outputs": [
    {
     "data": {
      "text/html": [
       "<p><strong><pre style='display: inline;'>libraries</pre></strong> passed! 💯</p>"
      ],
      "text/plain": [
       "libraries results: All test cases passed!"
      ]
     },
     "execution_count": 5,
     "metadata": {},
     "output_type": "execute_result"
    }
   ],
   "source": [
    "grader.check(\"libraries\")"
   ]
  },
  {
   "cell_type": "markdown",
   "metadata": {
    "deletable": false,
    "editable": false
   },
   "source": [
    "## Week 1, problem 1 Read and store data\n",
    "\n",
    "In this problem you'll read in the same data you used in lab 1, calculate the same values/split up the csv data, but this time, \"store\" everything in the dictionary **pick_data_description**.\n",
    "\n",
    "Almost all of this is copying the code you wrote in Lab 1 and, instead of storing the result in a variable, store it in the dictionary.\n",
    "\n",
    "Why do this? As we'll see next week, having all the data in one place - in a dictionary - makes it easier to pass it to functions."
   ]
  },
  {
   "cell_type": "code",
   "execution_count": 45,
   "metadata": {
    "tags": []
   },
   "outputs": [],
   "source": [
    "# TODO Read in the csv file \"Data/proxy_pick_data.csv\"\n",
    "#  Split it up into the pick data and the successful y/n data (the last column).\n",
    "#  Calculate the number of picks, number of time steps, and number of channels as before\n",
    "#\n",
    "#  Store all of these in a dictionary with the following keys:\n",
    "# \"pick data\" - the numeric data (without the last column)\n",
    "# \"success yn\" - the successful pick, y/n data\n",
    "# \"n picks\" - the total number of picks\n",
    "# \"n successful\" - the number of successful picks\n",
    "#   Note: Do these two after you read in the json file\n",
    "# \"n timesteps\" - the number of time steps\n",
    "# \"n total dims\" - the total number of data channels per time step\n",
    "\n",
    "# Dictionary to put all the data in\n",
    "\n",
    "\n",
    "# TODO Read the data\n",
    "# TODO Calculate the values above \n",
    "try:\n",
    "    with open(\"Data/proxy_data_description.json\", \"r\") as fp:\n",
    "        pick_data_description = json.load(fp)\n",
    "except FileNotFoundError:\n",
    "    print(f\"The file was not found; check that the data directory is in the current one and the file is in that directory\")\n",
    "\n",
    "data_channels = pick_data_description[\"Data channels\"]\n",
    "\n",
    "n_total_dims = 0\n",
    "\n",
    "for i in data_channels:\n",
    "    for k, v in i.items():\n",
    "        if k=='dimensions':\n",
    "            n_total_dims = n_total_dims + v\n",
    "\n",
    "\n",
    "\n",
    "all_data=np.loadtxt('proxy_pick_data.csv',dtype=float,delimiter=',')\n",
    "pick_data = all_data[:,1:-1]\n",
    "\n",
    "pick_data_dict = {\"pick data\": all_data[:,1:-1], \n",
    "                  \"success yn\": all_data[:,-1], \n",
    "                  \"n picks\": len(all_data), \n",
    "                  \"n successful\": np.count_nonzero(all_data[:,-1]), \n",
    "                  \"n unsuccessful\": 660- np.count_nonzero(all_data[:,-1]),\n",
    "                  \"n timesteps\":  all_data.shape[1]//n_total_dims, \n",
    "                  \"n total dims\": n_total_dims\n",
    "}\n",
    "\n"
   ]
  },
  {
   "cell_type": "code",
   "execution_count": 46,
   "metadata": {
    "deletable": false,
    "editable": false
   },
   "outputs": [
    {
     "data": {
      "text/html": [
       "<p><strong><pre style='display: inline;'>chop_up_data</pre></strong> passed! 🎉</p>"
      ],
      "text/plain": [
       "chop_up_data results: All test cases passed!"
      ]
     },
     "execution_count": 46,
     "metadata": {},
     "output_type": "execute_result"
    }
   ],
   "source": [
    "grader.check(\"chop_up_data\")"
   ]
  },
  {
   "cell_type": "markdown",
   "metadata": {
    "deletable": false,
    "editable": false
   },
   "source": [
    "## Week 1, Problem 2: Reverse dictionary\n",
    "\n",
    "Searching through **data_channels** every time you want to find the one with a specific name is tiresome; in this problem we'll create a \"reverse dictionary\", where the dictionary entry \"name\" is the index of the channel \"name\""
   ]
  },
  {
   "cell_type": "code",
   "execution_count": null,
   "metadata": {
    "tags": []
   },
   "outputs": [],
   "source": [
    "# EXAMPLE CODE\n",
    "# Make a list with three names\n",
    "my_list_with_names = [\"name1\", \"name2\", \"name3\"]\n",
    "\n",
    "# Make an empty dictionary\n",
    "my_reverse_dict_names = {}\n",
    "\n",
    "# Now loop through the list and add a key for each element. Use enumerate to get 0, 1, 2 \n",
    "for index, name in enumerate(my_list_with_names):\n",
    "    # Add the key-index pair to the dictionary\n",
    "    my_reverse_dict_names[name] = index\n",
    "\n",
    "# Check that it works - note the use of singe quotes '' for the key since the outer string is specified with \"\"\n",
    "print(f\"Name name1 is at index {my_reverse_dict_names['name1']}\")"
   ]
  },
  {
   "cell_type": "code",
   "execution_count": null,
   "metadata": {
    "tags": []
   },
   "outputs": [],
   "source": [
    "# TODO: Make a similar reverse index dictionary, this time with the names in data_channels\n",
    "# \n",
    "\n",
    "# Empty dictionary to put the names in\n",
    "reverse_name_dict = {}\n",
    "\n",
    "# TODO: make a for loop to loop over all of the data channels. Use enumerate to get the index. Use the data\n",
    "# channel name as the key. \n",
    "...\n",
    "\n",
    "# Save this dictionary in pick_data_dict - you'll need it week 3\n",
    "pick_data_dict[\"reverse dict\"] = reverse_name_dict\n",
    "\n",
    "# This will give a key error until you've filled in the dictionary\n",
    "print(f\"Index of 'Wrist torque' is {reverse_name_dict['Wrist torque']}, should be 1\")\n",
    "\n",
    "print(reverse_name_dict)"
   ]
  },
  {
   "cell_type": "code",
   "execution_count": null,
   "metadata": {
    "deletable": false,
    "editable": false
   },
   "outputs": [],
   "source": [
    "grader.check(\"reverse_dictionary\")"
   ]
  },
  {
   "cell_type": "markdown",
   "metadata": {
    "deletable": false,
    "editable": false
   },
   "source": [
    "## Week 2, problem 1 - stats functions\n",
    "\n",
    "TODO: Copy over the two stats functions - **calc_stats** and **calc_stats_for_channel** - that you did in lab 2. "
   ]
  },
  {
   "cell_type": "code",
   "execution_count": null,
   "metadata": {
    "tags": []
   },
   "outputs": [],
   "source": [
    "# Calc stats function\n",
    "..."
   ]
  },
  {
   "cell_type": "code",
   "execution_count": null,
   "metadata": {
    "tags": []
   },
   "outputs": [],
   "source": [
    "# calc stats for channel function\n",
    "..."
   ]
  },
  {
   "cell_type": "code",
   "execution_count": null,
   "metadata": {
    "tags": []
   },
   "outputs": [],
   "source": [
    "# SCRATCH CELL\n",
    "#   Copy over the asserts is you think theses functions are not working \n",
    "test_data = np.zeros((2, 10))\n",
    "test_data[0, :] = np.linspace(0, 1, 10)\n",
    "test_data[1, :] = np.linspace(0, 1, 10)\n",
    "ret_dict = calc_stats_for_channel(test_data, 1)"
   ]
  },
  {
   "cell_type": "code",
   "execution_count": null,
   "metadata": {
    "deletable": false,
    "editable": false
   },
   "outputs": [],
   "source": [
    "grader.check(\"stats_functions\")"
   ]
  },
  {
   "cell_type": "markdown",
   "metadata": {
    "deletable": false,
    "editable": false
   },
   "source": [
    "## Week 2, Problem 2 - slice function\n",
    "\n",
    "Copy your slice function, **get_channel_data**, from lecture activity 2 to here.\n",
    "\n",
    "In this problem we're going to use the **pick_data_dict** dictionary you created at the start of this file to reduce the number of parameters that **get_channel_data** takes. Which parameters? The ones that stay the same no matter which channel you are working with.\n",
    "\n",
    "TODO: \n",
    "- Step 1: Copy over the body of your **get_channel_data** function\n",
    "- Step 2: Replace input variables (like all_data) with the corresponding dictionary entry in **pick_data_dict**"
   ]
  },
  {
   "cell_type": "code",
   "execution_count": null,
   "metadata": {
    "tags": []
   },
   "outputs": [],
   "source": [
    "# New and improved get channel data that takes in just the data, the pick_data_dict, the start index, and the number\n",
    "#   of dimensions for that channel\n",
    "def get_channel_data(pick_data_dict, start_index, n_dims):\n",
    "    \"\"\" Get the data for just one channel (eg, wrist torque)\n",
    "    @param pick_data_dict - a dictionary with the pick data, number of picks (number of rows in all_data), n time steps, and n total dims\n",
    "    @param start_index - where to start getting data from \n",
    "    @param n_dims - total number of dimensions to use (1, 2, or 3)\n",
    "    @return Return array should be n_picks X (n_timesteps * n_dims)\"\"\"\n",
    "\n",
    "    # TODO Your slice code goes here. Note that some of the input paramters are gone; you should use\n",
    "    #   pick_data_dict[\"n picks\"] instead of the variable n_picks, etc\n",
    "    # If you're having trouble with this, declare the previous variables here, eg\n",
    "    all_data = pick_data_dict[\"pick data\"]\n",
    "    n_picks = pick_data_dict[\"n picks\"]\n",
    "    ..."
   ]
  },
  {
   "cell_type": "code",
   "execution_count": null,
   "metadata": {
    "tags": []
   },
   "outputs": [],
   "source": [
    "# SCRATCH CELL\n",
    "# If you need to, copy over the test data that was used in lab 2 to test this function. You'll need to make a \n",
    "#  dictionary to pass in."
   ]
  },
  {
   "cell_type": "code",
   "execution_count": null,
   "metadata": {
    "tags": []
   },
   "outputs": [],
   "source": [
    "# Call the function with hard-wired data - at least for the second and third paramters\n",
    "\n",
    "# Our old friend wrist torque\n",
    "wrist_torque_start_index = 3\n",
    "n_dims_wrist_torque = 3\n",
    "wrist_torque_data = get_channel_data(pick_data_dict, start_index=wrist_torque_start_index, n_dims=n_dims_wrist_torque)\n",
    "\n",
    "# Our newer friend motor effort\n",
    "motor_effort_f1_start_index = 14\n",
    "n_dims_motor_effort_f1 = 1\n",
    "motor_effort_f1_data = get_channel_data(pick_data_dict, start_index=motor_effort_f1_start_index, n_dims=n_dims_motor_effort_f1)\n"
   ]
  },
  {
   "cell_type": "code",
   "execution_count": null,
   "metadata": {
    "tags": []
   },
   "outputs": [],
   "source": [
    "# SCRATCH CELL\n",
    "# You can put prints/data checks here"
   ]
  },
  {
   "cell_type": "code",
   "execution_count": null,
   "metadata": {
    "deletable": false,
    "editable": false
   },
   "outputs": [],
   "source": [
    "grader.check(\"slice_function\")"
   ]
  },
  {
   "cell_type": "markdown",
   "metadata": {
    "deletable": false,
    "editable": false
   },
   "source": [
    "## Week 2, Problem 3 - stats for all channels\n",
    "\n",
    "In this problem we put it all together - loop over all of the data channels, calculate the stats for each, then add those stats back into the **proxy_data_description** dictionary. The pseudo code is:\n",
    "\n",
    "for each data channel in **proxy_data_description**\n",
    "- use **get_channel_data** to get out the data for just that channel\n",
    "- call **get_stats_for_channel** to get the stats\n",
    "- add those stats to the channel dictionary with the key \"stats\"\n"
   ]
  },
  {
   "cell_type": "code",
   "execution_count": null,
   "metadata": {
    "tags": []
   },
   "outputs": [],
   "source": [
    "# EXAMPLE CODE\n",
    "# The usual random set of numbers\n",
    "test_data = np.random.uniform(0, 1, (3, 10))\n",
    "# A list with three dictionaries in it, each with an \"index\" key \n",
    "my_list = [{\"index\": 0}, {\"index\": 1}, {\"index\": 2}]\n",
    "\n",
    "# Loop over the list\n",
    "for dict_elem in my_list:\n",
    "    # Calculate stats for the given row\n",
    "    stats = calc_stats(test_data[dict_elem[\"index\"], :])\n",
    "    # Add the stats to the current dictionary in my_list\n",
    "    #  Note: This works because dictionaries are pointers\n",
    "    dict_elem[\"stats\"] = stats\n",
    "print(my_list)"
   ]
  },
  {
   "cell_type": "code",
   "execution_count": null,
   "metadata": {
    "tags": []
   },
   "outputs": [],
   "source": [
    "# TODO: Turn the above pseudo code into real code\n",
    "#  Note 1: the index to start at and the dimensions for the channel are in the channel\n",
    "..."
   ]
  },
  {
   "cell_type": "code",
   "execution_count": null,
   "metadata": {
    "tags": []
   },
   "outputs": [],
   "source": [
    "# SCRATCH CELL\n",
    "# If you can't get the full for loop to work, try:\n",
    "#  do one channel (with actual numbers for the offset index, n dims)\n",
    "#  Calculate the stats and add that to the pick data cell (check that they're the same as in the check file)\n",
    "# Un-hardwire the numbers do, eg, ch = pick_data_description[\"data channels\"][0]\n",
    "#  - replace the numbers with dictionary accesses to ch\n",
    "# Now use eg, index = 0 to pick which data channel\n",
    "# Now put the for loop around it, using the index as the variable"
   ]
  },
  {
   "cell_type": "code",
   "execution_count": null,
   "metadata": {
    "tags": []
   },
   "outputs": [],
   "source": [
    "# This bit of code writes out the pick_data_description variable into a json file\n",
    "\n",
    "\n",
    "with open('Data/HW1_student_results.json', 'w') as f:\n",
    "    json.dump(pick_data_description, f, indent=4)"
   ]
  },
  {
   "cell_type": "code",
   "execution_count": null,
   "metadata": {
    "tags": []
   },
   "outputs": [],
   "source": [
    "# This imports the function from the python file\n",
    "from check_json_answers import compare_files\n",
    "if compare_files(\"HW1_student_results.json\", \"HW1_check_results.json\"):\n",
    "    print(\"Files are the same!\")\n",
    "else:\n",
    "    print(\"Files are NOT the same, test failed\")\n"
   ]
  },
  {
   "cell_type": "code",
   "execution_count": null,
   "metadata": {
    "deletable": false,
    "editable": false
   },
   "outputs": [],
   "source": [
    "grader.check(\"stats_all_channels\")"
   ]
  },
  {
   "cell_type": "markdown",
   "metadata": {
    "deletable": false,
    "editable": false
   },
   "source": [
    "# Week 3, Problem 1: Boolean slicing to get stats for successful versus unsuccessful picks out\n",
    "\n",
    "We're going to use the functions you wrote last week in a slightly different way - this time, we're going to write a function that gets the maximum value out for successful vs unsuccessful picks for a channel, given that channel's name. Because we already have the stats and slicing functions, this is mostly just *calling* those functions, but with slightly different data. You'll also need the reverse dictionary you made in problem 1 (which is stored in **pick_data_dict[\"reverse dict\"]**). \n",
    "\n",
    "Note: You can, if you want, store the boolean \n",
    "\n",
    "We're going to return the values in a dictionary, to make it easier to do the plot problem."
   ]
  },
  {
   "cell_type": "code",
   "execution_count": null,
   "metadata": {
    "tags": []
   },
   "outputs": [],
   "source": [
    "# Step 1 - store the boolean index for successful/unsuccesful in pick_data_dict, just so you have it\n",
    "pick_data_dict[\"b_successful\"] = ...\n",
    "pick_data_dict[\"b_unsuccessful\"] = ...\n",
    "\n",
    "assert(pick_data_dict[\"b_successful\"].shape ==(660,))\n",
    "assert(pick_data_dict[\"b_unsuccessful\"].shape ==(660,))\n",
    "assert(np.count_nonzero(pick_data_dict[\"b_successful\"]) == 355)\n",
    "assert(np.count_nonzero(pick_data_dict[\"b_unsuccessful\"]) == 660 - 355)"
   ]
  },
  {
   "cell_type": "code",
   "execution_count": null,
   "metadata": {
    "tags": []
   },
   "outputs": [],
   "source": [
    "# SCRATCH CELL\n",
    "# Write and test the interior of the function here\n",
    "\n",
    "# Try this with  Motor effort f1 and 0 then try it with Wrist torque and 0 (x), then 2 (z), \n",
    "channel_name = \"Motor effort f1\"\n",
    "xyz_dim = 0\n",
    "\n",
    "# Step 1: First, use the reverse dictionary in pick_data_dict to get out the index for data channels\n",
    "\n",
    "# Step 2: Get out the channel info for pick_data_description[\"Data channels\"] using that index\n",
    "\n",
    "# Step 3: Call get_channel_data to get all of the data for that channel. Remember that you pass in \"index_offset\" and \"dimensions\" from\n",
    "#   the channel info to get the right data slice - DON'T use xyz_dim\n",
    "\n",
    "# Step 4: Now use the boolean array in pick_data_dict to get out just the rows of the successful data (another data slice)\n",
    "\n",
    "# Step 5: Call calc_stats with that slice you just made - this will do the stats for JUST the successful data\n",
    "\n",
    "# Step 6: Extract the max from the returned stats - this is where you use xyz_dim, to pick out one of the x,y,z stats\n",
    "\n",
    "# Repeat steps 4-6 for the unsuccessful data\n",
    "\n",
    "# Answers for the three examples above are given below the function\n",
    "\n",
    "# A note on the optional problem: do the np.where search on the entire set of data returned from get_channel_data, then\n",
    "#  check if the row is in successful/unsucessful. Otherwise, the row index will be wrong"
   ]
  },
  {
   "cell_type": "code",
   "execution_count": null,
   "metadata": {
    "tags": []
   },
   "outputs": [],
   "source": [
    "def get_max_successful_unsuccessful(pick_data_dict, channel_name, xyz_dim):\n",
    "    \"\"\" Get the maximum for successful and unsuccessful picks, for the channel with the given name. If the channel has\n",
    "        more than one dimension (eg, x,y,z), pass in which dimension (0,1,2) in xyz_dim\n",
    "    @param pick_data_dict - dictionary with the data we need\n",
    "    @param channel_name - a string with one of the channel names\n",
    "    @param xyz_dim - 0, 1, or 2 for x, y, z\n",
    "    @returns - A dictionary with the data \"\"\"\n",
    "\n",
    "    # The return dictionary  \n",
    "    ret_dict = {\"name\": channel_name, \"dim\": xyz_dim,  # Keep these to make plotting easier\n",
    "                \"max_successful\":-1, \"max_unsuccessful\":-1,  # The ones you need to calculate\n",
    "                \"rows_successful\": [], \"rows_unsuccessful\": [] }  # Optional - the row where the maxes were found\n",
    "    # TODO: See Scratch cell above\n",
    "    return ret_dict\n"
   ]
  },
  {
   "cell_type": "code",
   "execution_count": null,
   "metadata": {
    "tags": []
   },
   "outputs": [],
   "source": [
    "# Check/test the function\n",
    "ret_results_motor_effort_f1_x = get_max_successful_unsuccessful(pick_data_dict, \"Motor effort f1\", xyz_dim=0)\n",
    "print(f\"Motor effort f1: successful max {ret_results_motor_effort_f1_x['max_successful']}, expected 174.850\")\n",
    "print(f\"Motor effort f1: unsuccessful max {ret_results_motor_effort_f1_x['max_unsuccessful']}, expected 137.1900\")\n",
    "print(f\"Motor effort f1: successful rows {ret_results_motor_effort_f1_x['rows_successful']}, expected [148, 208]\")\n",
    "print(f\"Motor effort f1: unsuccessful rows {ret_results_motor_effort_f1_x['rows_unsuccessful']}, expected [359, 595]\")\n",
    "\n",
    "ret_results_wrist_torque_x = get_max_successful_unsuccessful(pick_data_dict, \"Wrist torque\", xyz_dim=0)\n",
    "print(f\"Wrist torque x: successful max {ret_results_wrist_torque_x['max_successful']}, expected 0.6355\")\n",
    "print(f\"Wrist torque x: unsuccessful max {ret_results_wrist_torque_x['max_unsuccessful']}, expected 1.07045\")\n",
    "print(f\"Wrist torque x: successful rows {ret_results_wrist_torque_x['rows_successful']}, expected [102]\")\n",
    "print(f\"Wrist torque x: unsuccessful rows {ret_results_wrist_torque_x['rows_unsuccessful']}, expected [557]\")\n",
    "\n",
    "ret_results_wrist_torque_z = get_max_successful_unsuccessful(pick_data_dict, \"Wrist torque\", xyz_dim=2)\n",
    "print(f\"Wrist torque z: successful max {ret_results_wrist_torque_z['max_successful']}, expected 0.34046\")\n",
    "print(f\"Wrist torque z: unsuccessful max {ret_results_wrist_torque_z['max_unsuccessful']}, expected 0.3265\")\n",
    "print(f\"Wrist torque z: successful rows {ret_results_wrist_torque_z['rows_successful']}, expected [82]\")\n",
    "print(f\"Wrist torque z: unsuccessful rows {ret_results_wrist_torque_z['rows_unsuccessful']}, expected [563]\")\n",
    "\n"
   ]
  },
  {
   "cell_type": "code",
   "execution_count": null,
   "metadata": {
    "deletable": false,
    "editable": false
   },
   "outputs": [],
   "source": [
    "grader.check(\"min_max\")"
   ]
  },
  {
   "cell_type": "markdown",
   "metadata": {
    "deletable": false,
    "editable": false
   },
   "source": [
    "## Week 3 Problem 2\n",
    "\n",
    "In this problem we're going to create a (relatively) general plot function - very similar to Lab 3's - to plot a given channel for a given row. There are a lot of ways to structure a plot function like this; for this problem these are the assumptions we're going to make:\n",
    "\n",
    "- Data: For the data, we'll assume that the calling function has already done the slice - picking out which row to plot, and getting all of the channel data using **get_channel_data**. \n",
    "- t values: The calling function has already made the t values and will pass them in\n",
    "- dimensions: Will be 1, 2, or 3 - if the data has x only, x,y, or x,y,z data (eg, how many lines to plot)\n",
    "- axis labels, and title: The calling function will pass these in as units and title\n",
    "- min and max - pass in the minimum and maximum values for that channel (use to draw lines)\n"
   ]
  },
  {
   "cell_type": "code",
   "execution_count": null,
   "metadata": {
    "tags": []
   },
   "outputs": [],
   "source": [
    "def plot_channel_row(axs, ts, data, dimensions, units, title, min_max):\n",
    "    \"\"\" Plot a specific channel, all dimensions\n",
    "    @param axs - the axes of the plot to use\n",
    "    @param ts - t values of the data [1 x n time steps]\n",
    "    @param data - y values of the data [3 x n time steps] OR [1 x n time steps] \n",
    "    @param units - a string, with the units from the channel info from the proxy_data_description.json file (e.g. N.m)\n",
    "    @param title - a string for the title. \n",
    "    @param min_max - (min, max) - a tuple with the min and maximum values\"\"\"\n",
    "\n",
    "    map_to_xyz = ['x', 'y', 'z']\n",
    "\n",
    "    # TODO: Copy your lab 2 part 2 code here\n",
    "    # 1 - change the y label to be units, and the title to be title\n",
    "    # 2 You'll want a for loop to handle dimensions\n",
    "    # 3 Add in a horizontal line for the min, and one for the max\n",
    "    #  This is just a plot with t0,min to tmax,max as the two \"data\" points. See also axhline.\n",
    "Don't forget to import matplotlib\n"
   ]
  },
  {
   "cell_type": "code",
   "execution_count": null,
   "metadata": {
    "tags": []
   },
   "outputs": [],
   "source": [
    "# Create two plots, one the wrist torque data, the other the motor effort f1\n",
    "n_rows = 1\n",
    "n_cols = 2\n",
    "fig, axs = plt.subplots(n_rows, n_cols, figsize=(6, 3))\n",
    "\n",
    "time_step = 1.0 / 30   # Seconds\n",
    "ts = np.arange(start=0, stop=pick_data_dict[\"n timesteps\"] * time_step, step=time_step)\n",
    "\n",
    "# To get the min and the max - you already built the reverse dictionary and did the stats.\n",
    "which_channel_index = pick_data_dict[\"reverse dict\"][\"Wrist torque\"]\n",
    "ch_info =  pick_data_description[\"Data channels\"][which_channel_index]\n",
    "\n",
    "# The stats you already calculated and stored in the channel\n",
    "stats_info = ch_info[\"stats\"]\n",
    "# Use the z maximum and minimum\n",
    "min_max_stats = (stats_info[2][\"Min\"], stats_info[2][\"Max\"])\n",
    "plot_channel_row(axs[0], ts, wrist_torque_data[0, :], ch_info[\"dimensions\"], ch_info[\"units\"], ch_info[\"name\"], min_max_stats)\n",
    "\n",
    "# TODO Now do the Motor effort f1 plot in the second plot window\n",
    "#  Don't forget that this only has 1 dimension of data\n",
    "#  Get the units from the channel info\n",
    "...\n",
    "plt.tight_layout()"
   ]
  },
  {
   "cell_type": "code",
   "execution_count": null,
   "metadata": {
    "deletable": false,
    "editable": false
   },
   "outputs": [],
   "source": [
    "grader.check(\"plot_function\")"
   ]
  },
  {
   "cell_type": "markdown",
   "metadata": {
    "deletable": false,
    "editable": false
   },
   "source": [
    "<!-- BEGIN QUESTION -->\n",
    "\n",
    "## Week 3: Problem 3: Plot several channels for two rows\n",
    "\n",
    "Plot the given channels for the first and second row. \n",
    " - You should get the units, dimensions, and min/max values from **pick_data_description[\"Data channels\"]**, not hard-wire the answers (If the list of channel names to print changed, your code should still work)\n",
    " - Title should have the row number in it, as well as the channel name, and if the pick was successful y/n\n",
    " \n",
    " - Top row: first successful pick\n",
    " - Bottom row: first unsuccessful pick\n",
    " \n",
    " - See https://docs.google.com/presentation/d/1ef0msC9XIT37_Yg94Cf4TL9VBgbIIfkKik8jgshskjE/edit?usp=sharing for what this should look like\n",
    "\n",
    "You should be able to do this with calls to the plotting function above; you should not have to write any additional plotting code"
   ]
  },
  {
   "cell_type": "code",
   "execution_count": null,
   "metadata": {
    "tags": []
   },
   "outputs": [],
   "source": [
    "# SCRATCH CELL\n",
    "# In the previous problem I gave example code for how to use the reverse dictionary to get all of the info you need\n",
    "#  for calling the plot function; copy it here and try changing the name from, eg, Wrist torque to Wrist force, and see if it still \n",
    "#  works. Then put it in a for loop for the actual channel name\n",
    "# To get the data you'll have to go back and see how get_channel_data was called - again, using ch_info to get the parameters\n",
    "#\n",
    "# See the next cell for creating a for loop to loop over the two rows\n",
    "\n"
   ]
  },
  {
   "cell_type": "code",
   "execution_count": null,
   "metadata": {
    "tags": []
   },
   "outputs": [],
   "source": [
    "# EXAMPLE CODE\n",
    "# Here's an easy way to turn something into a for loop from some values\n",
    "# Use this to loop over the rows\n",
    "\n",
    "v1 = 1.0\n",
    "v2 = 2.0\n",
    "v3 = 3.0\n",
    "\n",
    "# You'll need i to get out which axs[i, j] plot to use\n",
    "for i, v in enumerate((v1, v2, v3)):\n",
    "    print(f\"Value {v}, at index {i}\")"
   ]
  },
  {
   "cell_type": "code",
   "execution_count": null,
   "metadata": {
    "tags": []
   },
   "outputs": [],
   "source": [
    "# Channel names - these are the channels that turned out to be the most important in determining if a pick failed\n",
    "#   or not. Plot them for the two rows given (I did the np.where for you)\n",
    "\n",
    "channel_names_to_plot = [\"Wrist torque\", \"Motor effort f1\", \"Motor effort f2\", \"Motor effort f3\", \"IMU accel f1\"]\n",
    "\n",
    "# Getting the two rows to plot\n",
    "first_successful_row = np.where(pick_data_dict[\"b_successful\"] == True)[0][0]\n",
    "first_unsuccessful_row = np.where(pick_data_dict[\"b_unsuccessful\"] == True)[0][0]\n",
    "\n",
    "n_rows = 2\n",
    "n_cols = len(channel_names_to_plot)\n",
    "fig, axs = plt.subplots(n_rows, n_cols, figsize=(18, 4))\n",
    "\n",
    "...\n",
    "# Pseudo code\n",
    "# for each row\n",
    "#    for each channel name in channel_names_to_plot\n",
    "#        Use reverse dicitonary to get out the channel index (to get the ch_info)\n",
    "#        Use the ch_info to get out both the stats AND the data slice\n",
    "#        Remember to plot data[row, :], not all of data\n",
    "#        You'll want to use enumerate to the the indices (ir and ic) to use for axs\n",
    "#          plot_channel_row(axs[ir, ic], ts, ...)\n",
    "#        Don't forget to change the title to include the row number and successful y/n\n",
    "\"\"\" # END PROPMT\n",
    "plt.tight_layout()\n"
   ]
  },
  {
   "cell_type": "code",
   "execution_count": null,
   "metadata": {
    "deletable": false,
    "editable": false
   },
   "outputs": [],
   "source": [
    "grader.check(\"plot_specific_channels\")"
   ]
  },
  {
   "cell_type": "markdown",
   "metadata": {
    "deletable": false,
    "editable": false
   },
   "source": [
    "<!-- END QUESTION -->\n",
    "\n",
    "## Week 3: Optional: Plot Wrist force/torque for min/max wrist torque z\n",
    "\n",
    "Find the row that has the maximum (minimum) wrist torque z value for the successful and unsuccessful picks. Plot the minimum one on the left, the maximum one on the right, and do successful on the top and unsuccessful on the bottom.\n",
    "\n",
    "Full credit for doing this with two for loops; partial credit for doing four plot calls.\n",
    "\n",
    "Note: you have already done a version of this in the first problem this week.\n",
    "\n",
    "You do NOT need to do the optional/extra credit problems to get an A in this class. These optional problems are for the handful of students who \"breezed\" through the first set of problems and are looking for a bit more of a challenge. "
   ]
  },
  {
   "cell_type": "code",
   "execution_count": null,
   "metadata": {
    "tags": []
   },
   "outputs": [],
   "source": [
    "n_rows = 2\n",
    "n_cols = 2\n",
    "fig, axs = plt.subplots(n_rows, n_cols, figsize=(8, 4))\n",
    "\n",
    "...\n",
    "fig.set_tight_layout(tight=True)\n"
   ]
  },
  {
   "cell_type": "markdown",
   "metadata": {
    "deletable": false,
    "editable": false
   },
   "source": [
    "## Hours and collaborators\n",
    "Required for every assignment - fill out before you hand-in.\n",
    "\n",
    "Listing names and websites helps you to document who you worked with and what internet help you received in the case of any plagiarism issues. You should list names of anyone (in class or not) who has substantially helped you with an assignment - or anyone you have *helped*. You do not need to list TAs.\n",
    "\n",
    "Listing hours helps us track if the assignments are too long."
   ]
  },
  {
   "cell_type": "code",
   "execution_count": null,
   "metadata": {
    "tags": []
   },
   "outputs": [],
   "source": [
    "\n",
    "# List of names (creates a set)\n",
    "worked_with_names = {\"not filled out\"}\n",
    "# List of URLS TCW3 (creates a set)\n",
    "websites = {\"not filled out\"}\n",
    "# Approximate number of hours, including lab/in-class time\n",
    "hours = -1.5"
   ]
  },
  {
   "cell_type": "code",
   "execution_count": null,
   "metadata": {
    "deletable": false,
    "editable": false
   },
   "outputs": [],
   "source": [
    "grader.check(\"hours_collaborators\")"
   ]
  },
  {
   "cell_type": "markdown",
   "metadata": {
    "deletable": false,
    "editable": false
   },
   "source": [
    "## Submission\n",
    "\n",
    "Make sure you have run all cells in your notebook in order before running the cell below, so that all images/graphs appear in the output. The cell below will generate a zip file for you to submit. **Please save before exporting!**\n",
    "\n",
    "Submit just the .ipynb file to Gradescope, HWK1 numpy and Plotting. You do not need to put in the data files. Don't change the provided variable names or autograding will fail."
   ]
  },
  {
   "cell_type": "code",
   "execution_count": null,
   "metadata": {
    "deletable": false,
    "editable": false
   },
   "outputs": [],
   "source": [
    "# Save your notebook first, then run this cell to export your submission.\n",
    "grader.export(pdf=False, run_tests=True)"
   ]
  },
  {
   "cell_type": "markdown",
   "metadata": {},
   "source": [
    " "
   ]
  }
 ],
 "metadata": {
  "kernelspec": {
   "display_name": "Python 3",
   "language": "python",
   "name": "python3"
  },
  "language_info": {
   "codemirror_mode": {
    "name": "ipython",
    "version": 3
   },
   "file_extension": ".py",
   "mimetype": "text/x-python",
   "name": "python",
   "nbconvert_exporter": "python",
   "pygments_lexer": "ipython3",
   "version": "3.11.5"
  },
  "otter": {
   "OK_FORMAT": true,
   "tests": {
    "chop_up_data": {
     "name": "chop_up_data",
     "points": 5,
     "suites": [
      {
       "cases": [
        {
         "code": ">>> assert(pick_data_dict[\"pick data\"].shape[0] == 660)\n",
         "hidden": false,
         "locked": false
        },
        {
         "code": ">>> assert(pick_data_dict[\"success yn\"].size == 660)\n",
         "hidden": false,
         "locked": false
        },
        {
         "code": ">>> assert(np.max(pick_data_dict[\"success yn\"]) == 1.0)\n",
         "hidden": false,
         "locked": false
        },
        {
         "code": ">>> assert(pick_data_dict[\"n successful\"] == 355)\n",
         "hidden": false,
         "locked": false
        },
        {
         "code": ">>> assert(pick_data_dict[\"n unsuccessful\"] == 305)\n",
         "hidden": false,
         "locked": false
        },
        {
         "code": ">>> assert(pick_data_dict[\"n timesteps\"] == 40)\n",
         "hidden": false,
         "locked": false
        },
        {
         "code": ">>> assert(pick_data_dict[\"n total dims\"] == 33)\n",
         "hidden": false,
         "locked": false
        }
       ],
       "scored": true,
       "setup": "",
       "teardown": "",
       "type": "doctest"
      }
     ]
    },
    "hours_collaborators": {
     "name": "hours_collaborators",
     "points": 1,
     "suites": [
      {
       "cases": [
        {
         "code": ">>> assert(not \"not filled out\" in worked_with_names)\n",
         "hidden": false,
         "locked": false
        },
        {
         "code": ">>> assert(not \"not filled out\" in websites)\n",
         "hidden": false,
         "locked": false
        },
        {
         "code": ">>> assert(hours > 0)\n",
         "hidden": false,
         "locked": false
        }
       ],
       "scored": true,
       "setup": "",
       "teardown": "",
       "type": "doctest"
      }
     ]
    },
    "libraries": {
     "name": "libraries",
     "points": 2,
     "suites": [
      {
       "cases": [
        {
         "code": ">>> assert(np.min(np.zeros((2,2)) == 0.0))\n",
         "hidden": false,
         "locked": false
        }
       ],
       "scored": true,
       "setup": "",
       "teardown": "",
       "type": "doctest"
      }
     ]
    },
    "min_max": {
     "name": "min_max",
     "points": 2,
     "suites": [
      {
       "cases": [
        {
         "code": ">>> assert(np.isclose(ret_results_motor_effort_f1_x[\"max_successful\"], 174.8500061))\n",
         "hidden": false,
         "locked": false
        },
        {
         "code": ">>> assert(np.isclose(ret_results_wrist_torque_z[\"max_unsuccessful\"], 0.326538637))\n",
         "hidden": false,
         "locked": false
        },
        {
         "code": ">>> assert(np.isclose(ret_results_wrist_torque_x[\"max_unsuccessful\"], 1.070451089))\n",
         "hidden": false,
         "locked": false
        }
       ],
       "scored": true,
       "setup": "",
       "teardown": "",
       "type": "doctest"
      }
     ]
    },
    "plot_function": {
     "name": "plot_function",
     "points": 3,
     "suites": [
      {
       "cases": [
        {
         "code": ">>> print(\"This problem is manually graded, look at the slides for the expected plot\")\n",
         "hidden": false,
         "locked": false
        }
       ],
       "scored": true,
       "setup": "",
       "teardown": "",
       "type": "doctest"
      }
     ]
    },
    "plot_specific_channels": {
     "name": "plot_specific_channels",
     "points": 0,
     "suites": [
      {
       "cases": [
        {
         "code": ">>> print(\"This question is manually graded, look at the slides for the expected plot\")\n",
         "hidden": false,
         "locked": false
        }
       ],
       "scored": true,
       "setup": "",
       "teardown": "",
       "type": "doctest"
      }
     ]
    },
    "reverse_dictionary": {
     "name": "reverse_dictionary",
     "points": 3,
     "suites": [
      {
       "cases": [
        {
         "code": ">>> assert(reverse_name_dict[\"IMU accel f1\"] == 2)\n",
         "hidden": false,
         "locked": false
        }
       ],
       "scored": true,
       "setup": "",
       "teardown": "",
       "type": "doctest"
      }
     ]
    },
    "slice_function": {
     "name": "slice_function",
     "points": 3,
     "suites": [
      {
       "cases": [
        {
         "code": ">>> assert(wrist_torque_data.shape == (660, 120))\n",
         "hidden": false,
         "locked": false
        },
        {
         "code": ">>> assert(motor_effort_f1_data.shape == (660, 40))\n",
         "hidden": false,
         "locked": false
        },
        {
         "code": ">>> assert(np.isclose(wrist_torque_data[0, 0], -0.268183058, atol=0.001))\n",
         "hidden": false,
         "locked": false
        },
        {
         "code": ">>> assert(np.isclose(wrist_torque_data[0, -1], -0.-0.077284199, atol=0.001))\n",
         "hidden": false,
         "locked": false
        }
       ],
       "scored": true,
       "setup": "",
       "teardown": "",
       "type": "doctest"
      }
     ]
    },
    "stats_all_channels": {
     "name": "stats_all_channels",
     "points": 3,
     "suites": [
      {
       "cases": [
        {
         "code": ">>> assert(compare_files(\"HW1_student_results.json\", \"HW1_check_results.json\"))\n",
         "hidden": false,
         "locked": false
        }
       ],
       "scored": true,
       "setup": "",
       "teardown": "",
       "type": "doctest"
      }
     ]
    },
    "stats_functions": {
     "name": "stats_functions",
     "points": 3,
     "suites": [
      {
       "cases": [
        {
         "code": ">>> assert(len(ret_dict) == 1)\n",
         "hidden": false,
         "locked": false
        },
        {
         "code": ">>> assert(ret_dict[0][\"Min\"] == 0.0)\n",
         "hidden": false,
         "locked": false
        },
        {
         "code": ">>> assert(ret_dict[0][\"Max\"] == 1.0)\n",
         "hidden": false,
         "locked": false
        }
       ],
       "scored": true,
       "setup": "",
       "teardown": "",
       "type": "doctest"
      }
     ]
    }
   }
  }
 },
 "nbformat": 4,
 "nbformat_minor": 2
}
