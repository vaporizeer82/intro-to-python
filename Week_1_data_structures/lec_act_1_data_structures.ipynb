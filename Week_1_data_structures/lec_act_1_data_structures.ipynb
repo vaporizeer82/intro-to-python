{
 "cells": [
  {
   "cell_type": "code",
   "execution_count": 75,
   "metadata": {
    "deletable": false,
    "editable": false
   },
   "outputs": [],
   "source": [
    "# Initialize Otter\n",
    "import otter\n",
    "grader = otter.Notebook(\"lec_act_1_data_structures.ipynb\")"
   ]
  },
  {
   "cell_type": "markdown",
   "metadata": {},
   "source": [
    "# Lecture goals\n",
    "\n",
    "1. Understand the benefit of numpy (over lists) for operating over lists of numbers\n",
    "2. Introduction to numpy-style array operations (slicing, mean)\n",
    "3. Dictionaries for data encapsulation\n",
    "4. Debugging strategies: Showing Variables in the variable window, interpretting errors\n",
    "\n",
    "Some \"how tos\" for Jupyter notebooks/autograder if you're starting here.\n",
    "\n",
    "- Put the cursor in a cell and hit shift-return to execute the cell. You can also click on the triangle in the upper left\n",
    "- Each problem has a \"grading\" cell. This is, essentially, the tests the auto-grader will run\n",
    "- If you see triple dots ... or the word \"pass\" this is short-hand for \"put your code here\". Python will ignore these, but you should delete them as you complete problems\n",
    "- You can add as many variables and cells as you want, but don't change the names of the variables given to you. The autograder is expecting those names\n",
    "- When you think everything is working, hit Restart and Run All (buttons at the top). This will make sure the code you turn in is the same code Gradescope runs. We do check for this; look at the code cells - they have a number next to them. If you've done a Restart and Run all those should start from 1\n",
    "- If you click on the colored bar to the left of the cell (or output) this hides the contents of the cell. Try it to hide this cell and bring it back\n",
    "\n",
    "Lecture activity hand-ins for in-person class: Get as much done as you can before Wednesday class, but if you get stuck, just stop and bring your questions to class. There is no penalty for re-submitting after class (just get it in before the late deadline). These \"late\" days do not count toward your late day allotment.  "
   ]
  },
  {
   "cell_type": "code",
   "execution_count": 76,
   "metadata": {},
   "outputs": [
    {
     "name": "stdout",
     "output_type": "stream",
     "text": [
      "Requirement already satisfied: numpy in c:\\users\\yeasshhhh\\anaconda3\\lib\\site-packages (1.24.3)\n",
      "Requirement already satisfied: otter-grader in c:\\users\\yeasshhhh\\anaconda3\\lib\\site-packages (5.2.2)\n",
      "Requirement already satisfied: dill in c:\\users\\yeasshhhh\\anaconda3\\lib\\site-packages (from otter-grader) (0.3.6)\n",
      "Requirement already satisfied: jinja2 in c:\\users\\yeasshhhh\\anaconda3\\lib\\site-packages (from otter-grader) (3.1.2)\n",
      "Requirement already satisfied: nbformat in c:\\users\\yeasshhhh\\anaconda3\\lib\\site-packages (from otter-grader) (5.9.2)\n",
      "Requirement already satisfied: pandas in c:\\users\\yeasshhhh\\anaconda3\\lib\\site-packages (from otter-grader) (2.0.3)\n",
      "Requirement already satisfied: PyYAML in c:\\users\\yeasshhhh\\anaconda3\\lib\\site-packages (from otter-grader) (6.0)\n",
      "Requirement already satisfied: python-on-whales in c:\\users\\yeasshhhh\\anaconda3\\lib\\site-packages (from otter-grader) (0.68.0)\n",
      "Requirement already satisfied: requests in c:\\users\\yeasshhhh\\anaconda3\\lib\\site-packages (from otter-grader) (2.31.0)\n",
      "Requirement already satisfied: wrapt in c:\\users\\yeasshhhh\\anaconda3\\lib\\site-packages (from otter-grader) (1.14.1)\n",
      "Requirement already satisfied: jupytext in c:\\users\\yeasshhhh\\anaconda3\\lib\\site-packages (from otter-grader) (1.16.0)\n",
      "Requirement already satisfied: click in c:\\users\\yeasshhhh\\anaconda3\\lib\\site-packages (from otter-grader) (8.0.4)\n",
      "Requirement already satisfied: fica>=0.3.0 in c:\\users\\yeasshhhh\\anaconda3\\lib\\site-packages (from otter-grader) (0.3.1)\n",
      "Requirement already satisfied: ipython in c:\\users\\yeasshhhh\\anaconda3\\lib\\site-packages (from otter-grader) (8.15.0)\n",
      "Requirement already satisfied: astunparse in c:\\users\\yeasshhhh\\anaconda3\\lib\\site-packages (from otter-grader) (1.6.3)\n",
      "Requirement already satisfied: ipywidgets in c:\\users\\yeasshhhh\\anaconda3\\lib\\site-packages (from otter-grader) (8.0.4)\n",
      "Requirement already satisfied: ipylab in c:\\users\\yeasshhhh\\anaconda3\\lib\\site-packages (from otter-grader) (1.0.0)\n",
      "Requirement already satisfied: nbconvert in c:\\users\\yeasshhhh\\anaconda3\\lib\\site-packages (from otter-grader) (6.5.4)\n",
      "Requirement already satisfied: docutils in c:\\users\\yeasshhhh\\anaconda3\\lib\\site-packages (from fica>=0.3.0->otter-grader) (0.18.1)\n",
      "Requirement already satisfied: sphinx in c:\\users\\yeasshhhh\\anaconda3\\lib\\site-packages (from fica>=0.3.0->otter-grader) (5.0.2)\n",
      "Requirement already satisfied: wheel<1.0,>=0.23.0 in c:\\users\\yeasshhhh\\anaconda3\\lib\\site-packages (from astunparse->otter-grader) (0.38.4)\n",
      "Requirement already satisfied: six<2.0,>=1.6.1 in c:\\users\\yeasshhhh\\anaconda3\\lib\\site-packages (from astunparse->otter-grader) (1.16.0)\n",
      "Requirement already satisfied: colorama in c:\\users\\yeasshhhh\\anaconda3\\lib\\site-packages (from click->otter-grader) (0.4.6)\n",
      "Requirement already satisfied: ipykernel>=4.5.1 in c:\\users\\yeasshhhh\\anaconda3\\lib\\site-packages (from ipywidgets->otter-grader) (6.25.0)\n",
      "Requirement already satisfied: traitlets>=4.3.1 in c:\\users\\yeasshhhh\\anaconda3\\lib\\site-packages (from ipywidgets->otter-grader) (5.7.1)\n",
      "Requirement already satisfied: widgetsnbextension~=4.0 in c:\\users\\yeasshhhh\\anaconda3\\lib\\site-packages (from ipywidgets->otter-grader) (4.0.5)\n",
      "Requirement already satisfied: jupyterlab-widgets~=3.0 in c:\\users\\yeasshhhh\\anaconda3\\lib\\site-packages (from ipywidgets->otter-grader) (3.0.5)\n",
      "Requirement already satisfied: backcall in c:\\users\\yeasshhhh\\anaconda3\\lib\\site-packages (from ipython->otter-grader) (0.2.0)\n",
      "Requirement already satisfied: decorator in c:\\users\\yeasshhhh\\anaconda3\\lib\\site-packages (from ipython->otter-grader) (5.1.1)\n",
      "Requirement already satisfied: jedi>=0.16 in c:\\users\\yeasshhhh\\anaconda3\\lib\\site-packages (from ipython->otter-grader) (0.18.1)\n",
      "Requirement already satisfied: matplotlib-inline in c:\\users\\yeasshhhh\\anaconda3\\lib\\site-packages (from ipython->otter-grader) (0.1.6)\n",
      "Requirement already satisfied: pickleshare in c:\\users\\yeasshhhh\\anaconda3\\lib\\site-packages (from ipython->otter-grader) (0.7.5)\n",
      "Requirement already satisfied: prompt-toolkit!=3.0.37,<3.1.0,>=3.0.30 in c:\\users\\yeasshhhh\\anaconda3\\lib\\site-packages (from ipython->otter-grader) (3.0.36)\n",
      "Requirement already satisfied: pygments>=2.4.0 in c:\\users\\yeasshhhh\\anaconda3\\lib\\site-packages (from ipython->otter-grader) (2.15.1)\n",
      "Requirement already satisfied: stack-data in c:\\users\\yeasshhhh\\anaconda3\\lib\\site-packages (from ipython->otter-grader) (0.2.0)\n",
      "Requirement already satisfied: MarkupSafe>=2.0 in c:\\users\\yeasshhhh\\anaconda3\\lib\\site-packages (from jinja2->otter-grader) (2.1.1)\n",
      "Requirement already satisfied: markdown-it-py>=1.0.0 in c:\\users\\yeasshhhh\\anaconda3\\lib\\site-packages (from jupytext->otter-grader) (2.2.0)\n",
      "Requirement already satisfied: mdit-py-plugins in c:\\users\\yeasshhhh\\anaconda3\\lib\\site-packages (from jupytext->otter-grader) (0.3.0)\n",
      "Requirement already satisfied: packaging in c:\\users\\yeasshhhh\\anaconda3\\lib\\site-packages (from jupytext->otter-grader) (23.1)\n",
      "Requirement already satisfied: toml in c:\\users\\yeasshhhh\\anaconda3\\lib\\site-packages (from jupytext->otter-grader) (0.10.2)\n",
      "Requirement already satisfied: lxml in c:\\users\\yeasshhhh\\anaconda3\\lib\\site-packages (from nbconvert->otter-grader) (4.9.3)\n",
      "Requirement already satisfied: beautifulsoup4 in c:\\users\\yeasshhhh\\anaconda3\\lib\\site-packages (from nbconvert->otter-grader) (4.12.2)\n",
      "Requirement already satisfied: bleach in c:\\users\\yeasshhhh\\anaconda3\\lib\\site-packages (from nbconvert->otter-grader) (4.1.0)\n",
      "Requirement already satisfied: defusedxml in c:\\users\\yeasshhhh\\anaconda3\\lib\\site-packages (from nbconvert->otter-grader) (0.7.1)\n",
      "Requirement already satisfied: entrypoints>=0.2.2 in c:\\users\\yeasshhhh\\anaconda3\\lib\\site-packages (from nbconvert->otter-grader) (0.4)\n",
      "Requirement already satisfied: jupyter-core>=4.7 in c:\\users\\yeasshhhh\\anaconda3\\lib\\site-packages (from nbconvert->otter-grader) (5.3.0)\n",
      "Requirement already satisfied: jupyterlab-pygments in c:\\users\\yeasshhhh\\anaconda3\\lib\\site-packages (from nbconvert->otter-grader) (0.1.2)\n",
      "Requirement already satisfied: mistune<2,>=0.8.1 in c:\\users\\yeasshhhh\\anaconda3\\lib\\site-packages (from nbconvert->otter-grader) (0.8.4)\n",
      "Requirement already satisfied: nbclient>=0.5.0 in c:\\users\\yeasshhhh\\anaconda3\\lib\\site-packages (from nbconvert->otter-grader) (0.5.13)\n",
      "Requirement already satisfied: pandocfilters>=1.4.1 in c:\\users\\yeasshhhh\\anaconda3\\lib\\site-packages (from nbconvert->otter-grader) (1.5.0)\n",
      "Requirement already satisfied: tinycss2 in c:\\users\\yeasshhhh\\anaconda3\\lib\\site-packages (from nbconvert->otter-grader) (1.2.1)\n",
      "Requirement already satisfied: fastjsonschema in c:\\users\\yeasshhhh\\anaconda3\\lib\\site-packages (from nbformat->otter-grader) (2.16.2)\n",
      "Requirement already satisfied: jsonschema>=2.6 in c:\\users\\yeasshhhh\\anaconda3\\lib\\site-packages (from nbformat->otter-grader) (4.17.3)\n",
      "Requirement already satisfied: python-dateutil>=2.8.2 in c:\\users\\yeasshhhh\\anaconda3\\lib\\site-packages (from pandas->otter-grader) (2.8.2)\n",
      "Requirement already satisfied: pytz>=2020.1 in c:\\users\\yeasshhhh\\anaconda3\\lib\\site-packages (from pandas->otter-grader) (2023.3.post1)\n",
      "Requirement already satisfied: tzdata>=2022.1 in c:\\users\\yeasshhhh\\anaconda3\\lib\\site-packages (from pandas->otter-grader) (2023.3)\n",
      "Requirement already satisfied: numpy>=1.21.0 in c:\\users\\yeasshhhh\\anaconda3\\lib\\site-packages (from pandas->otter-grader) (1.24.3)\n",
      "Requirement already satisfied: pydantic!=2.0.*,<3,>=1.9 in c:\\users\\yeasshhhh\\anaconda3\\lib\\site-packages (from python-on-whales->otter-grader) (1.10.8)\n",
      "Requirement already satisfied: tqdm in c:\\users\\yeasshhhh\\anaconda3\\lib\\site-packages (from python-on-whales->otter-grader) (4.65.0)\n",
      "Requirement already satisfied: typer>=0.4.1 in c:\\users\\yeasshhhh\\anaconda3\\lib\\site-packages (from python-on-whales->otter-grader) (0.9.0)\n",
      "Requirement already satisfied: typing-extensions in c:\\users\\yeasshhhh\\anaconda3\\lib\\site-packages (from python-on-whales->otter-grader) (4.7.1)\n",
      "Requirement already satisfied: charset-normalizer<4,>=2 in c:\\users\\yeasshhhh\\anaconda3\\lib\\site-packages (from requests->otter-grader) (2.0.4)\n",
      "Requirement already satisfied: idna<4,>=2.5 in c:\\users\\yeasshhhh\\anaconda3\\lib\\site-packages (from requests->otter-grader) (3.4)\n",
      "Requirement already satisfied: urllib3<3,>=1.21.1 in c:\\users\\yeasshhhh\\anaconda3\\lib\\site-packages (from requests->otter-grader) (1.26.16)\n",
      "Requirement already satisfied: certifi>=2017.4.17 in c:\\users\\yeasshhhh\\anaconda3\\lib\\site-packages (from requests->otter-grader) (2023.11.17)\n",
      "Requirement already satisfied: comm>=0.1.1 in c:\\users\\yeasshhhh\\anaconda3\\lib\\site-packages (from ipykernel>=4.5.1->ipywidgets->otter-grader) (0.1.2)\n",
      "Requirement already satisfied: debugpy>=1.6.5 in c:\\users\\yeasshhhh\\anaconda3\\lib\\site-packages (from ipykernel>=4.5.1->ipywidgets->otter-grader) (1.6.7)\n",
      "Requirement already satisfied: jupyter-client>=6.1.12 in c:\\users\\yeasshhhh\\anaconda3\\lib\\site-packages (from ipykernel>=4.5.1->ipywidgets->otter-grader) (7.4.9)\n",
      "Requirement already satisfied: nest-asyncio in c:\\users\\yeasshhhh\\anaconda3\\lib\\site-packages (from ipykernel>=4.5.1->ipywidgets->otter-grader) (1.5.6)\n",
      "Requirement already satisfied: psutil in c:\\users\\yeasshhhh\\anaconda3\\lib\\site-packages (from ipykernel>=4.5.1->ipywidgets->otter-grader) (5.9.0)\n",
      "Requirement already satisfied: pyzmq>=20 in c:\\users\\yeasshhhh\\anaconda3\\lib\\site-packages (from ipykernel>=4.5.1->ipywidgets->otter-grader) (23.2.0)\n",
      "Requirement already satisfied: tornado>=6.1 in c:\\users\\yeasshhhh\\anaconda3\\lib\\site-packages (from ipykernel>=4.5.1->ipywidgets->otter-grader) (6.3.2)\n",
      "Requirement already satisfied: parso<0.9.0,>=0.8.0 in c:\\users\\yeasshhhh\\anaconda3\\lib\\site-packages (from jedi>=0.16->ipython->otter-grader) (0.8.3)\n",
      "Requirement already satisfied: attrs>=17.4.0 in c:\\users\\yeasshhhh\\anaconda3\\lib\\site-packages (from jsonschema>=2.6->nbformat->otter-grader) (22.1.0)\n",
      "Requirement already satisfied: pyrsistent!=0.17.0,!=0.17.1,!=0.17.2,>=0.14.0 in c:\\users\\yeasshhhh\\anaconda3\\lib\\site-packages (from jsonschema>=2.6->nbformat->otter-grader) (0.18.0)\n",
      "Requirement already satisfied: platformdirs>=2.5 in c:\\users\\yeasshhhh\\anaconda3\\lib\\site-packages (from jupyter-core>=4.7->nbconvert->otter-grader) (3.10.0)\n",
      "Requirement already satisfied: pywin32>=300 in c:\\users\\yeasshhhh\\anaconda3\\lib\\site-packages (from jupyter-core>=4.7->nbconvert->otter-grader) (305.1)\n",
      "Requirement already satisfied: mdurl~=0.1 in c:\\users\\yeasshhhh\\anaconda3\\lib\\site-packages (from markdown-it-py>=1.0.0->jupytext->otter-grader) (0.1.0)\n",
      "Requirement already satisfied: wcwidth in c:\\users\\yeasshhhh\\anaconda3\\lib\\site-packages (from prompt-toolkit!=3.0.37,<3.1.0,>=3.0.30->ipython->otter-grader) (0.2.5)\n",
      "Requirement already satisfied: soupsieve>1.2 in c:\\users\\yeasshhhh\\anaconda3\\lib\\site-packages (from beautifulsoup4->nbconvert->otter-grader) (2.4)\n",
      "Requirement already satisfied: webencodings in c:\\users\\yeasshhhh\\anaconda3\\lib\\site-packages (from bleach->nbconvert->otter-grader) (0.5.1)\n",
      "Requirement already satisfied: sphinxcontrib-applehelp in c:\\users\\yeasshhhh\\anaconda3\\lib\\site-packages (from sphinx->fica>=0.3.0->otter-grader) (1.0.2)\n",
      "Requirement already satisfied: sphinxcontrib-devhelp in c:\\users\\yeasshhhh\\anaconda3\\lib\\site-packages (from sphinx->fica>=0.3.0->otter-grader) (1.0.2)\n",
      "Requirement already satisfied: sphinxcontrib-jsmath in c:\\users\\yeasshhhh\\anaconda3\\lib\\site-packages (from sphinx->fica>=0.3.0->otter-grader) (1.0.1)\n",
      "Requirement already satisfied: sphinxcontrib-htmlhelp>=2.0.0 in c:\\users\\yeasshhhh\\anaconda3\\lib\\site-packages (from sphinx->fica>=0.3.0->otter-grader) (2.0.0)\n",
      "Requirement already satisfied: sphinxcontrib-serializinghtml>=1.1.5 in c:\\users\\yeasshhhh\\anaconda3\\lib\\site-packages (from sphinx->fica>=0.3.0->otter-grader) (1.1.5)\n",
      "Requirement already satisfied: sphinxcontrib-qthelp in c:\\users\\yeasshhhh\\anaconda3\\lib\\site-packages (from sphinx->fica>=0.3.0->otter-grader) (1.0.3)\n",
      "Requirement already satisfied: snowballstemmer>=1.1 in c:\\users\\yeasshhhh\\anaconda3\\lib\\site-packages (from sphinx->fica>=0.3.0->otter-grader) (2.2.0)\n",
      "Requirement already satisfied: babel>=1.3 in c:\\users\\yeasshhhh\\anaconda3\\lib\\site-packages (from sphinx->fica>=0.3.0->otter-grader) (2.11.0)\n",
      "Requirement already satisfied: alabaster<0.8,>=0.7 in c:\\users\\yeasshhhh\\anaconda3\\lib\\site-packages (from sphinx->fica>=0.3.0->otter-grader) (0.7.12)\n",
      "Requirement already satisfied: imagesize in c:\\users\\yeasshhhh\\anaconda3\\lib\\site-packages (from sphinx->fica>=0.3.0->otter-grader) (1.4.1)\n",
      "Requirement already satisfied: executing in c:\\users\\yeasshhhh\\anaconda3\\lib\\site-packages (from stack-data->ipython->otter-grader) (0.8.3)\n",
      "Requirement already satisfied: asttokens in c:\\users\\yeasshhhh\\anaconda3\\lib\\site-packages (from stack-data->ipython->otter-grader) (2.0.5)\n",
      "Requirement already satisfied: pure-eval in c:\\users\\yeasshhhh\\anaconda3\\lib\\site-packages (from stack-data->ipython->otter-grader) (0.2.2)\n"
     ]
    }
   ],
   "source": [
    "# Safety check - if you did not install numpy or otter-grader correctly this should do it for you\n",
    "#  If you have installed everything already, it should spit out a bunch of \"requirement already satisfied\" messages\n",
    "import sys\n",
    "!{sys.executable} -m pip install numpy\n",
    "!{sys.executable} -m pip install otter-grader"
   ]
  },
  {
   "cell_type": "code",
   "execution_count": 77,
   "metadata": {},
   "outputs": [],
   "source": [
    "# Access all numpy functions as np.\n",
    "import numpy as np"
   ]
  },
  {
   "cell_type": "markdown",
   "metadata": {
    "deletable": false,
    "editable": false
   },
   "source": [
    "# Question 1: Stats on a list\n",
    "\n",
    "## calculate stats on a list\n",
    "\n",
    "TODO: Given a list of numbers (as a list) \n",
    "- Calculate the mean of the negative and positive values\n",
    "- Count the total number of negative/positive values\n",
    "- Store the values in a dictionary\n",
    "\n",
    "This is (mostly) just practice with a **for** loop and an **if** statement. And to see an example of the format of the problems for this class."
   ]
  },
  {
   "cell_type": "code",
   "execution_count": 78,
   "metadata": {
    "tags": []
   },
   "outputs": [],
   "source": [
    "# Data used for this assignment\n",
    "#   For just this week we're going to write \"in-line\" code - i.e., all the code is in one long list of code. Starting\n",
    "#   next week we'll break code up into functions so we can re-use it/change the data. For this assignment, I'm \"hard coding\"\n",
    "#   the \"data\" in this variable\n",
    "\n",
    "test_list_one = [-0.75, -0.25, 1.0 / 3.0, 2.0 / 3.0, 3.0 / 3.0]\n"
   ]
  },
  {
   "cell_type": "code",
   "execution_count": 79,
   "metadata": {
    "tags": []
   },
   "outputs": [
    {
     "name": "stdout",
     "output_type": "stream",
     "text": [
      "Item -0.75 is negative\n",
      "Item -0.25 is negative\n",
      "Item 0.3333333333333333 is positive\n",
      "Item 0.6666666666666666 is positive\n",
      "Item 1.0 is positive\n"
     ]
    }
   ],
   "source": [
    "## EXAMPLE CODE\n",
    "# Cells labeled EXAMPLE CODE have code in them that you should understand before you start the problem. Usually, they'll be\n",
    "#  code that you'll want to copy and edit for the TODO in the main problem, along with some explanations of what the code\n",
    "#  is and how it works.\n",
    "\n",
    "# Loop over a list and print out whether the element is positive or negative\n",
    "for item in test_list_one:\n",
    "    if item < 0:\n",
    "        # see tutorial on strings for the syntax of f\"\"\n",
    "        print(f\"Item {item} is negative\")\n",
    "    elif item > 0:\n",
    "        print(f\"Item {item} is positive\")\n",
    "    else:\n",
    "        print(f\"Item {item} is zero\")\n"
   ]
  },
  {
   "cell_type": "code",
   "execution_count": 80,
   "metadata": {
    "tags": []
   },
   "outputs": [],
   "source": [
    "# SCRATCH CELL\n",
    "# Scratch cells are for you to use to try something out - usually a simpler version of the problem. These are not\n",
    "#  graded, although make sure they execute properly \n",
    "\n",
    "# Suggestion: If doing the full positive-negative split is too complicated, try writing a for loop that just\n",
    "#  loops over all of the items in test_list_one and adds them up and counts how many there are."
   ]
  },
  {
   "cell_type": "code",
   "execution_count": 81,
   "metadata": {
    "tags": []
   },
   "outputs": [],
   "source": [
    "# These are the stats you will be calculating. This is more elegant/useful than creating four variables - it keeps all\n",
    "#  of the values in the same place and assigns a meaningful label (key) to them\n",
    "# See the tutorial on dictionaries on how to set/get key-value pairs in a dictionary\n",
    "dict_save_stats = {\"Mean positive\": 0.0, \"Mean negative\": -0.0, \"Count positive\": 0, \"Count negative\": 0}\n",
    "\n",
    "# TODO: \n",
    "#   Calculate the means and the counts of test_list_one and store them in the dictionary with the keys given above in dict_save_stats\n",
    "#   You'll need a for loop to go over the list and an if statement to separate into positive and negative\n",
    "# Step 1: Copy the for loop from the example code above (try writing it without looking at it first)\n",
    "#  This has the code structure you'll need, but doesn't calculate any stats.\n",
    "# Step 2: Use the dictionary dict_save_stats with the appropriate key to count the number of positives/negatives\n",
    "#    Two options: Create a count variable and set the dictionary entry to the count variable after the for loop\n",
    "#    Use the dictionary entry as the count variable (foo[\"\"] = foo[\"\"] + 1)\n",
    "# Step 3: In the loop add the positive/negative values to the appropriate dictionary entry\n",
    "# Step 4: Don't forget to divide by the count to create the mean\n",
    "count_negative=0\n",
    "count_positive=0\n",
    "neg_list=[]\n",
    "pos_list=[]\n",
    "\n",
    "for item in test_list_one:\n",
    "    if item < 0:\n",
    "        count_negative = count_negative+1\n",
    "        neg_list.append(item)\n",
    "    elif item > 0:\n",
    "        count_positive = count_positive+1\n",
    "        pos_list.append(item)\n",
    "\n",
    "\n",
    "mean_positive=sum(pos_list)/len(pos_list)\n",
    "\n",
    "mean_negative=sum(neg_list)/len(neg_list)\n",
    "\n",
    "dict_save_stats[\"Count negative\"]=count_negative\n",
    "dict_save_stats[\"Count positive\"]=count_positive\n",
    "dict_save_stats[\"Mean negative\"]=mean_negative\n",
    "dict_save_stats[\"Mean positive\"]=mean_positive\n"
   ]
  },
  {
   "cell_type": "markdown",
   "metadata": {
    "deletable": false,
    "editable": false
   },
   "source": [
    "### Test code for list\n",
    "\n",
    "TODO: \n",
    "- Fill in the for loop above\n",
    "- Run the cell below - it will print out if your values are incorrect\n",
    "\n",
    "Next week we'll put the for loop code in a function so that we run it with other data than test_list_data. In the meantime, this is an example of writing test code to check that your code is correct. In this case, you can just look at test_list_data and see what the right answer should be."
   ]
  },
  {
   "cell_type": "code",
   "execution_count": 82,
   "metadata": {
    "deletable": false,
    "editable": false
   },
   "outputs": [
    {
     "name": "stdout",
     "output_type": "stream",
     "text": [
      "All array tests passed!\n"
     ]
    }
   ],
   "source": [
    "# Tests\n",
    "b_tests_passed = True\n",
    "if not np.isclose(dict_save_stats[\"Mean positive\"], 2.0 / 3.0):\n",
    "    b_tests_passed = False\n",
    "    print(f\"Mean positive is not correct, should be {2.0/3.0}, got {dict_save_stats['Mean positive']}\")\n",
    "\n",
    "if not np.isclose(dict_save_stats[\"Mean negative\"], -0.5):\n",
    "    b_tests_passed = False\n",
    "    print(f\"Mean negative is not correct, should be -0.5, got {dict_save_stats['Mean negative']}\")\n",
    "\n",
    "# != is not equals\n",
    "if dict_save_stats[\"Count positive\"] != 3:\n",
    "    b_tests_passed = False\n",
    "    print(f\"Count positive numbers, should be 3, got {dict_save_stats['Count positive']}\")\n",
    "\n",
    "if dict_save_stats[\"Count negative\"] != 2:\n",
    "    b_tests_passed = False\n",
    "    print(f\"Count positive numbers, should be 2, got {dict_save_stats['Count negative']}\")\n",
    "\n",
    "if b_tests_passed:\n",
    "    print(\"All array tests passed!\")"
   ]
  },
  {
   "cell_type": "markdown",
   "metadata": {
    "deletable": false,
    "editable": false
   },
   "source": [
    "## A note on the autograder. \n",
    "\n",
    "As tempting as it might be to just write the number in to make the test work (instead of calculating it) you will get a zero for doing so. I.e., do not just put 2/3 into the dictionary."
   ]
  },
  {
   "cell_type": "code",
   "execution_count": 83,
   "metadata": {
    "deletable": false,
    "editable": false
   },
   "outputs": [
    {
     "data": {
      "text/html": [
       "<p><strong><pre style='display: inline;'>list</pre></strong> passed! 🌟</p>"
      ],
      "text/plain": [
       "list results: All test cases passed!"
      ]
     },
     "execution_count": 83,
     "metadata": {},
     "output_type": "execute_result"
    }
   ],
   "source": [
    "grader.check(\"list\")"
   ]
  },
  {
   "cell_type": "markdown",
   "metadata": {
    "deletable": false,
    "editable": false
   },
   "source": [
    "# Question 2: Doing it again with a numpy array\n",
    "\n",
    "TODO: Same as the previous question, but this time do it for a numpy array\n",
    "- NO **if** statements or **for** loops - do this all with numpy operations\n",
    "\n",
    "You might find \"count_nonzero\" useful.\n",
    "\n",
    "As before, test code is below"
   ]
  },
  {
   "cell_type": "code",
   "execution_count": 84,
   "metadata": {
    "tags": []
   },
   "outputs": [],
   "source": [
    "# Data for this problem - this takes the list and converts it to a numpy array\n",
    "# Use the variable window (click on variables above) to see the difference between test_list_one and\n",
    "#  test_nparra - they should have the same values, they're just stored differently\n",
    "test_nparray = np.array(test_list_one)"
   ]
  },
  {
   "cell_type": "code",
   "execution_count": 85,
   "metadata": {
    "tags": []
   },
   "outputs": [
    {
     "name": "stdout",
     "output_type": "stream",
     "text": [
      "Min is -0.75\n",
      "Negative elements [-0.75 -0.25]\n",
      "Count negative 2\n"
     ]
    }
   ],
   "source": [
    "# EXAMPLE CODE\n",
    "# Numpy has built-in functions to do most of what you want to do\n",
    "#   this essentially does a for loop over the array and looks for the min\n",
    "example_min = np.min(test_nparray)\n",
    "print(f\"Min is {example_min}\")\n",
    "\n",
    "# But what if you want to do the if < 0 part? This is where boolean indexing comes in.\n",
    "#   Look at this variable in the variable window - this is another numpy array, but this time the array is full of \n",
    "#   False and True - it is True where the corresponding element in test_nparray is negative\n",
    "b_is_negative = test_nparray < 0\n",
    "\n",
    "# You can use this boolean array to get just the elements in the original list that were negative\n",
    "all_negative = test_nparray[b_is_negative]\n",
    "print(f\"Negative elements {all_negative}\")\n",
    "\n",
    "# or use another numpy method to count the number of non-zero - note, False is zero and True is non-zero\n",
    "#  Notice that this time the call to np is inside of the print statement - you can always take a piece\n",
    "#  of code and assign it to a variable.\n",
    "#     Try doing my_count = np.count_nonzero(b_is_negative)\n",
    "# If you get syntax errors, break the code up this way to find what part of the code is \"broken\"\n",
    "print(f\"Count negative {np.count_nonzero(b_is_negative)}\")"
   ]
  },
  {
   "cell_type": "code",
   "execution_count": 86,
   "metadata": {
    "tags": []
   },
   "outputs": [
    {
     "name": "stdout",
     "output_type": "stream",
     "text": [
      "2\n"
     ]
    }
   ],
   "source": [
    "# Calculate these stats for test_nparray. The answers should be the same as the ones above.\n",
    "#   Do NOT just set the values - you must calculate them\n",
    "dict_save_stats_np = {\"Mean positive\": 0, \"Mean negative\": 0, \"Count positive\": 0, \"Count negative\": 0}\n",
    "\n",
    "# TODO: Calculate the mean for the positive and the negative values\n",
    "#.  Also count the number of each\n",
    "#   Do NOT use a for loop - use boolean indexing (see example above)\n",
    "\n",
    "my_array = np.array(test_list_one)\n",
    "negs = my_array<0\n",
    "pos = my_array>0\n",
    "\n",
    "all_negs = my_array[negs]\n",
    "all_pos = my_array[pos]\n",
    "\n",
    "dict_save_stats_np[\"Count negative\"] = np.count_nonzero(all_negs\n",
    ")\n",
    "dict_save_stats_np[\"Count positive\"] = np.count_nonzero(all_pos\n",
    ")\n",
    "dict_save_stats_np[\"Mean negative\"] = np.mean(all_negs)\n",
    "dict_save_stats_np[\"Mean positive\"] = np.mean(all_pos)\n",
    "\n",
    "\n",
    "print(dict_save_stats_np[\"Count negative\"])\n"
   ]
  },
  {
   "cell_type": "code",
   "execution_count": 87,
   "metadata": {
    "tags": []
   },
   "outputs": [],
   "source": [
    "# SELF TESTS\n",
    "#  Use this cell to write any additional test code for yourself. For example, you could copy the tests from the list version\n",
    "#  and use them here, just check the values in dict_save_stats_np instead of dict_save_stats"
   ]
  },
  {
   "cell_type": "code",
   "execution_count": 88,
   "metadata": {
    "deletable": false,
    "editable": false
   },
   "outputs": [
    {
     "data": {
      "text/html": [
       "<p><strong><pre style='display: inline;'>nparray</pre></strong> passed! 🌟</p>"
      ],
      "text/plain": [
       "nparray results: All test cases passed!"
      ]
     },
     "execution_count": 88,
     "metadata": {},
     "output_type": "execute_result"
    }
   ],
   "source": [
    "grader.check(\"nparray\")"
   ]
  },
  {
   "cell_type": "markdown",
   "metadata": {
    "deletable": false,
    "editable": false
   },
   "source": [
    "# Queston 3: Fix, please -  Uh oh, it doesn't work\n",
    "\n",
    "There is additional information on this problem in the Lab slides:  https://docs.google.com/presentation/d/1lVYGqoStt0ZdnRAYMfF9Km6f0NgMNkuYgINsRhXASwI/edit?usp=sharing; read those slides first\n",
    "\n",
    "TODO: Each of the following cells had code that is \"broken\" - either it generates a syntax error OR it doesn't do what the comment says it does. TODO Fix what's broken so the grader tests pass.\n",
    "\n",
    "TODO: Read carefully through the next cell. It sets up the data you'll be using for these problems, and also has example array slicing you'll need to fix the broken bits\n",
    "\n",
    "Reminder: If you don't understand a complex piece of code, you can always break it apart. For example:\n",
    "\n",
    "**min_xy = np.min(test_data[0,1:3])**\n",
    "\n",
    "Can be broken up into two lines by creating another variable to hold the slice result\n",
    "\n",
    "**sliced_data = test_data[0,1:3]**\n",
    "\n",
    "**min_xy = np.min(sliced_data)**\n",
    "\n",
    "This makes it a lot easier to see if, for example, sliced_data is actually the slice you want (by printing it out or looking at it in the variable window)\n"
   ]
  },
  {
   "cell_type": "code",
   "execution_count": 89,
   "metadata": {
    "deletable": false,
    "editable": false
   },
   "outputs": [
    {
     "name": "stdout",
     "output_type": "stream",
     "text": [
      "[1. 0. 1. 0. 1.]\n",
      "[[ 0.00000000e+00 -5.38668750e-01  1.67815706e+01  1.11111111e-01\n",
      "  -1.51938526e-01  1.35650111e+01  2.22222222e-01 -4.95620656e-01\n",
      "   1.64453164e+01  3.33333333e-01 -6.64603655e-01  1.82893925e+01\n",
      "   4.44444444e-01 -7.16231242e-02  1.47551718e+01  5.55555556e-01\n",
      "  -7.93047386e-01  1.69985811e+01  6.66666667e-01 -1.45431716e-01\n",
      "   1.54137435e+01  7.77777778e-01 -2.39874576e-01  1.00399289e+01\n",
      "   8.88888889e-01 -7.59340544e-01  1.74284925e+01  1.00000000e+00\n",
      "  -9.01542079e-01  1.30656086e+01  1.00000000e+00]\n",
      " [ 0.00000000e+00 -9.98785139e-01  1.95503974e+01  1.11111111e-01\n",
      "  -6.29554587e-01  1.21797340e+01  2.22222222e-01 -9.36571243e-01\n",
      "   1.39110527e+01  3.33333333e-01 -3.31403470e-01  1.35597758e+01\n",
      "   4.44444444e-01 -1.59681161e-01  1.82499809e+01  5.55555556e-01\n",
      "  -2.16289193e-01  1.96569021e+01  6.66666667e-01 -7.90787238e-01\n",
      "   1.76555534e+01  7.77777778e-01 -6.60752102e-01  1.36338265e+01\n",
      "   8.88888889e-01 -6.31863304e-03  1.59222888e+01  1.00000000e+00\n",
      "  -8.22334292e-01  1.27553430e+01  0.00000000e+00]\n",
      " [ 0.00000000e+00 -7.27252650e-01  1.47426637e+01  1.11111111e-01\n",
      "  -8.78439875e-01  1.45385807e+01  2.22222222e-01 -9.62147810e-01\n",
      "   1.39638819e+01  3.33333333e-01 -9.29933831e-01  1.82176227e+01\n",
      "   4.44444444e-01 -3.38348769e-01  1.66444078e+01  5.55555556e-01\n",
      "  -5.18237176e-01  1.26585370e+01  6.66666667e-01 -5.83093693e-01\n",
      "   1.79488534e+01  7.77777778e-01 -2.20481558e-02  1.04563795e+01\n",
      "   8.88888889e-01 -1.65847164e-01  1.79619956e+01  1.00000000e+00\n",
      "  -1.63757438e-01  1.71355478e+01  1.00000000e+00]\n",
      " [ 0.00000000e+00 -1.47437561e-01  1.63294710e+01  1.11111111e-01\n",
      "  -8.45989685e-01  1.75341395e+01  2.22222222e-01 -7.51374778e-01\n",
      "   1.96095489e+01  3.33333333e-01 -1.96976206e-01  1.54811572e+01\n",
      "   4.44444444e-01 -9.01982997e-01  1.66325141e+01  5.55555556e-01\n",
      "  -4.42451328e-01  1.11049726e+01  6.66666667e-01 -3.99177794e-01\n",
      "   1.12837049e+01  7.77777778e-01 -9.97145923e-01  1.42724444e+01\n",
      "   8.88888889e-01 -1.49612961e-02  1.32154790e+01  1.00000000e+00\n",
      "  -2.54240767e-02  1.97448374e+01  0.00000000e+00]\n",
      " [ 0.00000000e+00 -7.15070385e-01  1.92268720e+01  1.11111111e-01\n",
      "  -5.77368711e-02  1.79488675e+01  2.22222222e-01 -9.16812543e-01\n",
      "   1.14257702e+01  3.33333333e-01 -5.10494139e-01  1.85516013e+01\n",
      "   4.44444444e-01 -6.64513141e-01  1.69446880e+01  5.55555556e-01\n",
      "  -9.21052807e-01  1.67493765e+01  6.66666667e-01 -5.41356217e-01\n",
      "   1.37846998e+01  7.77777778e-01 -8.74684230e-01  1.36356352e+01\n",
      "   8.88888889e-01 -4.35864379e-01  1.46377584e+01  1.00000000e+00\n",
      "  -9.52833668e-01  1.81282173e+01  1.00000000e+00]]\n"
     ]
    }
   ],
   "source": [
    "# Making a data set to practice with before lab/homework\n",
    "#  This is a simplified version of the data set we'll work with\n",
    "#  It consists of x, y, z data for 10 time steps for 5 samples\n",
    "#  The x data is all between 0 and 1, the y data 0 and -1, z data 10-20\n",
    "#  The last column is 1 if the sample is good, 0 if it is bad\n",
    "#  The data is stored in a 5 x [3 * 10 + 1] array\n",
    "#  Each row (one row for each sample) looks like this\n",
    "#    x0 y0 z0 x1 y1 z1 .... x9 y9 z9 1 or 0\n",
    "\n",
    "# Make space for all of the data and fill it with zeros\n",
    "#   zeros takes a tuple with the data sizes - in this case we are making a 2 dimensional array\n",
    "#   with 5 columns (one for each sample) and 10 x,y,z value (30 total) and one extra column for the good/bad\n",
    "my_test_data = np.zeros((5, 31))\n",
    "\n",
    "\n",
    "# Fill in whether or not the sample is good. Every other one is good, the others are bad\n",
    "# Since zero is bad - and the array is all zeros - just set every other row, last column\n",
    "#   The -1 picks the last column, the 0::2 picks every other row\n",
    "#   Note: The left hand side has 3 elements, the right a single number - numpy interprets this to mean\n",
    "#     set all of those values to the single number\n",
    "my_test_data[0::2, -1] = 1\n",
    "print(my_test_data[:,-1])\n",
    "\n",
    "# Fill in the x values for each sample with 0, 0.1... 1.0\n",
    "#  np.linspace() generates uniformly-spaced samples from start to stop\n",
    "#    You can assign values to specific parameters by name if you want\n",
    "#    This would be the same as np.linspace(0, 1.0, 10)\n",
    "# In this case, the array on the left hand side is 5 x 10, so we're going to use a loop to set each row\n",
    "#  to 0, 0.1 etc. one row at a time\n",
    "# shape is the size of the array; we want the number of rows so use .shape[0]\n",
    "x_data_for_one_row = np.linspace(start=0, stop=1.0, num=10)\n",
    "for r in range(0, my_test_data.shape[0]):\n",
    "    # loop through each row r\n",
    "    # Fill in column 0 to one before the end (don't overwrite the good/bad), skipping every 3\n",
    "    my_test_data[:,0:30:3] = x_data_for_one_row\n",
    "\n",
    "\n",
    "# Fill in the y values for each sample with random values\n",
    "#  np.random.uniform() generates random samples between the two values; unlike linsapce, you can set the size\n",
    "#   of the numpy array it returns. \n",
    "# The left side is all rows (5 - :) and every 3rd column starting at 1\n",
    "y_data_for_all_rows = np.random.uniform(-1.0, 0.0, size=(5, 10))\n",
    "my_test_data[:, 1::3] = y_data_for_all_rows\n",
    "\n",
    "\n",
    "\n",
    "# Now the z values - notice that we start at column 2 instead of 1\n",
    "my_test_data[:, 2::3] = np.random.uniform(10.0, 20.0, size=(5, 10))\n",
    "\n",
    "print(my_test_data)"
   ]
  },
  {
   "cell_type": "markdown",
   "metadata": {
    "deletable": false,
    "editable": false
   },
   "source": [
    "## What are the dimensions of the data?\n",
    "\n",
    "We know what the dimensions of the data are - we just made it in the cell above. Pretend for a moment that you just read **my_test_data** in from a file and you don't know how many samples there are or how many time steps. You **do** know that each sample has an x,y, and z value for each time step, and that the last column is the success/fail column\n",
    "\n",
    "Again, for these quesitons you need to calculate the value from the data, not just put the number in, except where noted."
   ]
  },
  {
   "cell_type": "code",
   "execution_count": 90,
   "metadata": {
    "tags": []
   },
   "outputs": [
    {
     "name": "stdout",
     "output_type": "stream",
     "text": [
      "10.0\n"
     ]
    }
   ],
   "source": [
    "# Number of samples - this is correct\n",
    "n_samples = my_test_data.shape[0]\n",
    "\n",
    "# Number of dimensions for each time step - we know this is 3, so set it to 3 - this is correct\n",
    "n_xyz = 3\n",
    "\n",
    "# FIX ME: Number of time steps\n",
    "n_time_steps = (my_test_data.shape[1]-1)/3\n",
    "print(n_time_steps)\n"
   ]
  },
  {
   "cell_type": "markdown",
   "metadata": {},
   "source": []
  },
  {
   "cell_type": "code",
   "execution_count": 91,
   "metadata": {
    "tags": []
   },
   "outputs": [
    {
     "name": "stdout",
     "output_type": "stream",
     "text": [
      "[0.         0.11111111 0.22222222 0.33333333 0.44444444 0.55555556\n",
      " 0.66666667 0.77777778 0.88888889 1.        ]\n"
     ]
    }
   ],
   "source": [
    "# Get out just the x values for sample 2\n",
    "#   Note, this is a somewhat subtle error - look at the size of the x values - it should be n_time_steps (10). WHy\n",
    "#  is it not? How many columns does my_test_data actually have? What happens if you take every 3rd, starting at 0?\n",
    "# FIX ME\n",
    "x_values_sample_2 = my_test_data[1, 0:30:3]\n",
    "print(x_values_sample_2)\n"
   ]
  },
  {
   "cell_type": "code",
   "execution_count": 92,
   "metadata": {
    "deletable": false,
    "editable": false
   },
   "outputs": [
    {
     "data": {
      "text/html": [
       "<p><strong><pre style='display: inline;'>fix_broken</pre></strong> passed! 🍀</p>"
      ],
      "text/plain": [
       "fix_broken results: All test cases passed!"
      ]
     },
     "execution_count": 92,
     "metadata": {},
     "output_type": "execute_result"
    }
   ],
   "source": [
    "grader.check(\"fix_broken\")"
   ]
  },
  {
   "cell_type": "markdown",
   "metadata": {
    "deletable": false,
    "editable": false
   },
   "source": [
    "## Hours and collaborators\n",
    "Required for every assignment - fill out before you hand-in.\n",
    "\n",
    "Listing names and websites helps you to document who you worked with and what internet help you received in the case of any plagiarism issues. You should list names of anyone (in class or not) who has substantially helped you with an assignment - or anyone you have *helped*. You do not need to list TAs.\n",
    "\n",
    "Listing hours helps us track if the assignments are too long."
   ]
  },
  {
   "cell_type": "code",
   "execution_count": 93,
   "metadata": {
    "tags": []
   },
   "outputs": [],
   "source": [
    "\n",
    "# List of names (creates a set)\n",
    "worked_with_names = {\"me\"}\n",
    "# List of URLS TCW3 (creates a set)\n",
    "websites = {\"https://numpy.org/doc/stable/reference/generated/numpy.mean.html#numpy.mean\"}\n",
    "# Approximate number of hours, including lab/in-class time\n",
    "hours = 4"
   ]
  },
  {
   "cell_type": "code",
   "execution_count": 94,
   "metadata": {
    "deletable": false,
    "editable": false
   },
   "outputs": [
    {
     "data": {
      "text/html": [
       "<p><strong><pre style='display: inline;'>hours_collaborators</pre></strong> passed! ✨</p>"
      ],
      "text/plain": [
       "hours_collaborators results: All test cases passed!"
      ]
     },
     "execution_count": 94,
     "metadata": {},
     "output_type": "execute_result"
    }
   ],
   "source": [
    "grader.check(\"hours_collaborators\")"
   ]
  },
  {
   "cell_type": "markdown",
   "metadata": {
    "deletable": false,
    "editable": false
   },
   "source": [
    "## Submission\n",
    "\n",
    "Make sure you have run all cells in your notebook in order before running the cell below, so that all images/graphs appear in the output. The cell below will generate a zip file for you to submit. **Please save before exporting!**\n",
    "\n",
    "Submit through gradescope, lecture activity 1 data structures. Be sure to read the info on the autograder before submitting."
   ]
  },
  {
   "cell_type": "code",
   "execution_count": 95,
   "metadata": {
    "deletable": false,
    "editable": false
   },
   "outputs": [
    {
     "name": "stdout",
     "output_type": "stream",
     "text": [
      "Running your submission against local test cases...\n",
      "\n"
     ]
    },
    {
     "name": "stdout",
     "output_type": "stream",
     "text": [
      "\n"
     ]
    },
    {
     "ename": "RuntimeError",
     "evalue": "c:\\Users\\yeasshhhh\\anaconda3\\Lib\\site-packages\\zmq\\_future.py:679: RuntimeWarning: Proactor event loop does not implement add_reader family of methods required for zmq. Registering an additional selector thread for add_reader support via tornado. Use `asyncio.set_event_loop_policy(WindowsSelectorEventLoopPolicy())` to avoid this warning.\r\n  self._get_loop()\r\n",
     "output_type": "error",
     "traceback": [
      "\u001b[1;31m---------------------------------------------------------------------------\u001b[0m",
      "\u001b[1;31mRuntimeError\u001b[0m                              Traceback (most recent call last)",
      "Cell \u001b[1;32mIn[95], line 2\u001b[0m\n\u001b[0;32m      1\u001b[0m \u001b[38;5;66;03m# Save your notebook first, then run this cell to export your submission.\u001b[39;00m\n\u001b[1;32m----> 2\u001b[0m grader\u001b[38;5;241m.\u001b[39mexport(pdf\u001b[38;5;241m=\u001b[39m\u001b[38;5;28;01mFalse\u001b[39;00m, run_tests\u001b[38;5;241m=\u001b[39m\u001b[38;5;28;01mTrue\u001b[39;00m)\n",
      "File \u001b[1;32mc:\\Users\\yeasshhhh\\anaconda3\\Lib\\site-packages\\otter\\check\\utils.py:184\u001b[0m, in \u001b[0;36mgrading_mode_disabled\u001b[1;34m(wrapped, self, args, kwargs)\u001b[0m\n\u001b[0;32m    182\u001b[0m \u001b[38;5;28;01mif\u001b[39;00m \u001b[38;5;28mtype\u001b[39m(\u001b[38;5;28mself\u001b[39m)\u001b[38;5;241m.\u001b[39m_grading_mode:\n\u001b[0;32m    183\u001b[0m     \u001b[38;5;28;01mreturn\u001b[39;00m\n\u001b[1;32m--> 184\u001b[0m \u001b[38;5;28;01mreturn\u001b[39;00m wrapped(\u001b[38;5;241m*\u001b[39margs, \u001b[38;5;241m*\u001b[39m\u001b[38;5;241m*\u001b[39mkwargs)\n",
      "File \u001b[1;32mc:\\Users\\yeasshhhh\\anaconda3\\Lib\\site-packages\\otter\\check\\utils.py:166\u001b[0m, in \u001b[0;36mincompatible_with.<locals>.incompatible\u001b[1;34m(wrapped, self, args, kwargs)\u001b[0m\n\u001b[0;32m    164\u001b[0m     \u001b[38;5;28;01melse\u001b[39;00m:\n\u001b[0;32m    165\u001b[0m         \u001b[38;5;28;01mreturn\u001b[39;00m\n\u001b[1;32m--> 166\u001b[0m \u001b[38;5;28;01mreturn\u001b[39;00m wrapped(\u001b[38;5;241m*\u001b[39margs, \u001b[38;5;241m*\u001b[39m\u001b[38;5;241m*\u001b[39mkwargs)\n",
      "File \u001b[1;32mc:\\Users\\yeasshhhh\\anaconda3\\Lib\\site-packages\\otter\\check\\utils.py:217\u001b[0m, in \u001b[0;36mlogs_event.<locals>.event_logger\u001b[1;34m(wrapped, self, args, kwargs)\u001b[0m\n\u001b[0;32m    215\u001b[0m \u001b[38;5;28;01mexcept\u001b[39;00m \u001b[38;5;167;01mException\u001b[39;00m \u001b[38;5;28;01mas\u001b[39;00m e:\n\u001b[0;32m    216\u001b[0m     \u001b[38;5;28mself\u001b[39m\u001b[38;5;241m.\u001b[39m_log_event(event_type, success\u001b[38;5;241m=\u001b[39m\u001b[38;5;28;01mFalse\u001b[39;00m, error\u001b[38;5;241m=\u001b[39me)\n\u001b[1;32m--> 217\u001b[0m     \u001b[38;5;28;01mraise\u001b[39;00m e\n\u001b[0;32m    219\u001b[0m \u001b[38;5;28;01mif\u001b[39;00m ret \u001b[38;5;129;01mis\u001b[39;00m \u001b[38;5;28;01mNone\u001b[39;00m:\n\u001b[0;32m    220\u001b[0m     ret \u001b[38;5;241m=\u001b[39m LoggedEventReturnValue(\u001b[38;5;28;01mNone\u001b[39;00m)\n",
      "File \u001b[1;32mc:\\Users\\yeasshhhh\\anaconda3\\Lib\\site-packages\\otter\\check\\utils.py:213\u001b[0m, in \u001b[0;36mlogs_event.<locals>.event_logger\u001b[1;34m(wrapped, self, args, kwargs)\u001b[0m\n\u001b[0;32m    208\u001b[0m \u001b[38;5;250m\u001b[39m\u001b[38;5;124;03m\"\"\"\u001b[39;00m\n\u001b[0;32m    209\u001b[0m \u001b[38;5;124;03mRuns a method, catching any errors and logging the call. Returns the unwrapped return value\u001b[39;00m\n\u001b[0;32m    210\u001b[0m \u001b[38;5;124;03mof the wrapped function.\u001b[39;00m\n\u001b[0;32m    211\u001b[0m \u001b[38;5;124;03m\"\"\"\u001b[39;00m\n\u001b[0;32m    212\u001b[0m \u001b[38;5;28;01mtry\u001b[39;00m:\n\u001b[1;32m--> 213\u001b[0m     ret: Optional[LoggedEventReturnValue[T]] \u001b[38;5;241m=\u001b[39m wrapped(\u001b[38;5;241m*\u001b[39margs, \u001b[38;5;241m*\u001b[39m\u001b[38;5;241m*\u001b[39mkwargs)\n\u001b[0;32m    215\u001b[0m \u001b[38;5;28;01mexcept\u001b[39;00m \u001b[38;5;167;01mException\u001b[39;00m \u001b[38;5;28;01mas\u001b[39;00m e:\n\u001b[0;32m    216\u001b[0m     \u001b[38;5;28mself\u001b[39m\u001b[38;5;241m.\u001b[39m_log_event(event_type, success\u001b[38;5;241m=\u001b[39m\u001b[38;5;28;01mFalse\u001b[39;00m, error\u001b[38;5;241m=\u001b[39me)\n",
      "File \u001b[1;32mc:\\Users\\yeasshhhh\\anaconda3\\Lib\\site-packages\\otter\\check\\notebook.py:523\u001b[0m, in \u001b[0;36mNotebook.export\u001b[1;34m(self, nb_path, export_path, pdf, filtering, pagebreaks, files, display_link, force_save, run_tests)\u001b[0m\n\u001b[0;32m    520\u001b[0m         display(HTML(out_html))\n\u001b[0;32m    522\u001b[0m \u001b[38;5;28;01mif\u001b[39;00m pdf_created \u001b[38;5;129;01mor\u001b[39;00m \u001b[38;5;129;01mnot\u001b[39;00m \u001b[38;5;28mself\u001b[39m\u001b[38;5;241m.\u001b[39m_nbmeta_config\u001b[38;5;241m.\u001b[39mrequire_no_pdf_confirmation:\n\u001b[1;32m--> 523\u001b[0m     continue_export()\n\u001b[0;32m    524\u001b[0m \u001b[38;5;28;01melse\u001b[39;00m:\n\u001b[0;32m    525\u001b[0m     display_pdf_confirmation_widget(\n\u001b[0;32m    526\u001b[0m         \u001b[38;5;28mself\u001b[39m\u001b[38;5;241m.\u001b[39m_nbmeta_config\u001b[38;5;241m.\u001b[39mexport_pdf_failure_message, continue_export)\n",
      "File \u001b[1;32mc:\\Users\\yeasshhhh\\anaconda3\\Lib\\site-packages\\otter\\check\\notebook.py:505\u001b[0m, in \u001b[0;36mNotebook.export.<locals>.continue_export\u001b[1;34m()\u001b[0m\n\u001b[0;32m    503\u001b[0m \u001b[38;5;28;01mif\u001b[39;00m run_tests:\n\u001b[0;32m    504\u001b[0m     \u001b[38;5;28mprint\u001b[39m(\u001b[38;5;124m\"\u001b[39m\u001b[38;5;124mRunning your submission against local test cases...\u001b[39m\u001b[38;5;130;01m\\n\u001b[39;00m\u001b[38;5;124m\"\u001b[39m)\n\u001b[1;32m--> 505\u001b[0m     results \u001b[38;5;241m=\u001b[39m grade_zip_file(zip_path, nb_path, \u001b[38;5;28mself\u001b[39m\u001b[38;5;241m.\u001b[39m_tests_dir)\n\u001b[0;32m    506\u001b[0m     \u001b[38;5;28mprint\u001b[39m(\n\u001b[0;32m    507\u001b[0m         \u001b[38;5;124m\"\u001b[39m\u001b[38;5;124mYour submission received the following results when run against \u001b[39m\u001b[38;5;124m\"\u001b[39m \u001b[38;5;241m+\u001b[39m \\\n\u001b[0;32m    508\u001b[0m         \u001b[38;5;124m\"\u001b[39m\u001b[38;5;124mavailable test cases:\u001b[39m\u001b[38;5;130;01m\\n\u001b[39;00m\u001b[38;5;130;01m\\n\u001b[39;00m\u001b[38;5;124m\"\u001b[39m \u001b[38;5;241m+\u001b[39m indent(results\u001b[38;5;241m.\u001b[39msummary(), \u001b[38;5;124m\"\u001b[39m\u001b[38;5;124m    \u001b[39m\u001b[38;5;124m\"\u001b[39m))\n\u001b[0;32m    510\u001b[0m \u001b[38;5;28;01mif\u001b[39;00m display_link:\n\u001b[0;32m    511\u001b[0m     \u001b[38;5;66;03m# create and display output HTML\u001b[39;00m\n",
      "File \u001b[1;32mc:\\Users\\yeasshhhh\\anaconda3\\Lib\\site-packages\\otter\\check\\utils.py:103\u001b[0m, in \u001b[0;36mgrade_zip_file\u001b[1;34m(zip_path, nb_arcname, tests_dir)\u001b[0m\n\u001b[0;32m    100\u001b[0m \u001b[38;5;28mprint\u001b[39m(results\u001b[38;5;241m.\u001b[39mstdout\u001b[38;5;241m.\u001b[39mdecode(\u001b[38;5;124m\"\u001b[39m\u001b[38;5;124mutf-8\u001b[39m\u001b[38;5;124m\"\u001b[39m))\n\u001b[0;32m    102\u001b[0m \u001b[38;5;28;01mif\u001b[39;00m results\u001b[38;5;241m.\u001b[39mstderr:\n\u001b[1;32m--> 103\u001b[0m     \u001b[38;5;28;01mraise\u001b[39;00m \u001b[38;5;167;01mRuntimeError\u001b[39;00m(results\u001b[38;5;241m.\u001b[39mstderr\u001b[38;5;241m.\u001b[39mdecode(\u001b[38;5;124m\"\u001b[39m\u001b[38;5;124mutf-8\u001b[39m\u001b[38;5;124m\"\u001b[39m))\n\u001b[0;32m    105\u001b[0m \u001b[38;5;28;01mwith\u001b[39;00m \u001b[38;5;28mopen\u001b[39m(results_path, \u001b[38;5;124m\"\u001b[39m\u001b[38;5;124mrb\u001b[39m\u001b[38;5;124m\"\u001b[39m) \u001b[38;5;28;01mas\u001b[39;00m f:\n\u001b[0;32m    106\u001b[0m     results \u001b[38;5;241m=\u001b[39m dill\u001b[38;5;241m.\u001b[39mload(f)\n",
      "\u001b[1;31mRuntimeError\u001b[0m: c:\\Users\\yeasshhhh\\anaconda3\\Lib\\site-packages\\zmq\\_future.py:679: RuntimeWarning: Proactor event loop does not implement add_reader family of methods required for zmq. Registering an additional selector thread for add_reader support via tornado. Use `asyncio.set_event_loop_policy(WindowsSelectorEventLoopPolicy())` to avoid this warning.\r\n  self._get_loop()\r\n"
     ]
    }
   ],
   "source": [
    "# Save your notebook first, then run this cell to export your submission.\n",
    "grader.export(pdf=False, run_tests=True)"
   ]
  },
  {
   "cell_type": "markdown",
   "metadata": {},
   "source": [
    " "
   ]
  }
 ],
 "metadata": {
  "kernelspec": {
   "display_name": "Python 3 (ipykernel)",
   "language": "python",
   "name": "python3"
  },
  "language_info": {
   "codemirror_mode": {
    "name": "ipython",
    "version": 3
   },
   "file_extension": ".py",
   "mimetype": "text/x-python",
   "name": "python",
   "nbconvert_exporter": "python",
   "pygments_lexer": "ipython3",
   "version": "3.11.5"
  },
  "otter": {
   "OK_FORMAT": true,
   "tests": {
    "fix_broken": {
     "name": "fix_broken",
     "points": 2,
     "suites": [
      {
       "cases": [
        {
         "code": ">>> assert(n_samples == 5)\n",
         "hidden": false,
         "locked": false
        },
        {
         "code": ">>> assert(n_xyz == 3)\n",
         "hidden": false,
         "locked": false
        },
        {
         "code": ">>> assert(n_time_steps == 10)\n",
         "hidden": false,
         "locked": false
        },
        {
         "code": ">>> assert(x_values_sample_2.size == 10)\n",
         "hidden": false,
         "locked": false
        },
        {
         "code": ">>> assert(np.any(np.isclose(x_values_sample_2, np.linspace(0, 1, 10))))\n",
         "hidden": false,
         "locked": false
        }
       ],
       "scored": true,
       "setup": "",
       "teardown": "",
       "type": "doctest"
      }
     ]
    },
    "hours_collaborators": {
     "name": "hours_collaborators",
     "points": 1,
     "suites": [
      {
       "cases": [
        {
         "code": ">>> assert(not \"not filled out\" in worked_with_names)\n",
         "hidden": false,
         "locked": false
        },
        {
         "code": ">>> assert(not \"not filled out\" in websites)\n",
         "hidden": false,
         "locked": false
        },
        {
         "code": ">>> assert(hours > 0)\n",
         "hidden": false,
         "locked": false
        }
       ],
       "scored": true,
       "setup": "",
       "teardown": "",
       "type": "doctest"
      }
     ]
    },
    "list": {
     "name": "list",
     "points": 1,
     "suites": [
      {
       "cases": [
        {
         "code": ">>> assert np.isclose(dict_save_stats[\"Mean positive\"], 2.0 / 3.0)\n",
         "hidden": false,
         "locked": false
        },
        {
         "code": ">>> assert np.isclose(dict_save_stats[\"Mean negative\"], -0.5)\n",
         "hidden": false,
         "locked": false
        },
        {
         "code": ">>> assert np.isclose(dict_save_stats[\"Count positive\"], 3)\n",
         "hidden": false,
         "locked": false
        },
        {
         "code": ">>> assert np.isclose(dict_save_stats[\"Count negative\"], 2)\n",
         "hidden": false,
         "locked": false
        }
       ],
       "scored": true,
       "setup": "",
       "teardown": "",
       "type": "doctest"
      }
     ]
    },
    "nparray": {
     "name": "nparray",
     "points": 1,
     "suites": [
      {
       "cases": [
        {
         "code": ">>> assert(np.isclose(dict_save_stats_np[\"Mean positive\"], 2.0 / 3.0))\n",
         "hidden": false,
         "locked": false
        },
        {
         "code": ">>> assert(np.isclose(dict_save_stats_np[\"Mean negative\"], -0.5))\n",
         "hidden": false,
         "locked": false
        },
        {
         "code": ">>> assert(np.isclose(dict_save_stats_np[\"Count positive\"], 3))\n",
         "hidden": false,
         "locked": false
        },
        {
         "code": ">>> assert(np.isclose(dict_save_stats_np[\"Count negative\"], 2))\n",
         "hidden": false,
         "locked": false
        }
       ],
       "scored": true,
       "setup": "",
       "teardown": "",
       "type": "doctest"
      }
     ]
    }
   }
  }
 },
 "nbformat": 4,
 "nbformat_minor": 2
}
