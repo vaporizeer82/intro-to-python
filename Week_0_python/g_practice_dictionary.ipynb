{
 "cells": [
  {
   "cell_type": "markdown",
   "metadata": {},
   "source": [
    "# Dictionary creation/accessing/editing practice"
   ]
  },
  {
   "cell_type": "markdown",
   "metadata": {},
   "source": [
    "## Dictionary as data storage\n",
    "\n",
    "TODO: Use a dictionary to store multiple values by name\n",
    "\n",
    "One common use for dictionaries is to store related data; in this example, suppose you have a function that does a lot of fancy statistical calculations on a numpy array. Rather than return each of those numbers in a list or tuple, put them in a dictionary with a reasonable name. That way, you don't have to try to figure out which element in the list belongs to which statistical element."
   ]
  },
  {
   "cell_type": "code",
   "execution_count": 15,
   "metadata": {},
   "outputs": [],
   "source": [
    "import numpy as np"
   ]
  },
  {
   "cell_type": "code",
   "execution_count": 16,
   "metadata": {},
   "outputs": [],
   "source": [
    "def make_stats_dict(in_list):\n",
    "    \"\"\" Calculate some statistics on the list and store the values in a dictionary\n",
    "    @param in_list - a numpy array\n",
    "    @return dict_stats - a dictionary with various statistical values stored in it\"\"\"\n",
    "    my_dict = {}\n",
    "\n",
    "    # Do some stats calculations, store in dictionary\n",
    "    # TODO: calculate min, max, mean, std and store them in the dictionary by name\n",
    "my_array_of_random_numbers = np.random.uniform(-5, 500, 20)\n",
    "my_dict = {\"min\": np.min(my_array_of_random_numbers),\n",
    "           \"max\": np.max(my_array_of_random_numbers),\n",
    "           \"Mean\": np.mean(my_array_of_random_numbers),\n",
    "           \"Sum\": np.std(my_array_of_random_numbers),}\n",
    "   "
   ]
  },
  {
   "cell_type": "code",
   "execution_count": 17,
   "metadata": {},
   "outputs": [],
   "source": [
    "# Now use the function\n",
    "my_array_of_random_numbers = np.random.uniform(-5, 500, 20)\n",
    "my_dict = make_stats_dict(my_array_of_random_numbers)"
   ]
  },
  {
   "cell_type": "code",
   "execution_count": 18,
   "metadata": {},
   "outputs": [
    {
     "name": "stdout",
     "output_type": "stream",
     "text": [
      "None\n"
     ]
    }
   ],
   "source": [
    "# Print out the values calculated in make_stats (use a for loop to print out all of them, don't hard-wire the answers\n",
    "print(my_dict)"
   ]
  },
  {
   "cell_type": "markdown",
   "metadata": {},
   "source": [
    "## Dictionary to count number of characters\n",
    "\n",
    "TODO: Create a single dictionary that has in it each letter and the number of times that letter appears in any of the strings\n",
    "\n",
    "TODO tweaks\n",
    " - list of dictionaries\n",
    " - see if C is in any of the dictionaries"
   ]
  },
  {
   "cell_type": "code",
   "execution_count": 19,
   "metadata": {},
   "outputs": [],
   "source": [
    "a_list_of_strings = [\"Hello world\", \"Cat got your tongue?\", \"The merry fox jumped over the I forget\"]\n",
    "\n",
    "count = 0\n",
    "for s in a_list_of_strings:\n",
    "    for c in s:\n",
    "        if c == \"C\":\n",
    "            count=count+1\n",
    "\n",
    "my_count_char_dict = count"
   ]
  },
  {
   "cell_type": "code",
   "execution_count": 20,
   "metadata": {},
   "outputs": [
    {
     "name": "stdout",
     "output_type": "stream",
     "text": [
      "1\n"
     ]
    }
   ],
   "source": [
    "print(my_count_char_dict)"
   ]
  },
  {
   "cell_type": "code",
   "execution_count": 21,
   "metadata": {},
   "outputs": [],
   "source": [
    "# Tweak number 1: Change the above code to create one dictionary for each string\n",
    "my_count_char_list_of_dict = []\n",
    "for s in a_list_of_strings:\n",
    "    # TODO Make a new dictionary *this doesnt make any sense... you want to generate a new dictionary for every entry in \"a_list_of_strongs\"? why iterate?\n",
    "\n",
    "    for c in s:\n",
    "\n",
    "        ... # TODO Add character to dictionary, or increment count\n",
    "    # TODO Add dictionary to list"
   ]
  },
  {
   "cell_type": "code",
   "execution_count": 22,
   "metadata": {},
   "outputs": [
    {
     "name": "stdout",
     "output_type": "stream",
     "text": [
      "Cat got your tongue?\n"
     ]
    }
   ],
   "source": [
    "# Tweak number 2: Use the dictionaries to find which string has the letter \"C\" in it\n",
    "for d in a_list_of_strings:\n",
    "    for c in d:\n",
    "        if c==\"C\": \n",
    "            print(d)\n",
    "    "
   ]
  },
  {
   "cell_type": "markdown",
   "metadata": {},
   "source": [
    "# Answers"
   ]
  },
  {
   "cell_type": "markdown",
   "metadata": {},
   "source": [
    "## Example 1"
   ]
  },
  {
   "cell_type": "code",
   "execution_count": 23,
   "metadata": {},
   "outputs": [],
   "source": [
    "def make_stats_dict(in_list):\n",
    "    \"\"\" Calculate some statistics on the list and store the values in a dictionary\n",
    "    @param in_list - a numpy array\n",
    "    @return dict_stats - a dictionary with various statistical values stored in it\"\"\"\n",
    "    my_dict = {}\n",
    "    my_dict[\"Sum\"] = np.sum(in_list)\n",
    "    my_dict[\"Min\"] = np.min(in_list)\n",
    "    my_dict[\"Mean\"] = np.mean(in_list)\n",
    "\n",
    "    # Do some stats calculations, store in dictionary\n",
    "    return my_dict"
   ]
  },
  {
   "cell_type": "code",
   "execution_count": 24,
   "metadata": {},
   "outputs": [
    {
     "name": "stdout",
     "output_type": "stream",
     "text": [
      "Stat type Sum has value 5077.938422830002\n",
      "Stat type Min has value -3.7542444822939287\n",
      "Stat type Mean has value 253.89692114150012\n"
     ]
    }
   ],
   "source": [
    "# Now use the function\n",
    "my_array_of_random_numbers = np.random.uniform(-5, 500, 20)\n",
    "my_dict = make_stats_dict(my_array_of_random_numbers)\n",
    "for k, v in my_dict.items():\n",
    "    print(f\"Stat type {k} has value {v}\")"
   ]
  },
  {
   "cell_type": "markdown",
   "metadata": {},
   "source": [
    "## Example 2"
   ]
  },
  {
   "cell_type": "code",
   "execution_count": 25,
   "metadata": {},
   "outputs": [
    {
     "name": "stdout",
     "output_type": "stream",
     "text": [
      "Character counts:\n",
      "{'H': 1, 'e': 8, 'l': 3, 'o': 8, ' ': 11, 'w': 1, 'r': 6, 'd': 2, 'C': 1, 'a': 1, 't': 5, 'g': 3, 'y': 2, 'u': 3, 'n': 1, '?': 1, 'T': 1, 'h': 2, 'm': 2, 'f': 2, 'x': 1, 'j': 1, 'p': 1, 'v': 1, 'I': 1}\n"
     ]
    }
   ],
   "source": [
    "a_list_of_strings = [\"Hello world\", \"Cat got your tongue?\", \"The merry fox jumped over the I forget\"]\n",
    "my_count_char_dict = {}\n",
    "for s in a_list_of_strings:\n",
    "    for c in s:\n",
    "        # Add character to dictionary, or increment count\n",
    "        if c in my_count_char_dict:\n",
    "            my_count_char_dict[c] += 1\n",
    "        else:\n",
    "            my_count_char_dict[c] = 1\n",
    "print(\"Character counts:\")\n",
    "print(my_count_char_dict)"
   ]
  },
  {
   "cell_type": "markdown",
   "metadata": {},
   "source": [
    "### Tweak 1"
   ]
  },
  {
   "cell_type": "code",
   "execution_count": 26,
   "metadata": {},
   "outputs": [
    {
     "name": "stdout",
     "output_type": "stream",
     "text": [
      "Character counts by string:\n",
      "[{'H': 1, 'e': 1, 'l': 3, 'o': 2, ' ': 1, 'w': 1, 'r': 1, 'd': 1}, {'C': 1, 'a': 1, 't': 3, ' ': 3, 'g': 2, 'o': 3, 'y': 1, 'u': 2, 'r': 1, 'n': 1, 'e': 1, '?': 1}, {'T': 1, 'h': 2, 'e': 6, ' ': 7, 'm': 2, 'r': 4, 'y': 1, 'f': 2, 'o': 3, 'x': 1, 'j': 1, 'u': 1, 'p': 1, 'd': 1, 'v': 1, 't': 2, 'I': 1, 'g': 1}]\n"
     ]
    }
   ],
   "source": [
    "my_count_char_list_of_dict = []\n",
    "for s in a_list_of_strings:\n",
    "    # Make a new dictionary\n",
    "    my_str_dict = {}\n",
    "    for c in s:\n",
    "        # Add character to dictionary, or increment count\n",
    "        if c in my_str_dict:\n",
    "            my_str_dict[c] += 1\n",
    "        else:\n",
    "            my_str_dict[c] = 1\n",
    "    # Add dictionary to list\n",
    "    my_count_char_list_of_dict.append(my_str_dict)\n",
    "\n",
    "print(\"Character counts by string:\")\n",
    "print(my_count_char_list_of_dict)"
   ]
  },
  {
   "cell_type": "markdown",
   "metadata": {},
   "source": [
    "## Tweak 2"
   ]
  },
  {
   "cell_type": "code",
   "execution_count": 27,
   "metadata": {},
   "outputs": [
    {
     "name": "stdout",
     "output_type": "stream",
     "text": [
      "Found C in string Cat got your tongue?\n"
     ]
    }
   ],
   "source": [
    "for i, d in enumerate(my_count_char_list_of_dict):\n",
    "    # See if C in dictionary\n",
    "    if \"C\" in d:\n",
    "        print(f\"Found C in string {a_list_of_strings[i]}\")"
   ]
  }
 ],
 "metadata": {
  "kernelspec": {
   "display_name": "Python 3",
   "language": "python",
   "name": "python3"
  },
  "language_info": {
   "codemirror_mode": {
    "name": "ipython",
    "version": 3
   },
   "file_extension": ".py",
   "mimetype": "text/x-python",
   "name": "python",
   "nbconvert_exporter": "python",
   "pygments_lexer": "ipython3",
   "version": "3.11.5"
  }
 },
 "nbformat": 4,
 "nbformat_minor": 2
}
