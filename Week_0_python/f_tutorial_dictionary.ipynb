{
 "cells": [
  {
   "cell_type": "markdown",
   "metadata": {},
   "source": [
    "# What are dictionaries?\n",
    "\n",
    "Dictionaries are values (pretty much any data structure/variable type you can think of) paired with keys (unique identifiers). Common key types are integers and strings. The best mental image for dictionaries are: I have a bunch of items that I can identify with a unique name (key/identifier). I want to be able to put them into the dictionary and get them back out again quickly and efficiently, using that unique name (key/identifier).\n",
    "\n",
    "What you can do with a dictionary:\n",
    " - Check if an item is in the dictionary\n",
    " - Put an item in/take it out\n",
    " - Loop over all of the items (or the keys) - CAVEAT: Not guaranteed to be in the order you put them in for older versions of Python...\n",
    "\n",
    "All of these operations are very fast - much faster than, say, searching through a list to see if an item is in the list"
   ]
  },
  {
   "cell_type": "markdown",
   "metadata": {},
   "source": [
    "There are two really common uses for dictionaries. The first is just as a way to store a collection of related data\n",
    "with human-understandable names. The second use is as an \"I've seen this, y/n\" counting mechanism.\n",
    "\n",
    "For both of these examples we'll create the dictionaries from lists, since it's easier to make a self-contained example that way. However, you should think of those \"lists\" as being data read in from a file, data created by a function, etc\n",
    "\n",
    "BTW, The classical example use-case for dictionaries is storing student information using their student ID.\n",
    "\n",
    "Creating a dictionary: Like lists, you can create a dictionary \"by hand\", or by doing the equivalent of an append."
   ]
  },
  {
   "cell_type": "markdown",
   "metadata": {},
   "source": [
    "## Example 1a: Store a collection of data, one dictionary, one data pile.\n",
    "\n",
    "TODO\n",
    "- Try using something besides a string for the key (like a number)\n",
    "- Try adding in an additional key, value pair to the existing dictionary my_dict[\"key\"] = \"value\""
   ]
  },
  {
   "cell_type": "code",
   "execution_count": 3,
   "metadata": {},
   "outputs": [],
   "source": [
    "import numpy as np"
   ]
  },
  {
   "cell_type": "code",
   "execution_count": 4,
   "metadata": {},
   "outputs": [],
   "source": [
    "# Make-up some data\n",
    "my_array_of_random_numbers = np.random.uniform(-5, 500, 20)"
   ]
  },
  {
   "cell_type": "code",
   "execution_count": 5,
   "metadata": {},
   "outputs": [],
   "source": [
    "# The keys for this dictionary are the strings before the :, the values are the things on the right of the :\n",
    "my_dict = {\"Data\": my_array_of_random_numbers,\n",
    "           \"Name\": \"Cool name\",\n",
    "           \"Mean\": np.mean(my_array_of_random_numbers),\n",
    "           \"Sum\": np.sum(my_array_of_random_numbers),\n",
    "           \"Accessed\": 0,\n",
    "           \"Date\": \"3/11/2022\"}"
   ]
  },
  {
   "cell_type": "code",
   "execution_count": 6,
   "metadata": {},
   "outputs": [
    {
     "name": "stdout",
     "output_type": "stream",
     "text": [
      "My dictionary:\n",
      " {'Data': array([ -3.57052041, 194.7872047 , 387.11674756, 237.69379263,\n",
      "       177.26658207,   7.73767989, 154.89529333, 412.98169609,\n",
      "        13.21772008, 314.66948051, 111.29831434, 240.26872266,\n",
      "       186.01847129, 292.58932692,  92.19758429, 356.26079787,\n",
      "        87.67798299, 300.04133963, 275.08056167, 198.26623183]), 'Name': 'Cool name', 'Mean': 201.824750497902, 'Sum': 4036.4950099580396, 'Accessed': 0, 'Date': '3/11/2022'}\n"
     ]
    }
   ],
   "source": [
    "# What does this look like if I print it out?\n",
    "# Note that prints out pretty much with the same format you make it in\n",
    "print(f\"My dictionary:\\n {my_dict}\")"
   ]
  },
  {
   "cell_type": "code",
   "execution_count": 7,
   "metadata": {},
   "outputs": [],
   "source": [
    "# We can add more items to the dictionary like this:\n",
    "my_dict[\"Date analyzed\"] = \"4/11/2022\""
   ]
  },
  {
   "cell_type": "code",
   "execution_count": 19,
   "metadata": {},
   "outputs": [
    {
     "name": "stdout",
     "output_type": "stream",
     "text": [
      "Sum is in the dictionary, value 4036.4950099580396\n"
     ]
    }
   ],
   "source": [
    "# You can check if a key is in the dictionary like this\n",
    "if \"Sum\" in my_dict:\n",
    "    print(f\"Sum is in the dictionary, value {my_dict['Sum']}\")"
   ]
  },
  {
   "cell_type": "code",
   "execution_count": 9,
   "metadata": {},
   "outputs": [
    {
     "name": "stdout",
     "output_type": "stream",
     "text": [
      "Found sum, value 4036.4950099580396\n"
     ]
    }
   ],
   "source": [
    "# [For illustration purposes only - do not do this] Loop through all the keys and see if one of them is Sum\n",
    "for k in my_dict.keys():\n",
    "    if k == \"Sum\":\n",
    "        print(f\"Found sum, value {my_dict['Sum']}\")"
   ]
  },
  {
   "cell_type": "code",
   "execution_count": 10,
   "metadata": {},
   "outputs": [
    {
     "name": "stdout",
     "output_type": "stream",
     "text": [
      "My dictionary, Accessed value before: 0\n",
      " ... and after: 1\n"
     ]
    }
   ],
   "source": [
    "# And we can get out an element and edit it like this (add one to Accessed):\n",
    "print(f\"My dictionary, Accessed value before: {my_dict['Accessed']}\")\n",
    "my_dict[\"Accessed\"] = my_dict[\"Accessed\"] + 1\n",
    "print(f\" ... and after: {my_dict['Accessed']}\")"
   ]
  },
  {
   "cell_type": "markdown",
   "metadata": {},
   "source": [
    "## Example 1b: Typical student record example\n",
    "Store the same data for a bunch of different companies. Using companies instead of student record, but same idea.\n",
    "Two examples here, they do the same thing, just different ways to implement\n",
    "\n",
    "TODO\n",
    "- Add another key, value pair to the dictionary"
   ]
  },
  {
   "cell_type": "code",
   "execution_count": 12,
   "metadata": {},
   "outputs": [],
   "source": [
    "# Make up some data\n",
    "my_names = [\"Amazon\", \"Google\", \"Meta\", \"Tiktoc\"]\n",
    "my_sales_figs = [1.1, 2.2, 1.3, 0.1]  # made up numbers\n",
    "my_number_employees = [100, 20, 10, 1]"
   ]
  },
  {
   "cell_type": "code",
   "execution_count": 13,
   "metadata": {},
   "outputs": [],
   "source": [
    "# Build a list with dictionary elements from those lists - version 1\n",
    "my_company_list = [{} for _ in range(0, len(my_names))]  # Empty list of dictionaries\n",
    "for i, n in enumerate(my_names):\n",
    "    my_company_list[i][\"name\"] = n\n",
    "    my_company_list[i][\"sales\"] = my_sales_figs[i]\n",
    "    my_company_list[i][\"employees\"] = my_number_employees[i]"
   ]
  },
  {
   "cell_type": "code",
   "execution_count": 14,
   "metadata": {},
   "outputs": [
    {
     "name": "stdout",
     "output_type": "stream",
     "text": [
      "My company list, v1\n",
      "[{'name': 'Amazon', 'sales': 1.1, 'employees': 100}, {'name': 'Google', 'sales': 2.2, 'employees': 20}, {'name': 'Meta', 'sales': 1.3, 'employees': 10}, {'name': 'Tiktoc', 'sales': 0.1, 'employees': 1}]\n"
     ]
    }
   ],
   "source": [
    "print(\"My company list, v1\")\n",
    "print(my_company_list)"
   ]
  },
  {
   "cell_type": "code",
   "execution_count": 17,
   "metadata": {},
   "outputs": [],
   "source": [
    "# Build a list with dictionary elements from those lists - version 2\n",
    "my_company_list_v2 = []  # Empty list\n",
    "for i, n in enumerate(my_names):\n",
    "    my_company_dict = {}  # Empty dictionary\n",
    "    my_company_dict[\"name\"] = n\n",
    "    my_company_dict[\"sales\"] = my_sales_figs[i]\n",
    "    my_company_dict[\"employees\"] = my_number_employees[i]\n",
    "\n",
    "    # Add dictionary to list\n",
    "    my_company_list_v2.append(my_company_dict)"
   ]
  },
  {
   "cell_type": "code",
   "execution_count": 18,
   "metadata": {},
   "outputs": [
    {
     "name": "stdout",
     "output_type": "stream",
     "text": [
      "My company list, v2\n",
      "[{'name': 'Amazon', 'sales': 1.1, 'employees': 100}, {'name': 'Google', 'sales': 2.2, 'employees': 20}, {'name': 'Meta', 'sales': 1.3, 'employees': 10}, {'name': 'Tiktoc', 'sales': 0.1, 'employees': 1}]\n"
     ]
    }
   ],
   "source": [
    "print(\"My company list, v2\")\n",
    "print(my_company_list_v2)"
   ]
  },
  {
   "cell_type": "markdown",
   "metadata": {},
   "source": [
    "## Example 2: Counting\n",
    "\n",
    "Go through the list of random numbers and count how many of each number (rounded down) we have.\n",
    "Note that this is such a common thing to do that Python has a built-in way to do it - see\n",
    " https://docs.python.org/3/library/collections.html"
   ]
  },
  {
   "cell_type": "code",
   "execution_count": 1,
   "metadata": {},
   "outputs": [
    {
     "ename": "NameError",
     "evalue": "name 'np' is not defined",
     "output_type": "error",
     "traceback": [
      "\u001b[1;31m---------------------------------------------------------------------------\u001b[0m",
      "\u001b[1;31mNameError\u001b[0m                                 Traceback (most recent call last)",
      "Cell \u001b[1;32mIn[1], line 2\u001b[0m\n\u001b[0;32m      1\u001b[0m \u001b[38;5;66;03m# Making an array of integer values - can't use floating points as keys\u001b[39;00m\n\u001b[1;32m----> 2\u001b[0m my_array_of_random_numbers \u001b[38;5;241m=\u001b[39m np\u001b[38;5;241m.\u001b[39mround(np\u001b[38;5;241m.\u001b[39mrandom\u001b[38;5;241m.\u001b[39muniform(\u001b[38;5;241m-\u001b[39m\u001b[38;5;241m5\u001b[39m, \u001b[38;5;241m5\u001b[39m, \u001b[38;5;241m20\u001b[39m))\n\u001b[0;32m      3\u001b[0m my_count_vals_dict \u001b[38;5;241m=\u001b[39m {}  \u001b[38;5;66;03m# Empty dictionary\u001b[39;00m\n\u001b[0;32m      5\u001b[0m \u001b[38;5;28;01mfor\u001b[39;00m n \u001b[38;5;129;01min\u001b[39;00m my_array_of_random_numbers:\n",
      "\u001b[1;31mNameError\u001b[0m: name 'np' is not defined"
     ]
    }
   ],
   "source": [
    "# Making an array of integer values - can't use floating points as keys\n",
    "my_array_of_random_numbers = np.round(np.random.uniform(-5, 5, 20))\n",
    "my_count_vals_dict = {}  # Empty dictionary\n",
    "\n",
    "for n in my_array_of_random_numbers:\n",
    "    if n in my_count_vals_dict:\n",
    "        my_count_vals_dict[n] += 1   # Add one to the dictionary entry\n",
    "    else:\n",
    "        my_count_vals_dict[n] = 1    # Make the dictionary entry\n",
    "\n",
    "print(my_count_vals_dict)"
   ]
  },
  {
   "cell_type": "code",
   "execution_count": null,
   "metadata": {},
   "outputs": [],
   "source": [
    "# Print out the sums - notice k, v\n",
    "for k, v in my_count_vals_dict.items():\n",
    "    print(f\"Key {k} showed up {v} times\")"
   ]
  },
  {
   "cell_type": "code",
   "execution_count": null,
   "metadata": {},
   "outputs": [],
   "source": [
    "# [Optional: The python way]\n",
    "my_count_vals_dict = {}  # Empty dictionary\n",
    "for n in my_array_of_random_numbers:\n",
    "    try:\n",
    "        my_count_vals_dict[n] += 1   # Add one to the dictionary entry\n",
    "    except KeyError:\n",
    "        my_count_vals_dict[n] = 1    # Make the dictionary entry"
   ]
  },
  {
   "cell_type": "code",
   "execution_count": null,
   "metadata": {},
   "outputs": [],
   "source": [
    "# Print out the sums - notice k, v\n",
    "for k, v in my_count_vals_dict.items():\n",
    "    print(f\"Key {k} showed up {v} times\")"
   ]
  },
  {
   "cell_type": "markdown",
   "metadata": {},
   "source": [
    "# Gotchas"
   ]
  },
  {
   "cell_type": "markdown",
   "metadata": {},
   "source": [
    "## Gotcha 1: Key versus value in a for loop\n",
    "\n",
    "Dictionaries have got keys AND values - you can loop over keys, values, or both together. The default is to loop over keys, since you can always get the values out FROM the keys.\n",
    "\n",
    "The usual gotcha is that you loop over keys and expect the values... Here are the three examples:\n",
    "\n",
    "TODO:\n",
    "- try to predict what the loop will print out BEFORE you run it"
   ]
  },
  {
   "cell_type": "code",
   "execution_count": null,
   "metadata": {},
   "outputs": [],
   "source": [
    "# This is the default, but can't hurt to specify keys so you won't forget...\n",
    "print(\"Default behavior\")\n",
    "for k in my_dict:\n",
    "    print(f\"From key {k} get the value {my_dict[k]}\")"
   ]
  },
  {
   "cell_type": "code",
   "execution_count": null,
   "metadata": {},
   "outputs": [],
   "source": [
    "# ... letting the reader know that you are just getting keys\n",
    "print(\"Loop through keys\")\n",
    "for k in my_dict.keys():\n",
    "    print(f\"From key {k} get the value {my_dict[k]}\")"
   ]
  },
  {
   "cell_type": "code",
   "execution_count": null,
   "metadata": {},
   "outputs": [],
   "source": [
    "# If you just want the values and don't care about the keys\n",
    "print(\"Loop through values\")\n",
    "for v in my_dict.values():\n",
    "    print(f\"Value only, can't get key: {v}\")"
   ]
  },
  {
   "cell_type": "code",
   "execution_count": null,
   "metadata": {},
   "outputs": [],
   "source": [
    "# If you want both... - just remember which order these are returned in!\n",
    "print(\"Loop through both\")\n",
    "for k, v in my_dict.items():\n",
    "    print(f\"Got key {k} and value {v}\")"
   ]
  },
  {
   "cell_type": "markdown",
   "metadata": {},
   "source": [
    "## Gotcha 2: Older versions of Python (pre 3.7)\n",
    "\n",
    "In older versions of Python the dictionary was not guaranteed to be ordered, i.e., things might come out in a different order than they went in... Look at the for loops above: If you are running a later version of Python the keys come out in the order we put them in: Data, Name, Mean, Sum, Accessed, Date, Date analzed. In older versions, this is not guaranteed unless you specifically ask for an ordered dictionary..."
   ]
  },
  {
   "cell_type": "markdown",
   "metadata": {},
   "source": [
    "## Gotcha 3: Accessing a key value that isn't there\n",
    "\n",
    "This throws the following error:\n",
    " - KeyError: 'sum'\n",
    "\n",
    "but it's usually confusing because you think it should be there, but it's not OR you're doing an access and not realizing it. EG, in this example \"Sum\" is the correct key, but I forgot to capitalize it. AND doing a += 1 first accesses the key, then assigns it, even though it looks like an assignment\n",
    "\n",
    "TODO\n",
    "- generate an error by accessing a key that isn't in there"
   ]
  },
  {
   "cell_type": "code",
   "execution_count": null,
   "metadata": {},
   "outputs": [],
   "source": [
    "my_dict[\"sum\"] += 1"
   ]
  }
 ],
 "metadata": {
  "kernelspec": {
   "display_name": "Python 3 (ipykernel)",
   "language": "python",
   "name": "python3"
  },
  "language_info": {
   "codemirror_mode": {
    "name": "ipython",
    "version": 3
   },
   "file_extension": ".py",
   "mimetype": "text/x-python",
   "name": "python",
   "nbconvert_exporter": "python",
   "pygments_lexer": "ipython3",
   "version": "3.11.5"
  }
 },
 "nbformat": 4,
 "nbformat_minor": 2
}
